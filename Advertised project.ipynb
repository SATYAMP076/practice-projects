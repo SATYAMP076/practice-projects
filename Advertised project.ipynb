{
 "cells": [
  {
   "cell_type": "code",
   "execution_count": 2,
   "id": "90e3d3e0",
   "metadata": {},
   "outputs": [],
   "source": [
    "import pandas as pd\n",
    "import numpy as np\n",
    "import matplotlib.pyplot as plt\n",
    "import seaborn as sns\n",
    "%matplotlib inline\n",
    "import warnings\n",
    "warnings.filterwarnings('ignore')"
   ]
  },
  {
   "cell_type": "code",
   "execution_count": 3,
   "id": "6d398cda",
   "metadata": {},
   "outputs": [
    {
     "data": {
      "text/html": [
       "<div>\n",
       "<style scoped>\n",
       "    .dataframe tbody tr th:only-of-type {\n",
       "        vertical-align: middle;\n",
       "    }\n",
       "\n",
       "    .dataframe tbody tr th {\n",
       "        vertical-align: top;\n",
       "    }\n",
       "\n",
       "    .dataframe thead th {\n",
       "        text-align: right;\n",
       "    }\n",
       "</style>\n",
       "<table border=\"1\" class=\"dataframe\">\n",
       "  <thead>\n",
       "    <tr style=\"text-align: right;\">\n",
       "      <th></th>\n",
       "      <th>Unnamed: 0</th>\n",
       "      <th>TV</th>\n",
       "      <th>radio</th>\n",
       "      <th>newspaper</th>\n",
       "      <th>sales</th>\n",
       "    </tr>\n",
       "  </thead>\n",
       "  <tbody>\n",
       "    <tr>\n",
       "      <th>0</th>\n",
       "      <td>1</td>\n",
       "      <td>230.1</td>\n",
       "      <td>37.8</td>\n",
       "      <td>69.2</td>\n",
       "      <td>22.1</td>\n",
       "    </tr>\n",
       "    <tr>\n",
       "      <th>1</th>\n",
       "      <td>2</td>\n",
       "      <td>44.5</td>\n",
       "      <td>39.3</td>\n",
       "      <td>45.1</td>\n",
       "      <td>10.4</td>\n",
       "    </tr>\n",
       "    <tr>\n",
       "      <th>2</th>\n",
       "      <td>3</td>\n",
       "      <td>17.2</td>\n",
       "      <td>45.9</td>\n",
       "      <td>69.3</td>\n",
       "      <td>9.3</td>\n",
       "    </tr>\n",
       "    <tr>\n",
       "      <th>3</th>\n",
       "      <td>4</td>\n",
       "      <td>151.5</td>\n",
       "      <td>41.3</td>\n",
       "      <td>58.5</td>\n",
       "      <td>18.5</td>\n",
       "    </tr>\n",
       "    <tr>\n",
       "      <th>4</th>\n",
       "      <td>5</td>\n",
       "      <td>180.8</td>\n",
       "      <td>10.8</td>\n",
       "      <td>58.4</td>\n",
       "      <td>12.9</td>\n",
       "    </tr>\n",
       "    <tr>\n",
       "      <th>...</th>\n",
       "      <td>...</td>\n",
       "      <td>...</td>\n",
       "      <td>...</td>\n",
       "      <td>...</td>\n",
       "      <td>...</td>\n",
       "    </tr>\n",
       "    <tr>\n",
       "      <th>195</th>\n",
       "      <td>196</td>\n",
       "      <td>38.2</td>\n",
       "      <td>3.7</td>\n",
       "      <td>13.8</td>\n",
       "      <td>7.6</td>\n",
       "    </tr>\n",
       "    <tr>\n",
       "      <th>196</th>\n",
       "      <td>197</td>\n",
       "      <td>94.2</td>\n",
       "      <td>4.9</td>\n",
       "      <td>8.1</td>\n",
       "      <td>9.7</td>\n",
       "    </tr>\n",
       "    <tr>\n",
       "      <th>197</th>\n",
       "      <td>198</td>\n",
       "      <td>177.0</td>\n",
       "      <td>9.3</td>\n",
       "      <td>6.4</td>\n",
       "      <td>12.8</td>\n",
       "    </tr>\n",
       "    <tr>\n",
       "      <th>198</th>\n",
       "      <td>199</td>\n",
       "      <td>283.6</td>\n",
       "      <td>42.0</td>\n",
       "      <td>66.2</td>\n",
       "      <td>25.5</td>\n",
       "    </tr>\n",
       "    <tr>\n",
       "      <th>199</th>\n",
       "      <td>200</td>\n",
       "      <td>232.1</td>\n",
       "      <td>8.6</td>\n",
       "      <td>8.7</td>\n",
       "      <td>13.4</td>\n",
       "    </tr>\n",
       "  </tbody>\n",
       "</table>\n",
       "<p>200 rows × 5 columns</p>\n",
       "</div>"
      ],
      "text/plain": [
       "     Unnamed: 0     TV  radio  newspaper  sales\n",
       "0             1  230.1   37.8       69.2   22.1\n",
       "1             2   44.5   39.3       45.1   10.4\n",
       "2             3   17.2   45.9       69.3    9.3\n",
       "3             4  151.5   41.3       58.5   18.5\n",
       "4             5  180.8   10.8       58.4   12.9\n",
       "..          ...    ...    ...        ...    ...\n",
       "195         196   38.2    3.7       13.8    7.6\n",
       "196         197   94.2    4.9        8.1    9.7\n",
       "197         198  177.0    9.3        6.4   12.8\n",
       "198         199  283.6   42.0       66.2   25.5\n",
       "199         200  232.1    8.6        8.7   13.4\n",
       "\n",
       "[200 rows x 5 columns]"
      ]
     },
     "execution_count": 3,
     "metadata": {},
     "output_type": "execute_result"
    }
   ],
   "source": [
    "df=pd.read_csv('https://raw.githubusercontent.com/dsrscientist/DSData/master/Advertising.csv')\n",
    "df"
   ]
  },
  {
   "cell_type": "code",
   "execution_count": 4,
   "id": "fd5e837a",
   "metadata": {},
   "outputs": [
    {
     "data": {
      "text/html": [
       "<div>\n",
       "<style scoped>\n",
       "    .dataframe tbody tr th:only-of-type {\n",
       "        vertical-align: middle;\n",
       "    }\n",
       "\n",
       "    .dataframe tbody tr th {\n",
       "        vertical-align: top;\n",
       "    }\n",
       "\n",
       "    .dataframe thead th {\n",
       "        text-align: right;\n",
       "    }\n",
       "</style>\n",
       "<table border=\"1\" class=\"dataframe\">\n",
       "  <thead>\n",
       "    <tr style=\"text-align: right;\">\n",
       "      <th></th>\n",
       "      <th>Unnamed: 0</th>\n",
       "      <th>TV</th>\n",
       "      <th>radio</th>\n",
       "      <th>newspaper</th>\n",
       "      <th>sales</th>\n",
       "    </tr>\n",
       "  </thead>\n",
       "  <tbody>\n",
       "    <tr>\n",
       "      <th>0</th>\n",
       "      <td>1</td>\n",
       "      <td>230.1</td>\n",
       "      <td>37.8</td>\n",
       "      <td>69.2</td>\n",
       "      <td>22.1</td>\n",
       "    </tr>\n",
       "    <tr>\n",
       "      <th>1</th>\n",
       "      <td>2</td>\n",
       "      <td>44.5</td>\n",
       "      <td>39.3</td>\n",
       "      <td>45.1</td>\n",
       "      <td>10.4</td>\n",
       "    </tr>\n",
       "    <tr>\n",
       "      <th>2</th>\n",
       "      <td>3</td>\n",
       "      <td>17.2</td>\n",
       "      <td>45.9</td>\n",
       "      <td>69.3</td>\n",
       "      <td>9.3</td>\n",
       "    </tr>\n",
       "    <tr>\n",
       "      <th>3</th>\n",
       "      <td>4</td>\n",
       "      <td>151.5</td>\n",
       "      <td>41.3</td>\n",
       "      <td>58.5</td>\n",
       "      <td>18.5</td>\n",
       "    </tr>\n",
       "    <tr>\n",
       "      <th>4</th>\n",
       "      <td>5</td>\n",
       "      <td>180.8</td>\n",
       "      <td>10.8</td>\n",
       "      <td>58.4</td>\n",
       "      <td>12.9</td>\n",
       "    </tr>\n",
       "  </tbody>\n",
       "</table>\n",
       "</div>"
      ],
      "text/plain": [
       "   Unnamed: 0     TV  radio  newspaper  sales\n",
       "0           1  230.1   37.8       69.2   22.1\n",
       "1           2   44.5   39.3       45.1   10.4\n",
       "2           3   17.2   45.9       69.3    9.3\n",
       "3           4  151.5   41.3       58.5   18.5\n",
       "4           5  180.8   10.8       58.4   12.9"
      ]
     },
     "execution_count": 4,
     "metadata": {},
     "output_type": "execute_result"
    }
   ],
   "source": [
    "df.head()"
   ]
  },
  {
   "cell_type": "code",
   "execution_count": 5,
   "id": "03c07aac",
   "metadata": {},
   "outputs": [
    {
     "data": {
      "text/html": [
       "<div>\n",
       "<style scoped>\n",
       "    .dataframe tbody tr th:only-of-type {\n",
       "        vertical-align: middle;\n",
       "    }\n",
       "\n",
       "    .dataframe tbody tr th {\n",
       "        vertical-align: top;\n",
       "    }\n",
       "\n",
       "    .dataframe thead th {\n",
       "        text-align: right;\n",
       "    }\n",
       "</style>\n",
       "<table border=\"1\" class=\"dataframe\">\n",
       "  <thead>\n",
       "    <tr style=\"text-align: right;\">\n",
       "      <th></th>\n",
       "      <th>Unnamed: 0</th>\n",
       "      <th>TV</th>\n",
       "      <th>radio</th>\n",
       "      <th>newspaper</th>\n",
       "      <th>sales</th>\n",
       "    </tr>\n",
       "  </thead>\n",
       "  <tbody>\n",
       "    <tr>\n",
       "      <th>195</th>\n",
       "      <td>196</td>\n",
       "      <td>38.2</td>\n",
       "      <td>3.7</td>\n",
       "      <td>13.8</td>\n",
       "      <td>7.6</td>\n",
       "    </tr>\n",
       "    <tr>\n",
       "      <th>196</th>\n",
       "      <td>197</td>\n",
       "      <td>94.2</td>\n",
       "      <td>4.9</td>\n",
       "      <td>8.1</td>\n",
       "      <td>9.7</td>\n",
       "    </tr>\n",
       "    <tr>\n",
       "      <th>197</th>\n",
       "      <td>198</td>\n",
       "      <td>177.0</td>\n",
       "      <td>9.3</td>\n",
       "      <td>6.4</td>\n",
       "      <td>12.8</td>\n",
       "    </tr>\n",
       "    <tr>\n",
       "      <th>198</th>\n",
       "      <td>199</td>\n",
       "      <td>283.6</td>\n",
       "      <td>42.0</td>\n",
       "      <td>66.2</td>\n",
       "      <td>25.5</td>\n",
       "    </tr>\n",
       "    <tr>\n",
       "      <th>199</th>\n",
       "      <td>200</td>\n",
       "      <td>232.1</td>\n",
       "      <td>8.6</td>\n",
       "      <td>8.7</td>\n",
       "      <td>13.4</td>\n",
       "    </tr>\n",
       "  </tbody>\n",
       "</table>\n",
       "</div>"
      ],
      "text/plain": [
       "     Unnamed: 0     TV  radio  newspaper  sales\n",
       "195         196   38.2    3.7       13.8    7.6\n",
       "196         197   94.2    4.9        8.1    9.7\n",
       "197         198  177.0    9.3        6.4   12.8\n",
       "198         199  283.6   42.0       66.2   25.5\n",
       "199         200  232.1    8.6        8.7   13.4"
      ]
     },
     "execution_count": 5,
     "metadata": {},
     "output_type": "execute_result"
    }
   ],
   "source": [
    "df.tail()"
   ]
  },
  {
   "cell_type": "code",
   "execution_count": 6,
   "id": "86f21e4f",
   "metadata": {},
   "outputs": [
    {
     "data": {
      "text/plain": [
       "(200, 5)"
      ]
     },
     "execution_count": 6,
     "metadata": {},
     "output_type": "execute_result"
    }
   ],
   "source": [
    "df.shape"
   ]
  },
  {
   "cell_type": "markdown",
   "id": "b689c318",
   "metadata": {},
   "source": [
    "# Checking null values"
   ]
  },
  {
   "cell_type": "code",
   "execution_count": 7,
   "id": "b5c43484",
   "metadata": {},
   "outputs": [
    {
     "data": {
      "text/plain": [
       "Unnamed: 0    0\n",
       "TV            0\n",
       "radio         0\n",
       "newspaper     0\n",
       "sales         0\n",
       "dtype: int64"
      ]
     },
     "execution_count": 7,
     "metadata": {},
     "output_type": "execute_result"
    }
   ],
   "source": [
    "df.isnull().sum()"
   ]
  },
  {
   "cell_type": "code",
   "execution_count": 8,
   "id": "57876e41",
   "metadata": {},
   "outputs": [
    {
     "data": {
      "text/plain": [
       "<AxesSubplot:>"
      ]
     },
     "execution_count": 8,
     "metadata": {},
     "output_type": "execute_result"
    },
    {
     "data": {
      "image/png": "[encoded data removed]",
      "text/plain": [
       "<Figure size 432x288 with 2 Axes>"
      ]
     },
     "metadata": {
      "needs_background": "light"
     },
     "output_type": "display_data"
    }
   ],
   "source": [
    "sns.heatmap(df.isnull())"
   ]
  },
  {
   "cell_type": "markdown",
   "id": "2a574500",
   "metadata": {},
   "source": [
    "Checking duplicates values"
   ]
  },
  {
   "cell_type": "code",
   "execution_count": 9,
   "id": "c81b3512",
   "metadata": {},
   "outputs": [
    {
     "data": {
      "text/plain": [
       "0"
      ]
     },
     "execution_count": 9,
     "metadata": {},
     "output_type": "execute_result"
    }
   ],
   "source": [
    "df.duplicated().sum()"
   ]
  },
  {
   "cell_type": "code",
   "execution_count": 10,
   "id": "df2d8df0",
   "metadata": {},
   "outputs": [
    {
     "name": "stdout",
     "output_type": "stream",
     "text": [
      "<class 'pandas.core.frame.DataFrame'>\n",
      "RangeIndex: 200 entries, 0 to 199\n",
      "Data columns (total 5 columns):\n",
      " #   Column      Non-Null Count  Dtype  \n",
      "---  ------      --------------  -----  \n",
      " 0   Unnamed: 0  200 non-null    int64  \n",
      " 1   TV          200 non-null    float64\n",
      " 2   radio       200 non-null    float64\n",
      " 3   newspaper   200 non-null    float64\n",
      " 4   sales       200 non-null    float64\n",
      "dtypes: float64(4), int64(1)\n",
      "memory usage: 7.9 KB\n"
     ]
    }
   ],
   "source": [
    "df.info()"
   ]
  },
  {
   "cell_type": "markdown",
   "id": "a715e2ac",
   "metadata": {},
   "source": [
    "# Visualization"
   ]
  },
  {
   "cell_type": "code",
   "execution_count": 11,
   "id": "532db31b",
   "metadata": {},
   "outputs": [
    {
     "data": {
      "image/png": "[encoded data removed]",
      "text/plain": [
       "<Figure size 432x288 with 1 Axes>"
      ]
     },
     "metadata": {
      "needs_background": "light"
     },
     "output_type": "display_data"
    },
    {
     "data": {
      "image/png": "[encoded data removed]",
      "text/plain": [
       "<Figure size 432x288 with 1 Axes>"
      ]
     },
     "metadata": {
      "needs_background": "light"
     },
     "output_type": "display_data"
    },
    {
     "data": {
      "image/png": "[encoded data removed]",
      "text/plain": [
       "<Figure size 432x288 with 1 Axes>"
      ]
     },
     "metadata": {
      "needs_background": "light"
     },
     "output_type": "display_data"
    },
    {
     "data": {
      "image/png": "[encoded data removed]",
      "text/plain": [
       "<Figure size 432x288 with 1 Axes>"
      ]
     },
     "metadata": {
      "needs_background": "light"
     },
     "output_type": "display_data"
    }
   ],
   "source": [
    "for i in df.columns[1:]:\n",
    "    plt.plot()\n",
    "    sns.scatterplot(df[i],df['sales'],label=i)\n",
    "    plt.legend()\n",
    "    plt.show()"
   ]
  },
  {
   "cell_type": "markdown",
   "id": "5f5777a1",
   "metadata": {},
   "source": [
    "from the above graph sales are linearly increase with Tv and radio advertise but in Tv advertise price also increa with sales"
   ]
  },
  {
   "cell_type": "markdown",
   "id": "25208751",
   "metadata": {},
   "source": [
    "But in radio add cost is low compare to the Tv"
   ]
  },
  {
   "cell_type": "markdown",
   "id": "120e55ca",
   "metadata": {},
   "source": [
    "in newspaper sales must be random and must be high in cost range of 0-60"
   ]
  },
  {
   "cell_type": "code",
   "execution_count": 12,
   "id": "ae79d032",
   "metadata": {},
   "outputs": [
    {
     "data": {
      "image/png": "[encoded data removed]",
      "text/plain": [
       "<Figure size 432x288 with 1 Axes>"
      ]
     },
     "metadata": {
      "needs_background": "light"
     },
     "output_type": "display_data"
    },
    {
     "data": {
      "image/png": "[encoded data removed]",
      "text/plain": [
       "<Figure size 432x288 with 1 Axes>"
      ]
     },
     "metadata": {
      "needs_background": "light"
     },
     "output_type": "display_data"
    },
    {
     "data": {
      "image/png": "[encoded data removed]",
      "text/plain": [
       "<Figure size 432x288 with 1 Axes>"
      ]
     },
     "metadata": {
      "needs_background": "light"
     },
     "output_type": "display_data"
    },
    {
     "data": {
      "image/png": "[encoded data removed]",
      "text/plain": [
       "<Figure size 432x288 with 1 Axes>"
      ]
     },
     "metadata": {
      "needs_background": "light"
     },
     "output_type": "display_data"
    }
   ],
   "source": [
    "for i in df.columns[1:]:\n",
    "    plt.figure()\n",
    "    sns.distplot(df[i],label=i)\n",
    "    plt.legend()\n",
    "    plt.show()\n"
   ]
  },
  {
   "cell_type": "markdown",
   "id": "2fca2fed",
   "metadata": {},
   "source": [
    "From the distribution plot newpaper have some right skewness"
   ]
  },
  {
   "cell_type": "markdown",
   "id": "65fc151a",
   "metadata": {},
   "source": [
    "# Check correlation"
   ]
  },
  {
   "cell_type": "code",
   "execution_count": 13,
   "id": "fb1d03e5",
   "metadata": {},
   "outputs": [
    {
     "data": {
      "text/html": [
       "<div>\n",
       "<style scoped>\n",
       "    .dataframe tbody tr th:only-of-type {\n",
       "        vertical-align: middle;\n",
       "    }\n",
       "\n",
       "    .dataframe tbody tr th {\n",
       "        vertical-align: top;\n",
       "    }\n",
       "\n",
       "    .dataframe thead th {\n",
       "        text-align: right;\n",
       "    }\n",
       "</style>\n",
       "<table border=\"1\" class=\"dataframe\">\n",
       "  <thead>\n",
       "    <tr style=\"text-align: right;\">\n",
       "      <th></th>\n",
       "      <th>Unnamed: 0</th>\n",
       "      <th>TV</th>\n",
       "      <th>radio</th>\n",
       "      <th>newspaper</th>\n",
       "      <th>sales</th>\n",
       "    </tr>\n",
       "  </thead>\n",
       "  <tbody>\n",
       "    <tr>\n",
       "      <th>Unnamed: 0</th>\n",
       "      <td>1.000000</td>\n",
       "      <td>0.017715</td>\n",
       "      <td>-0.110680</td>\n",
       "      <td>-0.154944</td>\n",
       "      <td>-0.051616</td>\n",
       "    </tr>\n",
       "    <tr>\n",
       "      <th>TV</th>\n",
       "      <td>0.017715</td>\n",
       "      <td>1.000000</td>\n",
       "      <td>0.054809</td>\n",
       "      <td>0.056648</td>\n",
       "      <td>0.782224</td>\n",
       "    </tr>\n",
       "    <tr>\n",
       "      <th>radio</th>\n",
       "      <td>-0.110680</td>\n",
       "      <td>0.054809</td>\n",
       "      <td>1.000000</td>\n",
       "      <td>0.354104</td>\n",
       "      <td>0.576223</td>\n",
       "    </tr>\n",
       "    <tr>\n",
       "      <th>newspaper</th>\n",
       "      <td>-0.154944</td>\n",
       "      <td>0.056648</td>\n",
       "      <td>0.354104</td>\n",
       "      <td>1.000000</td>\n",
       "      <td>0.228299</td>\n",
       "    </tr>\n",
       "    <tr>\n",
       "      <th>sales</th>\n",
       "      <td>-0.051616</td>\n",
       "      <td>0.782224</td>\n",
       "      <td>0.576223</td>\n",
       "      <td>0.228299</td>\n",
       "      <td>1.000000</td>\n",
       "    </tr>\n",
       "  </tbody>\n",
       "</table>\n",
       "</div>"
      ],
      "text/plain": [
       "            Unnamed: 0        TV     radio  newspaper     sales\n",
       "Unnamed: 0    1.000000  0.017715 -0.110680  -0.154944 -0.051616\n",
       "TV            0.017715  1.000000  0.054809   0.056648  0.782224\n",
       "radio        -0.110680  0.054809  1.000000   0.354104  0.576223\n",
       "newspaper    -0.154944  0.056648  0.354104   1.000000  0.228299\n",
       "sales        -0.051616  0.782224  0.576223   0.228299  1.000000"
      ]
     },
     "execution_count": 13,
     "metadata": {},
     "output_type": "execute_result"
    }
   ],
   "source": [
    "df.corr()"
   ]
  },
  {
   "cell_type": "code",
   "execution_count": 14,
   "id": "7c6d1c54",
   "metadata": {},
   "outputs": [
    {
     "data": {
      "text/plain": [
       "<AxesSubplot:>"
      ]
     },
     "execution_count": 14,
     "metadata": {},
     "output_type": "execute_result"
    },
    {
     "data": {
      "image/png": "[encoded data removed]",
      "text/plain": [
       "<Figure size 432x288 with 2 Axes>"
      ]
     },
     "metadata": {
      "needs_background": "light"
     },
     "output_type": "display_data"
    }
   ],
   "source": [
    "sns.heatmap(df.corr(),annot=True,cmap='YlGnBu')"
   ]
  },
  {
   "cell_type": "markdown",
   "id": "b9c4ec3c",
   "metadata": {},
   "source": [
    "from above Tv is highlt corelated with sales\n"
   ]
  },
  {
   "cell_type": "markdown",
   "id": "9bc258c9",
   "metadata": {},
   "source": [
    "newspaper less corelated with sales"
   ]
  },
  {
   "cell_type": "markdown",
   "id": "82da4521",
   "metadata": {},
   "source": [
    "# Statistics"
   ]
  },
  {
   "cell_type": "code",
   "execution_count": 15,
   "id": "9893052b",
   "metadata": {},
   "outputs": [
    {
     "data": {
      "text/html": [
       "<div>\n",
       "<style scoped>\n",
       "    .dataframe tbody tr th:only-of-type {\n",
       "        vertical-align: middle;\n",
       "    }\n",
       "\n",
       "    .dataframe tbody tr th {\n",
       "        vertical-align: top;\n",
       "    }\n",
       "\n",
       "    .dataframe thead th {\n",
       "        text-align: right;\n",
       "    }\n",
       "</style>\n",
       "<table border=\"1\" class=\"dataframe\">\n",
       "  <thead>\n",
       "    <tr style=\"text-align: right;\">\n",
       "      <th></th>\n",
       "      <th>Unnamed: 0</th>\n",
       "      <th>TV</th>\n",
       "      <th>radio</th>\n",
       "      <th>newspaper</th>\n",
       "      <th>sales</th>\n",
       "    </tr>\n",
       "  </thead>\n",
       "  <tbody>\n",
       "    <tr>\n",
       "      <th>count</th>\n",
       "      <td>200.000000</td>\n",
       "      <td>200.000000</td>\n",
       "      <td>200.000000</td>\n",
       "      <td>200.000000</td>\n",
       "      <td>200.000000</td>\n",
       "    </tr>\n",
       "    <tr>\n",
       "      <th>mean</th>\n",
       "      <td>100.500000</td>\n",
       "      <td>147.042500</td>\n",
       "      <td>23.264000</td>\n",
       "      <td>30.554000</td>\n",
       "      <td>14.022500</td>\n",
       "    </tr>\n",
       "    <tr>\n",
       "      <th>std</th>\n",
       "      <td>57.879185</td>\n",
       "      <td>85.854236</td>\n",
       "      <td>14.846809</td>\n",
       "      <td>21.778621</td>\n",
       "      <td>5.217457</td>\n",
       "    </tr>\n",
       "    <tr>\n",
       "      <th>min</th>\n",
       "      <td>1.000000</td>\n",
       "      <td>0.700000</td>\n",
       "      <td>0.000000</td>\n",
       "      <td>0.300000</td>\n",
       "      <td>1.600000</td>\n",
       "    </tr>\n",
       "    <tr>\n",
       "      <th>25%</th>\n",
       "      <td>50.750000</td>\n",
       "      <td>74.375000</td>\n",
       "      <td>9.975000</td>\n",
       "      <td>12.750000</td>\n",
       "      <td>10.375000</td>\n",
       "    </tr>\n",
       "    <tr>\n",
       "      <th>50%</th>\n",
       "      <td>100.500000</td>\n",
       "      <td>149.750000</td>\n",
       "      <td>22.900000</td>\n",
       "      <td>25.750000</td>\n",
       "      <td>12.900000</td>\n",
       "    </tr>\n",
       "    <tr>\n",
       "      <th>75%</th>\n",
       "      <td>150.250000</td>\n",
       "      <td>218.825000</td>\n",
       "      <td>36.525000</td>\n",
       "      <td>45.100000</td>\n",
       "      <td>17.400000</td>\n",
       "    </tr>\n",
       "    <tr>\n",
       "      <th>max</th>\n",
       "      <td>200.000000</td>\n",
       "      <td>296.400000</td>\n",
       "      <td>49.600000</td>\n",
       "      <td>114.000000</td>\n",
       "      <td>27.000000</td>\n",
       "    </tr>\n",
       "  </tbody>\n",
       "</table>\n",
       "</div>"
      ],
      "text/plain": [
       "       Unnamed: 0          TV       radio   newspaper       sales\n",
       "count  200.000000  200.000000  200.000000  200.000000  200.000000\n",
       "mean   100.500000  147.042500   23.264000   30.554000   14.022500\n",
       "std     57.879185   85.854236   14.846809   21.778621    5.217457\n",
       "min      1.000000    0.700000    0.000000    0.300000    1.600000\n",
       "25%     50.750000   74.375000    9.975000   12.750000   10.375000\n",
       "50%    100.500000  149.750000   22.900000   25.750000   12.900000\n",
       "75%    150.250000  218.825000   36.525000   45.100000   17.400000\n",
       "max    200.000000  296.400000   49.600000  114.000000   27.000000"
      ]
     },
     "execution_count": 15,
     "metadata": {},
     "output_type": "execute_result"
    }
   ],
   "source": [
    "df.describe()"
   ]
  },
  {
   "cell_type": "markdown",
   "id": "cf9f8ebc",
   "metadata": {},
   "source": [
    "from the observation in Tv, radio , newspaper have much outliers as well in sales also"
   ]
  },
  {
   "cell_type": "markdown",
   "id": "9dbfa79c",
   "metadata": {},
   "source": [
    "outliers visual"
   ]
  },
  {
   "cell_type": "code",
   "execution_count": 16,
   "id": "5f578ca8",
   "metadata": {
    "scrolled": true
   },
   "outputs": [
    {
     "data": {
      "image/png": "[encoded data removed]",
      "text/plain": [
       "<Figure size 432x288 with 1 Axes>"
      ]
     },
     "metadata": {
      "needs_background": "light"
     },
     "output_type": "display_data"
    },
    {
     "data": {
      "image/png": "[encoded data removed]",
      "text/plain": [
       "<Figure size 432x288 with 1 Axes>"
      ]
     },
     "metadata": {
      "needs_background": "light"
     },
     "output_type": "display_data"
    },
    {
     "data": {
      "image/png": "[encoded data removed]",
      "text/plain": [
       "<Figure size 432x288 with 1 Axes>"
      ]
     },
     "metadata": {
      "needs_background": "light"
     },
     "output_type": "display_data"
    },
    {
     "data": {
      "image/png": "[encoded data removed]",
      "text/plain": [
       "<Figure size 432x288 with 1 Axes>"
      ]
     },
     "metadata": {
      "needs_background": "light"
     },
     "output_type": "display_data"
    }
   ],
   "source": [
    "for i in df.columns[1:]:\n",
    "    plt.plot()\n",
    "    df[i].plot(kind='box')\n",
    "    plt.show()"
   ]
  },
  {
   "cell_type": "markdown",
   "id": "f53497d3",
   "metadata": {},
   "source": [
    "# Check multico-linearity"
   ]
  },
  {
   "cell_type": "code",
   "execution_count": 17,
   "id": "78163e14",
   "metadata": {},
   "outputs": [],
   "source": [
    "from statsmodels.stats.outliers_influence import variance_inflation_factor\n",
    "def valcal():\n",
    "    vif=pd.DataFrame()\n",
    "    vif['vif factors']=[variance_inflation_factor(df.values,i) for i in range(df.shape[1])]\n",
    "    vif['features']=df.columns\n",
    "    print(vif)"
   ]
  },
  {
   "cell_type": "code",
   "execution_count": 18,
   "id": "c3167e1a",
   "metadata": {
    "scrolled": true
   },
   "outputs": [
    {
     "name": "stdout",
     "output_type": "stream",
     "text": [
      "   vif factors    features\n",
      "0     2.921620  Unnamed: 0\n",
      "1    23.749993          TV\n",
      "2    12.959998       radio\n",
      "3     3.159805   newspaper\n",
      "4    61.928836       sales\n"
     ]
    }
   ],
   "source": [
    "valcal()"
   ]
  },
  {
   "cell_type": "markdown",
   "id": "45b98239",
   "metadata": {},
   "source": [
    "from that no linerarity found betweens the columns"
   ]
  },
  {
   "cell_type": "markdown",
   "id": "4e84e46d",
   "metadata": {},
   "source": [
    "# Checking skewness"
   ]
  },
  {
   "cell_type": "code",
   "execution_count": 19,
   "id": "b0181b59",
   "metadata": {},
   "outputs": [
    {
     "data": {
      "text/plain": [
       "Unnamed: 0    0.000000\n",
       "TV           -0.069853\n",
       "radio         0.094175\n",
       "newspaper     0.894720\n",
       "sales         0.407571\n",
       "dtype: float64"
      ]
     },
     "execution_count": 19,
     "metadata": {},
     "output_type": "execute_result"
    }
   ],
   "source": [
    "df.skew()"
   ]
  },
  {
   "cell_type": "markdown",
   "id": "6ecf072b",
   "metadata": {},
   "source": [
    "# Remove outliers"
   ]
  },
  {
   "cell_type": "code",
   "execution_count": 20,
   "id": "12ccf0b7",
   "metadata": {},
   "outputs": [],
   "source": [
    "from scipy.stats import zscore\n",
    "z=np.abs(zscore(df))"
   ]
  },
  {
   "cell_type": "code",
   "execution_count": 21,
   "id": "ed495025",
   "metadata": {},
   "outputs": [
    {
     "name": "stdout",
     "output_type": "stream",
     "text": [
      "(array([ 16, 101], dtype=int64), array([3, 3], dtype=int64))\n"
     ]
    }
   ],
   "source": [
    "print(np.where(z>3))"
   ]
  },
  {
   "cell_type": "code",
   "execution_count": 22,
   "id": "084c8634",
   "metadata": {},
   "outputs": [
    {
     "data": {
      "text/html": [
       "<div>\n",
       "<style scoped>\n",
       "    .dataframe tbody tr th:only-of-type {\n",
       "        vertical-align: middle;\n",
       "    }\n",
       "\n",
       "    .dataframe tbody tr th {\n",
       "        vertical-align: top;\n",
       "    }\n",
       "\n",
       "    .dataframe thead th {\n",
       "        text-align: right;\n",
       "    }\n",
       "</style>\n",
       "<table border=\"1\" class=\"dataframe\">\n",
       "  <thead>\n",
       "    <tr style=\"text-align: right;\">\n",
       "      <th></th>\n",
       "      <th>Unnamed: 0</th>\n",
       "      <th>TV</th>\n",
       "      <th>radio</th>\n",
       "      <th>newspaper</th>\n",
       "      <th>sales</th>\n",
       "    </tr>\n",
       "  </thead>\n",
       "  <tbody>\n",
       "    <tr>\n",
       "      <th>0</th>\n",
       "      <td>1</td>\n",
       "      <td>230.1</td>\n",
       "      <td>37.8</td>\n",
       "      <td>69.2</td>\n",
       "      <td>22.1</td>\n",
       "    </tr>\n",
       "    <tr>\n",
       "      <th>1</th>\n",
       "      <td>2</td>\n",
       "      <td>44.5</td>\n",
       "      <td>39.3</td>\n",
       "      <td>45.1</td>\n",
       "      <td>10.4</td>\n",
       "    </tr>\n",
       "    <tr>\n",
       "      <th>2</th>\n",
       "      <td>3</td>\n",
       "      <td>17.2</td>\n",
       "      <td>45.9</td>\n",
       "      <td>69.3</td>\n",
       "      <td>9.3</td>\n",
       "    </tr>\n",
       "    <tr>\n",
       "      <th>3</th>\n",
       "      <td>4</td>\n",
       "      <td>151.5</td>\n",
       "      <td>41.3</td>\n",
       "      <td>58.5</td>\n",
       "      <td>18.5</td>\n",
       "    </tr>\n",
       "    <tr>\n",
       "      <th>4</th>\n",
       "      <td>5</td>\n",
       "      <td>180.8</td>\n",
       "      <td>10.8</td>\n",
       "      <td>58.4</td>\n",
       "      <td>12.9</td>\n",
       "    </tr>\n",
       "    <tr>\n",
       "      <th>...</th>\n",
       "      <td>...</td>\n",
       "      <td>...</td>\n",
       "      <td>...</td>\n",
       "      <td>...</td>\n",
       "      <td>...</td>\n",
       "    </tr>\n",
       "    <tr>\n",
       "      <th>195</th>\n",
       "      <td>196</td>\n",
       "      <td>38.2</td>\n",
       "      <td>3.7</td>\n",
       "      <td>13.8</td>\n",
       "      <td>7.6</td>\n",
       "    </tr>\n",
       "    <tr>\n",
       "      <th>196</th>\n",
       "      <td>197</td>\n",
       "      <td>94.2</td>\n",
       "      <td>4.9</td>\n",
       "      <td>8.1</td>\n",
       "      <td>9.7</td>\n",
       "    </tr>\n",
       "    <tr>\n",
       "      <th>197</th>\n",
       "      <td>198</td>\n",
       "      <td>177.0</td>\n",
       "      <td>9.3</td>\n",
       "      <td>6.4</td>\n",
       "      <td>12.8</td>\n",
       "    </tr>\n",
       "    <tr>\n",
       "      <th>198</th>\n",
       "      <td>199</td>\n",
       "      <td>283.6</td>\n",
       "      <td>42.0</td>\n",
       "      <td>66.2</td>\n",
       "      <td>25.5</td>\n",
       "    </tr>\n",
       "    <tr>\n",
       "      <th>199</th>\n",
       "      <td>200</td>\n",
       "      <td>232.1</td>\n",
       "      <td>8.6</td>\n",
       "      <td>8.7</td>\n",
       "      <td>13.4</td>\n",
       "    </tr>\n",
       "  </tbody>\n",
       "</table>\n",
       "<p>198 rows × 5 columns</p>\n",
       "</div>"
      ],
      "text/plain": [
       "     Unnamed: 0     TV  radio  newspaper  sales\n",
       "0             1  230.1   37.8       69.2   22.1\n",
       "1             2   44.5   39.3       45.1   10.4\n",
       "2             3   17.2   45.9       69.3    9.3\n",
       "3             4  151.5   41.3       58.5   18.5\n",
       "4             5  180.8   10.8       58.4   12.9\n",
       "..          ...    ...    ...        ...    ...\n",
       "195         196   38.2    3.7       13.8    7.6\n",
       "196         197   94.2    4.9        8.1    9.7\n",
       "197         198  177.0    9.3        6.4   12.8\n",
       "198         199  283.6   42.0       66.2   25.5\n",
       "199         200  232.1    8.6        8.7   13.4\n",
       "\n",
       "[198 rows x 5 columns]"
      ]
     },
     "execution_count": 22,
     "metadata": {},
     "output_type": "execute_result"
    }
   ],
   "source": [
    "df1=df[(z<3).all(axis=1)]\n",
    "df1"
   ]
  },
  {
   "cell_type": "code",
   "execution_count": 23,
   "id": "13e35cb8",
   "metadata": {},
   "outputs": [
    {
     "name": "stdout",
     "output_type": "stream",
     "text": [
      "Data loss% : 1.0\n"
     ]
    }
   ],
   "source": [
    "print('Data loss% :',((200-198)/200)*100)"
   ]
  },
  {
   "cell_type": "code",
   "execution_count": 24,
   "id": "270dde26",
   "metadata": {
    "scrolled": true
   },
   "outputs": [],
   "source": [
    "df1=df1.drop(['Unnamed: 0'],axis=1)"
   ]
  },
  {
   "cell_type": "code",
   "execution_count": 25,
   "id": "94c2ca4a",
   "metadata": {},
   "outputs": [
    {
     "data": {
      "text/html": [
       "<div>\n",
       "<style scoped>\n",
       "    .dataframe tbody tr th:only-of-type {\n",
       "        vertical-align: middle;\n",
       "    }\n",
       "\n",
       "    .dataframe tbody tr th {\n",
       "        vertical-align: top;\n",
       "    }\n",
       "\n",
       "    .dataframe thead th {\n",
       "        text-align: right;\n",
       "    }\n",
       "</style>\n",
       "<table border=\"1\" class=\"dataframe\">\n",
       "  <thead>\n",
       "    <tr style=\"text-align: right;\">\n",
       "      <th></th>\n",
       "      <th>TV</th>\n",
       "      <th>radio</th>\n",
       "      <th>newspaper</th>\n",
       "      <th>sales</th>\n",
       "    </tr>\n",
       "  </thead>\n",
       "  <tbody>\n",
       "    <tr>\n",
       "      <th>0</th>\n",
       "      <td>230.1</td>\n",
       "      <td>37.8</td>\n",
       "      <td>69.2</td>\n",
       "      <td>22.1</td>\n",
       "    </tr>\n",
       "    <tr>\n",
       "      <th>1</th>\n",
       "      <td>44.5</td>\n",
       "      <td>39.3</td>\n",
       "      <td>45.1</td>\n",
       "      <td>10.4</td>\n",
       "    </tr>\n",
       "    <tr>\n",
       "      <th>2</th>\n",
       "      <td>17.2</td>\n",
       "      <td>45.9</td>\n",
       "      <td>69.3</td>\n",
       "      <td>9.3</td>\n",
       "    </tr>\n",
       "    <tr>\n",
       "      <th>3</th>\n",
       "      <td>151.5</td>\n",
       "      <td>41.3</td>\n",
       "      <td>58.5</td>\n",
       "      <td>18.5</td>\n",
       "    </tr>\n",
       "    <tr>\n",
       "      <th>4</th>\n",
       "      <td>180.8</td>\n",
       "      <td>10.8</td>\n",
       "      <td>58.4</td>\n",
       "      <td>12.9</td>\n",
       "    </tr>\n",
       "    <tr>\n",
       "      <th>...</th>\n",
       "      <td>...</td>\n",
       "      <td>...</td>\n",
       "      <td>...</td>\n",
       "      <td>...</td>\n",
       "    </tr>\n",
       "    <tr>\n",
       "      <th>195</th>\n",
       "      <td>38.2</td>\n",
       "      <td>3.7</td>\n",
       "      <td>13.8</td>\n",
       "      <td>7.6</td>\n",
       "    </tr>\n",
       "    <tr>\n",
       "      <th>196</th>\n",
       "      <td>94.2</td>\n",
       "      <td>4.9</td>\n",
       "      <td>8.1</td>\n",
       "      <td>9.7</td>\n",
       "    </tr>\n",
       "    <tr>\n",
       "      <th>197</th>\n",
       "      <td>177.0</td>\n",
       "      <td>9.3</td>\n",
       "      <td>6.4</td>\n",
       "      <td>12.8</td>\n",
       "    </tr>\n",
       "    <tr>\n",
       "      <th>198</th>\n",
       "      <td>283.6</td>\n",
       "      <td>42.0</td>\n",
       "      <td>66.2</td>\n",
       "      <td>25.5</td>\n",
       "    </tr>\n",
       "    <tr>\n",
       "      <th>199</th>\n",
       "      <td>232.1</td>\n",
       "      <td>8.6</td>\n",
       "      <td>8.7</td>\n",
       "      <td>13.4</td>\n",
       "    </tr>\n",
       "  </tbody>\n",
       "</table>\n",
       "<p>198 rows × 4 columns</p>\n",
       "</div>"
      ],
      "text/plain": [
       "        TV  radio  newspaper  sales\n",
       "0    230.1   37.8       69.2   22.1\n",
       "1     44.5   39.3       45.1   10.4\n",
       "2     17.2   45.9       69.3    9.3\n",
       "3    151.5   41.3       58.5   18.5\n",
       "4    180.8   10.8       58.4   12.9\n",
       "..     ...    ...        ...    ...\n",
       "195   38.2    3.7       13.8    7.6\n",
       "196   94.2    4.9        8.1    9.7\n",
       "197  177.0    9.3        6.4   12.8\n",
       "198  283.6   42.0       66.2   25.5\n",
       "199  232.1    8.6        8.7   13.4\n",
       "\n",
       "[198 rows x 4 columns]"
      ]
     },
     "execution_count": 25,
     "metadata": {},
     "output_type": "execute_result"
    }
   ],
   "source": [
    "df1"
   ]
  },
  {
   "cell_type": "code",
   "execution_count": 26,
   "id": "8b9fe503",
   "metadata": {},
   "outputs": [],
   "source": [
    "x=df1.iloc[:,0:-1]\n",
    "y=df1.iloc[:,-1]"
   ]
  },
  {
   "cell_type": "markdown",
   "id": "614bbf9b",
   "metadata": {},
   "source": [
    "# Remove skewness"
   ]
  },
  {
   "cell_type": "code",
   "execution_count": 27,
   "id": "22ef5637",
   "metadata": {},
   "outputs": [],
   "source": [
    "from sklearn.preprocessing import power_transform,StandardScaler"
   ]
  },
  {
   "cell_type": "code",
   "execution_count": 28,
   "id": "8029ea58",
   "metadata": {},
   "outputs": [
    {
     "data": {
      "text/plain": [
       "0   -0.320682\n",
       "1   -0.236668\n",
       "2   -0.101288\n",
       "dtype: float64"
      ]
     },
     "execution_count": 28,
     "metadata": {},
     "output_type": "execute_result"
    }
   ],
   "source": [
    "x=power_transform(x,method='yeo-johnson')\n",
    "x=pd.DataFrame(x)\n",
    "x.skew()"
   ]
  },
  {
   "cell_type": "markdown",
   "id": "02d64fb7",
   "metadata": {},
   "source": [
    "Scaling"
   ]
  },
  {
   "cell_type": "code",
   "execution_count": 29,
   "id": "aac85e1d",
   "metadata": {},
   "outputs": [],
   "source": [
    "sc=StandardScaler()\n",
    "x=sc.fit_transform(x)"
   ]
  },
  {
   "cell_type": "code",
   "execution_count": 30,
   "id": "bda4c658",
   "metadata": {},
   "outputs": [],
   "source": [
    "from sklearn.linear_model import LinearRegression\n",
    "from sklearn.model_selection import train_test_split\n",
    "from sklearn.metrics import r2_score,mean_absolute_error,mean_squared_error\n",
    "lr=LinearRegression()"
   ]
  },
  {
   "cell_type": "code",
   "execution_count": 31,
   "id": "a3a61411",
   "metadata": {},
   "outputs": [
    {
     "name": "stdout",
     "output_type": "stream",
     "text": [
      "Random state 122\n",
      "Train score 90.46679755177387\n",
      "Test score 90.46148336224064\n",
      "Random state 131\n",
      "Train score 90.2176147822333\n",
      "Test score 90.15147774561667\n",
      "Random state 268\n",
      "Train score 90.47215677407536\n",
      "Test score 90.53869669310296\n",
      "Random state 310\n",
      "Train score 90.29724907764994\n",
      "Test score 90.31896825495818\n",
      "Random state 322\n",
      "Train score 90.46135888628814\n",
      "Test score 90.50456579807043\n",
      "Random state 360\n",
      "Train score 90.46716132922454\n",
      "Test score 90.48481450831964\n",
      "Random state 369\n",
      "Train score 90.21668770225992\n",
      "Test score 90.17606682730835\n"
     ]
    }
   ],
   "source": [
    "for i in range(1,500):\n",
    "    x_train,x_test,y_train,y_test=train_test_split(x,y,test_size=0.30,random_state=i)\n",
    "    lr.fit(x_train,y_train)\n",
    "    pred_tr=lr.predict(x_train)\n",
    "    pred_te=lr.predict(x_test)\n",
    "    if round(r2_score(y_train,pred_tr)*100,1)==round(r2_score(y_test,pred_te)*100,1):\n",
    "        print('Random state',i)\n",
    "        print('Train score',r2_score(y_train,pred_tr)*100)\n",
    "        print('Test score',r2_score(y_test,pred_te)*100) "
   ]
  },
  {
   "cell_type": "code",
   "execution_count": 32,
   "id": "b25a00e8",
   "metadata": {},
   "outputs": [
    {
     "name": "stdout",
     "output_type": "stream",
     "text": [
      "Intercept: 13.948408085809193\n",
      "\n",
      "Train score: 90.46679755177387\n",
      "R2_score:  90.46148336224064\n",
      "\n",
      "Error1:  1.1899806837683826\n",
      "Error2 RMSE:  1.5606394758257762\n"
     ]
    }
   ],
   "source": [
    "x_train,x_test,y_train,y_test=train_test_split(x,y,test_size=0.30,random_state=122)\n",
    "lr.fit(x_train,y_train)\n",
    "print('Intercept:',lr.intercept_)\n",
    "print('\\nTrain score:',lr.score(x_train,y_train)*100)\n",
    "pred_lr=lr.predict(x_test)\n",
    "print('R2_score: ',r2_score(y_test,pred_lr)*100)\n",
    "print('\\nError1: ',mean_absolute_error(y_test,pred_lr))\n",
    "print('Error2 RMSE: ',np.sqrt(mean_squared_error(y_test,pred_lr)))"
   ]
  },
  {
   "cell_type": "markdown",
   "id": "51be5dd1",
   "metadata": {},
   "source": [
    "Use regularization"
   ]
  },
  {
   "cell_type": "code",
   "execution_count": 33,
   "id": "69f0016b",
   "metadata": {},
   "outputs": [],
   "source": [
    "from sklearn.linear_model import Lasso,Ridge,ElasticNet"
   ]
  },
  {
   "cell_type": "code",
   "execution_count": 34,
   "id": "7a0043a2",
   "metadata": {},
   "outputs": [],
   "source": [
    "l1=Lasso()\n",
    "l2=Ridge()\n",
    "l3=ElasticNet()\n",
    "def regul(f):\n",
    "    f.fit(x_train,y_train)\n",
    "    print(f,'\\n\\t',f.score(x_train,y_train)*100)\n",
    "    pred=f.predict(x_test)\n",
    "    print('R2_score :',r2_score(y_test,pred)*100)\n",
    "    print('error1:\\n:',mean_absolute_error(y_test,pred))\n",
    "    print('RSME:\\n:',np.sqrt(mean_squared_error(y_test,pred)))"
   ]
  },
  {
   "cell_type": "code",
   "execution_count": 35,
   "id": "b71ca5af",
   "metadata": {},
   "outputs": [
    {
     "name": "stdout",
     "output_type": "stream",
     "text": [
      "Lasso() \n",
      "\t 83.49270134613906\n",
      "R2_score : 83.63152265479854\n",
      "error1:\n",
      ": 1.4804409248648607\n",
      "RSME:\n",
      ": 2.0444020515043477\n"
     ]
    }
   ],
   "source": [
    "regul(l1)"
   ]
  },
  {
   "cell_type": "code",
   "execution_count": 36,
   "id": "6816a75a",
   "metadata": {},
   "outputs": [
    {
     "name": "stdout",
     "output_type": "stream",
     "text": [
      "Ridge() \n",
      "\t 90.46258446223614\n",
      "R2_score : 90.43362541223098\n",
      "error1:\n",
      ": 1.191326534550799\n",
      "RSME:\n",
      ": 1.5629167963220965\n"
     ]
    }
   ],
   "source": [
    "regul(l2)"
   ]
  },
  {
   "cell_type": "markdown",
   "id": "c53df275",
   "metadata": {},
   "source": [
    "Use other regressor models"
   ]
  },
  {
   "cell_type": "code",
   "execution_count": 38,
   "id": "f7a9b7a8",
   "metadata": {},
   "outputs": [],
   "source": [
    "from sklearn.tree import DecisionTreeRegressor\n",
    "from sklearn.svm import SVR\n",
    "from sklearn.neighbors import KNeighborsRegressor\n",
    "from sklearn.linear_model import SGDRegressor"
   ]
  },
  {
   "cell_type": "code",
   "execution_count": 39,
   "id": "2b138172",
   "metadata": {},
   "outputs": [],
   "source": [
    "dtc=DecisionTreeRegressor()\n",
    "svrp=SVR(kernel='poly')\n",
    "svrl=SVR(kernel='linear')\n",
    "svr=SVR()        \n",
    "kn=KNeighborsRegressor(n_neighbors=5)\n",
    "sgd=SGDRegressor()"
   ]
  },
  {
   "cell_type": "code",
   "execution_count": 40,
   "id": "a16d0790",
   "metadata": {},
   "outputs": [],
   "source": [
    "def regressor(f):\n",
    "    f.fit(x_train,y_train)\n",
    "    print(f,'\\n',f.score(x_train,y_train)*100)\n",
    "    pred=f.predict(x_test)\n",
    "    print('error1:\\n',mean_absolute_error(y_test,pred))\n",
    "    print('RSME:\\n',np.sqrt(mean_squared_error(y_test,pred)))\n",
    "    print('r2 score:\\n',r2_score(y_test,pred)*100)"
   ]
  },
  {
   "cell_type": "code",
   "execution_count": 41,
   "id": "79471b5b",
   "metadata": {},
   "outputs": [
    {
     "name": "stdout",
     "output_type": "stream",
     "text": [
      "DecisionTreeRegressor() \n",
      " 100.0\n",
      "error1:\n",
      " 0.7850000000000003\n",
      "RSME:\n",
      " 1.0362592983097105\n",
      "r2 score:\n",
      " 95.79454929726394\n"
     ]
    }
   ],
   "source": [
    "regressor(dtc)"
   ]
  },
  {
   "cell_type": "code",
   "execution_count": 42,
   "id": "c1765eb6",
   "metadata": {},
   "outputs": [
    {
     "name": "stdout",
     "output_type": "stream",
     "text": [
      "SVR(kernel='poly') \n",
      " 73.41681750139446\n",
      "error1:\n",
      " 1.6531962882705244\n",
      "RSME:\n",
      " 1.9759910001611996\n",
      "r2 score:\n",
      " 84.70865841381142\n"
     ]
    }
   ],
   "source": [
    "regressor(svrp)"
   ]
  },
  {
   "cell_type": "code",
   "execution_count": 43,
   "id": "7d2cf6ac",
   "metadata": {},
   "outputs": [
    {
     "name": "stdout",
     "output_type": "stream",
     "text": [
      "SVR(kernel='linear') \n",
      " 90.31893284664152\n",
      "error1:\n",
      " 1.1930785904509813\n",
      "RSME:\n",
      " 1.5472333518175143\n",
      "r2 score:\n",
      " 90.62465404743327\n"
     ]
    }
   ],
   "source": [
    "regressor(svrl)"
   ]
  },
  {
   "cell_type": "code",
   "execution_count": 44,
   "id": "2a583c52",
   "metadata": {},
   "outputs": [
    {
     "name": "stdout",
     "output_type": "stream",
     "text": [
      "SVR() \n",
      " 92.49960102346621\n",
      "error1:\n",
      " 0.9735903595524158\n",
      "RSME:\n",
      " 1.6329244034253083\n",
      "r2 score:\n",
      " 89.55741967969165\n"
     ]
    }
   ],
   "source": [
    "regressor(svr)"
   ]
  },
  {
   "cell_type": "code",
   "execution_count": 45,
   "id": "7a493262",
   "metadata": {},
   "outputs": [
    {
     "name": "stdout",
     "output_type": "stream",
     "text": [
      "KNeighborsRegressor() \n",
      " 95.6734975329176\n",
      "error1:\n",
      " 0.9266666666666666\n",
      "RSME:\n",
      " 1.4266838005201665\n",
      "r2 score:\n",
      " 92.02866381589226\n"
     ]
    }
   ],
   "source": [
    "regressor(kn)"
   ]
  },
  {
   "cell_type": "code",
   "execution_count": 46,
   "id": "6d291d92",
   "metadata": {},
   "outputs": [
    {
     "name": "stdout",
     "output_type": "stream",
     "text": [
      "SGDRegressor() \n",
      " 90.46387067379146\n",
      "error1:\n",
      " 1.189464001462536\n",
      "RSME:\n",
      " 1.563971302752459\n",
      "r2 score:\n",
      " 90.42071211232506\n"
     ]
    }
   ],
   "source": [
    "regressor(sgd)"
   ]
  },
  {
   "cell_type": "markdown",
   "id": "f3f0135f",
   "metadata": {},
   "source": [
    "Use ensemble methods"
   ]
  },
  {
   "cell_type": "code",
   "execution_count": 47,
   "id": "7b94b76d",
   "metadata": {},
   "outputs": [],
   "source": [
    "from sklearn.ensemble import RandomForestRegressor,AdaBoostRegressor,GradientBoostingRegressor\n",
    "from sklearn.model_selection import cross_val_score"
   ]
  },
  {
   "cell_type": "code",
   "execution_count": 48,
   "id": "cba81420",
   "metadata": {},
   "outputs": [],
   "source": [
    "ensemble=[RandomForestRegressor(),AdaBoostRegressor(),GradientBoostingRegressor()]"
   ]
  },
  {
   "cell_type": "code",
   "execution_count": 49,
   "id": "b4c50bde",
   "metadata": {},
   "outputs": [
    {
     "name": "stdout",
     "output_type": "stream",
     "text": [
      "\n",
      " \n",
      "score:  RandomForestRegressor() :\n",
      " 99.67737708288207\n",
      " R2 score: 98.09742590474086\n",
      "error1:\n",
      " 0.5584000000000001\n",
      "RSME:\n",
      " 0.697000286943987\n",
      "\n",
      " \n",
      "score:  AdaBoostRegressor() :\n",
      " 97.90284830629564\n",
      " R2 score: 95.08302742918096\n",
      "error1:\n",
      " 0.9342046367819253\n",
      "RSME:\n",
      " 1.12049793387191\n",
      "\n",
      " \n",
      "score:  GradientBoostingRegressor() :\n",
      " 99.89669824362053\n",
      " R2 score: 97.90848724629261\n",
      "error1:\n",
      " 0.5747356459101771\n",
      "RSME:\n",
      " 0.7307897138373785\n"
     ]
    }
   ],
   "source": [
    "for i in ensemble:\n",
    "    i.fit(x_train,y_train)\n",
    "    print('\\n \\nscore: ',i,':\\n',i.score(x_train,y_train)*100)\n",
    "    pred=i.predict(x_test)\n",
    "    print(' R2 score:',r2_score(y_test,pred)*100)\n",
    "    print('error1:\\n',mean_absolute_error(y_test,pred))\n",
    "    print('RSME:\\n',np.sqrt(mean_squared_error(y_test,pred)))"
   ]
  },
  {
   "cell_type": "markdown",
   "id": "ed14df59",
   "metadata": {},
   "source": [
    "Check cross value score"
   ]
  },
  {
   "cell_type": "code",
   "execution_count": 50,
   "id": "6fd7b7f3",
   "metadata": {},
   "outputs": [
    {
     "name": "stdout",
     "output_type": "stream",
     "text": [
      "cv value: 2\n",
      "cross value score: 89.86871417686831\n",
      "actual score: 90.46148336224064\n",
      "cv value: 3\n",
      "cross value score: 89.06792692328133\n",
      "actual score: 90.46148336224064\n",
      "cv value: 4\n",
      "cross value score: 89.57916219261759\n",
      "actual score: 90.46148336224064\n",
      "cv value: 5\n",
      "cross value score: 89.38424372310422\n",
      "actual score: 90.46148336224064\n",
      "cv value: 6\n",
      "cross value score: 89.24944014459305\n",
      "actual score: 90.46148336224064\n",
      "cv value: 7\n",
      "cross value score: 89.41400029411193\n",
      "actual score: 90.46148336224064\n",
      "cv value: 8\n",
      "cross value score: 89.51000581725988\n",
      "actual score: 90.46148336224064\n",
      "cv value: 9\n",
      "cross value score: 89.30205738974722\n",
      "actual score: 90.46148336224064\n",
      "cv value: 10\n",
      "cross value score: 89.11555336978041\n",
      "actual score: 90.46148336224064\n",
      "cv value: 11\n",
      "cross value score: 88.03275798516978\n",
      "actual score: 90.46148336224064\n",
      "cv value: 12\n",
      "cross value score: 88.0275027744921\n",
      "actual score: 90.46148336224064\n",
      "cv value: 13\n",
      "cross value score: 89.31124169381981\n",
      "actual score: 90.46148336224064\n",
      "cv value: 14\n",
      "cross value score: 85.50681836722573\n",
      "actual score: 90.46148336224064\n",
      "cv value: 15\n",
      "cross value score: 83.97078723643007\n",
      "actual score: 90.46148336224064\n",
      "cv value: 16\n",
      "cross value score: 86.75616706751266\n",
      "actual score: 90.46148336224064\n",
      "cv value: 17\n",
      "cross value score: 85.47351789345824\n",
      "actual score: 90.46148336224064\n",
      "cv value: 18\n",
      "cross value score: 85.22220143524545\n",
      "actual score: 90.46148336224064\n",
      "cv value: 19\n",
      "cross value score: 85.10628136954766\n",
      "actual score: 90.46148336224064\n"
     ]
    }
   ],
   "source": [
    "for i in range(2,20):\n",
    "    crs_score=cross_val_score(lr,x_train,y_train,cv=i)\n",
    "    score=crs_score.mean()\n",
    "    print('cv value:',i)\n",
    "    print('cross value score:',score*100)\n",
    "    print('actual score:',r2_score(y_test,pred_lr)*100)"
   ]
  },
  {
   "cell_type": "code",
   "execution_count": 51,
   "id": "da863a4e",
   "metadata": {},
   "outputs": [
    {
     "name": "stdout",
     "output_type": "stream",
     "text": [
      "0.898687141768683\n"
     ]
    }
   ],
   "source": [
    "score2=cross_val_score(lr,x_train,y_train,cv=2)\n",
    "print(score2.mean())"
   ]
  },
  {
   "cell_type": "code",
   "execution_count": 52,
   "id": "86eaf421",
   "metadata": {},
   "outputs": [
    {
     "name": "stdout",
     "output_type": "stream",
     "text": [
      "0.9117346494546035\n"
     ]
    }
   ],
   "source": [
    "score2=cross_val_score(dtc,x_train,y_train,cv=2)\n",
    "print(score2.mean())"
   ]
  },
  {
   "cell_type": "code",
   "execution_count": 53,
   "id": "f8ddcbaf",
   "metadata": {},
   "outputs": [
    {
     "name": "stdout",
     "output_type": "stream",
     "text": [
      "0.9004781969880093\n"
     ]
    }
   ],
   "source": [
    "score2=cross_val_score(svr,x_train,y_train,cv=9)\n",
    "print(score2.mean())"
   ]
  },
  {
   "cell_type": "code",
   "execution_count": 54,
   "id": "6bc80c23",
   "metadata": {},
   "outputs": [
    {
     "name": "stdout",
     "output_type": "stream",
     "text": [
      "0.8876431107932677\n"
     ]
    }
   ],
   "source": [
    "score2=cross_val_score(svrl,x_train,y_train,cv=9)\n",
    "print(score2.mean())"
   ]
  },
  {
   "cell_type": "code",
   "execution_count": 55,
   "id": "8cc9ddc8",
   "metadata": {},
   "outputs": [
    {
     "name": "stdout",
     "output_type": "stream",
     "text": [
      "0.6717168390746978\n"
     ]
    }
   ],
   "source": [
    "score2=cross_val_score(svrp,x_train,y_train,cv=9)\n",
    "print(score2.mean())"
   ]
  },
  {
   "cell_type": "code",
   "execution_count": 56,
   "id": "6c7525d6",
   "metadata": {},
   "outputs": [
    {
     "name": "stdout",
     "output_type": "stream",
     "text": [
      "0.9291222269191421\n"
     ]
    }
   ],
   "source": [
    "score2=cross_val_score(kn,x_train,y_train,cv=9)\n",
    "print(score2.mean())"
   ]
  },
  {
   "cell_type": "code",
   "execution_count": 57,
   "id": "30c4f514",
   "metadata": {},
   "outputs": [
    {
     "name": "stdout",
     "output_type": "stream",
     "text": [
      "0.8930314297169077\n"
     ]
    }
   ],
   "source": [
    "score2=cross_val_score(sgd,x_train,y_train,cv=9)\n",
    "print(score2.mean())"
   ]
  },
  {
   "cell_type": "code",
   "execution_count": 58,
   "id": "7df3d119",
   "metadata": {},
   "outputs": [
    {
     "name": "stdout",
     "output_type": "stream",
     "text": [
      "0.9742399439116305\n"
     ]
    }
   ],
   "source": [
    "score2=cross_val_score(RandomForestRegressor(),x_train,y_train,cv=9)\n",
    "print(score2.mean())"
   ]
  },
  {
   "cell_type": "code",
   "execution_count": 59,
   "id": "f579b652",
   "metadata": {},
   "outputs": [
    {
     "name": "stdout",
     "output_type": "stream",
     "text": [
      "0.9512564791960583\n"
     ]
    }
   ],
   "source": [
    "score2=cross_val_score(AdaBoostRegressor(),x_train,y_train,cv=9)\n",
    "print(score2.mean())"
   ]
  },
  {
   "cell_type": "code",
   "execution_count": 60,
   "id": "79014c45",
   "metadata": {},
   "outputs": [
    {
     "name": "stdout",
     "output_type": "stream",
     "text": [
      "0.97490148267333\n"
     ]
    }
   ],
   "source": [
    "score2=cross_val_score(GradientBoostingRegressor(),x_train,y_train,cv=9)\n",
    "print(score2.mean())"
   ]
  },
  {
   "cell_type": "code",
   "execution_count": 61,
   "id": "3aa1399c",
   "metadata": {},
   "outputs": [
    {
     "name": "stdout",
     "output_type": "stream",
     "text": [
      "0.8233348278368445\n"
     ]
    }
   ],
   "source": [
    "score2=cross_val_score(l1,x_train,y_train,cv=9)\n",
    "print(score2.mean())"
   ]
  },
  {
   "cell_type": "code",
   "execution_count": 62,
   "id": "7ca5694f",
   "metadata": {},
   "outputs": [
    {
     "name": "stdout",
     "output_type": "stream",
     "text": [
      "0.8930303158900603\n"
     ]
    }
   ],
   "source": [
    "score2=cross_val_score(l2,x_train,y_train,cv=9)\n",
    "print(score2.mean())"
   ]
  },
  {
   "cell_type": "code",
   "execution_count": 63,
   "id": "7d541b0b",
   "metadata": {},
   "outputs": [
    {
     "name": "stdout",
     "output_type": "stream",
     "text": [
      "0.7373079171253878\n"
     ]
    }
   ],
   "source": [
    "score2=cross_val_score(l3,x_train,y_train,cv=9)\n",
    "print(score2.mean())"
   ]
  },
  {
   "cell_type": "code",
   "execution_count": 65,
   "id": "aa09e01d",
   "metadata": {},
   "outputs": [],
   "source": [
    "from sklearn.model_selection import GridSearchCV"
   ]
  },
  {
   "cell_type": "markdown",
   "id": "1453f027",
   "metadata": {},
   "source": [
    "# Apply gridsearch on randomforest and gradient boosting base on cv score and r2 score"
   ]
  },
  {
   "cell_type": "code",
   "execution_count": 67,
   "id": "5c01184a",
   "metadata": {},
   "outputs": [
    {
     "name": "stdout",
     "output_type": "stream",
     "text": [
      "GradientBoostingRegressor() 0.9734845343386456\n",
      "{'criterion': 'friedman_mse', 'learning_rate': 0.1, 'loss': 'ls', 'max_features': 'auto', 'random_state': 42}\n"
     ]
    }
   ],
   "source": [
    "p1={'loss':['ls','lad','huber'],'learning_rate':[0.1,0.01,0.001,],'criterion':['friedman_mse','mse'],'max_features':['auto','sqrt','log2'],'random_state':[42]}\n",
    "m1=GradientBoostingRegressor()\n",
    "grid=GridSearchCV(estimator=m1,param_grid=p1)\n",
    "grid.fit(x_train,y_train)\n",
    "print(m1,grid.best_score_)\n",
    "print(grid.best_params_)"
   ]
  },
  {
   "cell_type": "code",
   "execution_count": 74,
   "id": "c6d59dd9",
   "metadata": {},
   "outputs": [
    {
     "name": "stdout",
     "output_type": "stream",
     "text": [
      "GradientBoostingRegressor() 0.9511761548610824\n",
      "{'criterion': 'mae', 'max_depth': 80, 'max_features': 'auto', 'n_estimators': 100}\n"
     ]
    }
   ],
   "source": [
    "p2={'max_depth': [10, 20, 30, 40, 50, 60, 70, 80, 90, 100, None],\n",
    " 'max_features': ['auto', 'sqrt'],\n",
    " 'criterion':['mae','mse'],\n",
    " 'n_estimators': [100,150,200,250,300]}\n",
    "m2=GradientBoostingRegressor()\n",
    "grid=GridSearchCV(estimator=m2,param_grid=p2)\n",
    "grid.fit(x_train,y_train)\n",
    "print(m1,grid.best_score_)\n",
    "print(grid.best_params_)"
   ]
  },
  {
   "cell_type": "code",
   "execution_count": 75,
   "id": "4aee1415",
   "metadata": {},
   "outputs": [
    {
     "name": "stdout",
     "output_type": "stream",
     "text": [
      "GradientBoostingRegressor(max_features='auto', random_state=42) \n",
      "\t 99.89669824362053\n",
      "R2_score : 97.88097056178277\n",
      "error1:\n",
      ": 0.5799457326473826\n",
      "RSME:\n",
      ": 0.7355812699750669\n"
     ]
    }
   ],
   "source": [
    "gr=GradientBoostingRegressor(criterion='friedman_mse',learning_rate=0.1, loss='ls', max_features= 'auto',random_state=42)\n",
    "gr.fit(x_train,y_train)\n",
    "print(gr,'\\n\\t',gr.score(x_train,y_train)*100)\n",
    "pred_gr=gr.predict(x_test)\n",
    "print('R2_score :',r2_score(y_test,pred_gr)*100)\n",
    "print('error1:\\n:',mean_absolute_error(y_test,pred_gr))\n",
    "print('RSME:\\n:',np.sqrt(mean_squared_error(y_test,pred_gr)))"
   ]
  },
  {
   "cell_type": "code",
   "execution_count": 91,
   "id": "2f1f5584",
   "metadata": {},
   "outputs": [
    {
     "name": "stdout",
     "output_type": "stream",
     "text": [
      "RandomForestRegressor(criterion='mae', max_depth=80, random_state=42) \n",
      "\t 99.68867579630336\n",
      "R2_score : 98.05569400271268\n",
      "error1:\n",
      ": 0.5904500000000006\n",
      "RSME:\n",
      ": 0.7046029792254174\n"
     ]
    }
   ],
   "source": [
    "rf=RandomForestRegressor(criterion='mae', max_depth=80, max_features= 'auto',random_state=42,n_estimators=100)\n",
    "rf.fit(x_train,y_train)\n",
    "print(rf,'\\n\\t',rf.score(x_train,y_train)*100)\n",
    "pred_rf=rf.predict(x_test)\n",
    "print('R2_score :',r2_score(y_test,pred_rf)*100)\n",
    "print('error1:\\n:',mean_absolute_error(y_test,pred_rf))\n",
    "print('RSME:\\n:',np.sqrt(mean_squared_error(y_test,pred_rf)))"
   ]
  },
  {
   "cell_type": "code",
   "execution_count": 92,
   "id": "6e692a66",
   "metadata": {},
   "outputs": [],
   "source": [
    "result=pd.DataFrame({'Model':['LR','L1','L2','DTC','SVRP','SVRL','SVR','KN','SGD','RFR','ADBR','GDBR'],\n",
    "             'R2 score':[90.46,86.63,90.43,95.79,84.70,90.62,89.55,92.04,90.42,98.09,95.08,97.90],\n",
    "             'CV score':[89.86,82.33,89.30,91.17,67.17,88.76,90.09,92.91,89.30,97.42,95.12,97.49],\n",
    "             'RMSE':[1.56,2.04,1.56,1.03,1.97,1.19,1.63,1.42,1.56,0.70,1.12,0.73]})"
   ]
  },
  {
   "cell_type": "code",
   "execution_count": 94,
   "id": "678f4ec6",
   "metadata": {},
   "outputs": [],
   "source": [
    "result['Difference']=result['R2 score']-result['CV score']\n"
   ]
  },
  {
   "cell_type": "code",
   "execution_count": 95,
   "id": "edb7de26",
   "metadata": {},
   "outputs": [
    {
     "data": {
      "text/html": [
       "<div>\n",
       "<style scoped>\n",
       "    .dataframe tbody tr th:only-of-type {\n",
       "        vertical-align: middle;\n",
       "    }\n",
       "\n",
       "    .dataframe tbody tr th {\n",
       "        vertical-align: top;\n",
       "    }\n",
       "\n",
       "    .dataframe thead th {\n",
       "        text-align: right;\n",
       "    }\n",
       "</style>\n",
       "<table border=\"1\" class=\"dataframe\">\n",
       "  <thead>\n",
       "    <tr style=\"text-align: right;\">\n",
       "      <th></th>\n",
       "      <th>Model</th>\n",
       "      <th>R2 score</th>\n",
       "      <th>CV score</th>\n",
       "      <th>RMSE</th>\n",
       "      <th>Difference</th>\n",
       "    </tr>\n",
       "  </thead>\n",
       "  <tbody>\n",
       "    <tr>\n",
       "      <th>0</th>\n",
       "      <td>LR</td>\n",
       "      <td>90.46</td>\n",
       "      <td>89.86</td>\n",
       "      <td>1.56</td>\n",
       "      <td>0.60</td>\n",
       "    </tr>\n",
       "    <tr>\n",
       "      <th>1</th>\n",
       "      <td>L1</td>\n",
       "      <td>86.63</td>\n",
       "      <td>82.33</td>\n",
       "      <td>2.04</td>\n",
       "      <td>4.30</td>\n",
       "    </tr>\n",
       "    <tr>\n",
       "      <th>2</th>\n",
       "      <td>L2</td>\n",
       "      <td>90.43</td>\n",
       "      <td>89.30</td>\n",
       "      <td>1.56</td>\n",
       "      <td>1.13</td>\n",
       "    </tr>\n",
       "    <tr>\n",
       "      <th>3</th>\n",
       "      <td>DTC</td>\n",
       "      <td>95.79</td>\n",
       "      <td>91.17</td>\n",
       "      <td>1.03</td>\n",
       "      <td>4.62</td>\n",
       "    </tr>\n",
       "    <tr>\n",
       "      <th>4</th>\n",
       "      <td>SVRP</td>\n",
       "      <td>84.70</td>\n",
       "      <td>67.17</td>\n",
       "      <td>1.97</td>\n",
       "      <td>17.53</td>\n",
       "    </tr>\n",
       "    <tr>\n",
       "      <th>5</th>\n",
       "      <td>SVRL</td>\n",
       "      <td>90.62</td>\n",
       "      <td>88.76</td>\n",
       "      <td>1.19</td>\n",
       "      <td>1.86</td>\n",
       "    </tr>\n",
       "    <tr>\n",
       "      <th>6</th>\n",
       "      <td>SVR</td>\n",
       "      <td>89.55</td>\n",
       "      <td>90.09</td>\n",
       "      <td>1.63</td>\n",
       "      <td>-0.54</td>\n",
       "    </tr>\n",
       "    <tr>\n",
       "      <th>7</th>\n",
       "      <td>KN</td>\n",
       "      <td>92.04</td>\n",
       "      <td>92.91</td>\n",
       "      <td>1.42</td>\n",
       "      <td>-0.87</td>\n",
       "    </tr>\n",
       "    <tr>\n",
       "      <th>8</th>\n",
       "      <td>SGD</td>\n",
       "      <td>90.42</td>\n",
       "      <td>89.30</td>\n",
       "      <td>1.56</td>\n",
       "      <td>1.12</td>\n",
       "    </tr>\n",
       "    <tr>\n",
       "      <th>9</th>\n",
       "      <td>RFR</td>\n",
       "      <td>98.09</td>\n",
       "      <td>97.42</td>\n",
       "      <td>0.70</td>\n",
       "      <td>0.67</td>\n",
       "    </tr>\n",
       "    <tr>\n",
       "      <th>10</th>\n",
       "      <td>ADBR</td>\n",
       "      <td>95.08</td>\n",
       "      <td>95.12</td>\n",
       "      <td>1.12</td>\n",
       "      <td>-0.04</td>\n",
       "    </tr>\n",
       "    <tr>\n",
       "      <th>11</th>\n",
       "      <td>GDBR</td>\n",
       "      <td>97.90</td>\n",
       "      <td>97.49</td>\n",
       "      <td>0.73</td>\n",
       "      <td>0.41</td>\n",
       "    </tr>\n",
       "  </tbody>\n",
       "</table>\n",
       "</div>"
      ],
      "text/plain": [
       "   Model  R2 score  CV score  RMSE  Difference\n",
       "0     LR     90.46     89.86  1.56        0.60\n",
       "1     L1     86.63     82.33  2.04        4.30\n",
       "2     L2     90.43     89.30  1.56        1.13\n",
       "3    DTC     95.79     91.17  1.03        4.62\n",
       "4   SVRP     84.70     67.17  1.97       17.53\n",
       "5   SVRL     90.62     88.76  1.19        1.86\n",
       "6    SVR     89.55     90.09  1.63       -0.54\n",
       "7     KN     92.04     92.91  1.42       -0.87\n",
       "8    SGD     90.42     89.30  1.56        1.12\n",
       "9    RFR     98.09     97.42  0.70        0.67\n",
       "10  ADBR     95.08     95.12  1.12       -0.04\n",
       "11  GDBR     97.90     97.49  0.73        0.41"
      ]
     },
     "execution_count": 95,
     "metadata": {},
     "output_type": "execute_result"
    }
   ],
   "source": [
    "result"
   ]
  },
  {
   "cell_type": "markdown",
   "id": "b309b381",
   "metadata": {},
   "source": [
    "FRom the sCORE TABLE  GRADIENTBOOSTING MODEL IS PERFORM WELL AND LESS ERROR "
   ]
  },
  {
   "cell_type": "code",
   "execution_count": 96,
   "id": "5fb4fdf4",
   "metadata": {},
   "outputs": [
    {
     "data": {
      "text/plain": [
       "Text(0.5, 1.0, 'Regression plot of GradientBoosting')"
      ]
     },
     "execution_count": 96,
     "metadata": {},
     "output_type": "execute_result"
    },
    {
     "data": {
      "image/png": "[encoded data removed]",
      "text/plain": [
       "<Figure size 864x576 with 1 Axes>"
      ]
     },
     "metadata": {
      "needs_background": "light"
     },
     "output_type": "display_data"
    }
   ],
   "source": [
    "plt.figure(figsize=(12,8))\n",
    "sns.regplot(y_test,pred_gr)\n",
    "plt.title('Regression plot of GradientBoosting')"
   ]
  },
  {
   "cell_type": "code",
   "execution_count": 97,
   "id": "072c159c",
   "metadata": {},
   "outputs": [
    {
     "data": {
      "text/html": [
       "<div>\n",
       "<style scoped>\n",
       "    .dataframe tbody tr th:only-of-type {\n",
       "        vertical-align: middle;\n",
       "    }\n",
       "\n",
       "    .dataframe tbody tr th {\n",
       "        vertical-align: top;\n",
       "    }\n",
       "\n",
       "    .dataframe thead th {\n",
       "        text-align: right;\n",
       "    }\n",
       "</style>\n",
       "<table border=\"1\" class=\"dataframe\">\n",
       "  <thead>\n",
       "    <tr style=\"text-align: right;\">\n",
       "      <th></th>\n",
       "      <th>Actual</th>\n",
       "      <th>Predicted</th>\n",
       "    </tr>\n",
       "  </thead>\n",
       "  <tbody>\n",
       "    <tr>\n",
       "      <th>96</th>\n",
       "      <td>11.7</td>\n",
       "      <td>11.332673</td>\n",
       "    </tr>\n",
       "    <tr>\n",
       "      <th>31</th>\n",
       "      <td>11.9</td>\n",
       "      <td>12.867898</td>\n",
       "    </tr>\n",
       "    <tr>\n",
       "      <th>2</th>\n",
       "      <td>9.3</td>\n",
       "      <td>8.415943</td>\n",
       "    </tr>\n",
       "    <tr>\n",
       "      <th>44</th>\n",
       "      <td>8.5</td>\n",
       "      <td>8.639132</td>\n",
       "    </tr>\n",
       "    <tr>\n",
       "      <th>122</th>\n",
       "      <td>11.6</td>\n",
       "      <td>11.138592</td>\n",
       "    </tr>\n",
       "    <tr>\n",
       "      <th>19</th>\n",
       "      <td>14.6</td>\n",
       "      <td>15.410604</td>\n",
       "    </tr>\n",
       "    <tr>\n",
       "      <th>65</th>\n",
       "      <td>9.3</td>\n",
       "      <td>10.365293</td>\n",
       "    </tr>\n",
       "    <tr>\n",
       "      <th>161</th>\n",
       "      <td>13.3</td>\n",
       "      <td>13.665369</td>\n",
       "    </tr>\n",
       "    <tr>\n",
       "      <th>23</th>\n",
       "      <td>15.5</td>\n",
       "      <td>15.639468</td>\n",
       "    </tr>\n",
       "    <tr>\n",
       "      <th>36</th>\n",
       "      <td>25.4</td>\n",
       "      <td>25.227688</td>\n",
       "    </tr>\n",
       "    <tr>\n",
       "      <th>124</th>\n",
       "      <td>19.7</td>\n",
       "      <td>19.621951</td>\n",
       "    </tr>\n",
       "    <tr>\n",
       "      <th>105</th>\n",
       "      <td>19.2</td>\n",
       "      <td>17.254412</td>\n",
       "    </tr>\n",
       "    <tr>\n",
       "      <th>76</th>\n",
       "      <td>6.9</td>\n",
       "      <td>7.304271</td>\n",
       "    </tr>\n",
       "    <tr>\n",
       "      <th>115</th>\n",
       "      <td>12.6</td>\n",
       "      <td>13.688362</td>\n",
       "    </tr>\n",
       "    <tr>\n",
       "      <th>7</th>\n",
       "      <td>13.2</td>\n",
       "      <td>13.045782</td>\n",
       "    </tr>\n",
       "    <tr>\n",
       "      <th>157</th>\n",
       "      <td>10.1</td>\n",
       "      <td>10.742973</td>\n",
       "    </tr>\n",
       "    <tr>\n",
       "      <th>133</th>\n",
       "      <td>19.6</td>\n",
       "      <td>19.414827</td>\n",
       "    </tr>\n",
       "    <tr>\n",
       "      <th>41</th>\n",
       "      <td>17.1</td>\n",
       "      <td>18.178207</td>\n",
       "    </tr>\n",
       "    <tr>\n",
       "      <th>187</th>\n",
       "      <td>17.3</td>\n",
       "      <td>18.373275</td>\n",
       "    </tr>\n",
       "    <tr>\n",
       "      <th>24</th>\n",
       "      <td>9.7</td>\n",
       "      <td>9.486703</td>\n",
       "    </tr>\n",
       "    <tr>\n",
       "      <th>163</th>\n",
       "      <td>18.0</td>\n",
       "      <td>17.731728</td>\n",
       "    </tr>\n",
       "    <tr>\n",
       "      <th>0</th>\n",
       "      <td>22.1</td>\n",
       "      <td>21.351084</td>\n",
       "    </tr>\n",
       "    <tr>\n",
       "      <th>177</th>\n",
       "      <td>11.7</td>\n",
       "      <td>12.091384</td>\n",
       "    </tr>\n",
       "    <tr>\n",
       "      <th>132</th>\n",
       "      <td>5.7</td>\n",
       "      <td>5.729941</td>\n",
       "    </tr>\n",
       "    <tr>\n",
       "      <th>178</th>\n",
       "      <td>11.8</td>\n",
       "      <td>11.899078</td>\n",
       "    </tr>\n",
       "    <tr>\n",
       "      <th>117</th>\n",
       "      <td>9.4</td>\n",
       "      <td>9.473595</td>\n",
       "    </tr>\n",
       "    <tr>\n",
       "      <th>107</th>\n",
       "      <td>8.7</td>\n",
       "      <td>9.464925</td>\n",
       "    </tr>\n",
       "    <tr>\n",
       "      <th>116</th>\n",
       "      <td>12.2</td>\n",
       "      <td>12.957646</td>\n",
       "    </tr>\n",
       "    <tr>\n",
       "      <th>98</th>\n",
       "      <td>25.4</td>\n",
       "      <td>25.803290</td>\n",
       "    </tr>\n",
       "    <tr>\n",
       "      <th>37</th>\n",
       "      <td>14.7</td>\n",
       "      <td>14.981546</td>\n",
       "    </tr>\n",
       "    <tr>\n",
       "      <th>123</th>\n",
       "      <td>15.2</td>\n",
       "      <td>16.071295</td>\n",
       "    </tr>\n",
       "    <tr>\n",
       "      <th>191</th>\n",
       "      <td>9.9</td>\n",
       "      <td>10.299926</td>\n",
       "    </tr>\n",
       "    <tr>\n",
       "      <th>127</th>\n",
       "      <td>8.8</td>\n",
       "      <td>9.474230</td>\n",
       "    </tr>\n",
       "    <tr>\n",
       "      <th>94</th>\n",
       "      <td>11.5</td>\n",
       "      <td>12.489620</td>\n",
       "    </tr>\n",
       "    <tr>\n",
       "      <th>151</th>\n",
       "      <td>11.6</td>\n",
       "      <td>11.280906</td>\n",
       "    </tr>\n",
       "    <tr>\n",
       "      <th>73</th>\n",
       "      <td>11.0</td>\n",
       "      <td>11.409235</td>\n",
       "    </tr>\n",
       "    <tr>\n",
       "      <th>150</th>\n",
       "      <td>16.1</td>\n",
       "      <td>15.760125</td>\n",
       "    </tr>\n",
       "    <tr>\n",
       "      <th>142</th>\n",
       "      <td>20.1</td>\n",
       "      <td>19.414827</td>\n",
       "    </tr>\n",
       "    <tr>\n",
       "      <th>74</th>\n",
       "      <td>17.0</td>\n",
       "      <td>16.654803</td>\n",
       "    </tr>\n",
       "    <tr>\n",
       "      <th>131</th>\n",
       "      <td>12.7</td>\n",
       "      <td>12.174395</td>\n",
       "    </tr>\n",
       "    <tr>\n",
       "      <th>81</th>\n",
       "      <td>12.3</td>\n",
       "      <td>12.451185</td>\n",
       "    </tr>\n",
       "    <tr>\n",
       "      <th>88</th>\n",
       "      <td>12.9</td>\n",
       "      <td>11.465148</td>\n",
       "    </tr>\n",
       "    <tr>\n",
       "      <th>46</th>\n",
       "      <td>10.6</td>\n",
       "      <td>10.294179</td>\n",
       "    </tr>\n",
       "    <tr>\n",
       "      <th>11</th>\n",
       "      <td>17.4</td>\n",
       "      <td>16.745840</td>\n",
       "    </tr>\n",
       "    <tr>\n",
       "      <th>119</th>\n",
       "      <td>6.6</td>\n",
       "      <td>7.365139</td>\n",
       "    </tr>\n",
       "    <tr>\n",
       "      <th>42</th>\n",
       "      <td>20.7</td>\n",
       "      <td>19.861438</td>\n",
       "    </tr>\n",
       "    <tr>\n",
       "      <th>80</th>\n",
       "      <td>11.8</td>\n",
       "      <td>11.445532</td>\n",
       "    </tr>\n",
       "    <tr>\n",
       "      <th>158</th>\n",
       "      <td>7.3</td>\n",
       "      <td>6.608559</td>\n",
       "    </tr>\n",
       "    <tr>\n",
       "      <th>103</th>\n",
       "      <td>14.7</td>\n",
       "      <td>15.162914</td>\n",
       "    </tr>\n",
       "    <tr>\n",
       "      <th>29</th>\n",
       "      <td>10.5</td>\n",
       "      <td>11.082611</td>\n",
       "    </tr>\n",
       "    <tr>\n",
       "      <th>141</th>\n",
       "      <td>19.2</td>\n",
       "      <td>19.194537</td>\n",
       "    </tr>\n",
       "    <tr>\n",
       "      <th>134</th>\n",
       "      <td>10.8</td>\n",
       "      <td>10.458801</td>\n",
       "    </tr>\n",
       "    <tr>\n",
       "      <th>61</th>\n",
       "      <td>24.2</td>\n",
       "      <td>24.557898</td>\n",
       "    </tr>\n",
       "    <tr>\n",
       "      <th>62</th>\n",
       "      <td>15.7</td>\n",
       "      <td>15.546808</td>\n",
       "    </tr>\n",
       "    <tr>\n",
       "      <th>159</th>\n",
       "      <td>12.9</td>\n",
       "      <td>13.408443</td>\n",
       "    </tr>\n",
       "    <tr>\n",
       "      <th>109</th>\n",
       "      <td>19.8</td>\n",
       "      <td>17.468085</td>\n",
       "    </tr>\n",
       "    <tr>\n",
       "      <th>55</th>\n",
       "      <td>23.7</td>\n",
       "      <td>22.812499</td>\n",
       "    </tr>\n",
       "    <tr>\n",
       "      <th>128</th>\n",
       "      <td>24.7</td>\n",
       "      <td>23.271018</td>\n",
       "    </tr>\n",
       "    <tr>\n",
       "      <th>56</th>\n",
       "      <td>5.5</td>\n",
       "      <td>6.384857</td>\n",
       "    </tr>\n",
       "    <tr>\n",
       "      <th>160</th>\n",
       "      <td>14.4</td>\n",
       "      <td>14.442019</td>\n",
       "    </tr>\n",
       "  </tbody>\n",
       "</table>\n",
       "</div>"
      ],
      "text/plain": [
       "     Actual  Predicted\n",
       "96     11.7  11.332673\n",
       "31     11.9  12.867898\n",
       "2       9.3   8.415943\n",
       "44      8.5   8.639132\n",
       "122    11.6  11.138592\n",
       "19     14.6  15.410604\n",
       "65      9.3  10.365293\n",
       "161    13.3  13.665369\n",
       "23     15.5  15.639468\n",
       "36     25.4  25.227688\n",
       "124    19.7  19.621951\n",
       "105    19.2  17.254412\n",
       "76      6.9   7.304271\n",
       "115    12.6  13.688362\n",
       "7      13.2  13.045782\n",
       "157    10.1  10.742973\n",
       "133    19.6  19.414827\n",
       "41     17.1  18.178207\n",
       "187    17.3  18.373275\n",
       "24      9.7   9.486703\n",
       "163    18.0  17.731728\n",
       "0      22.1  21.351084\n",
       "177    11.7  12.091384\n",
       "132     5.7   5.729941\n",
       "178    11.8  11.899078\n",
       "117     9.4   9.473595\n",
       "107     8.7   9.464925\n",
       "116    12.2  12.957646\n",
       "98     25.4  25.803290\n",
       "37     14.7  14.981546\n",
       "123    15.2  16.071295\n",
       "191     9.9  10.299926\n",
       "127     8.8   9.474230\n",
       "94     11.5  12.489620\n",
       "151    11.6  11.280906\n",
       "73     11.0  11.409235\n",
       "150    16.1  15.760125\n",
       "142    20.1  19.414827\n",
       "74     17.0  16.654803\n",
       "131    12.7  12.174395\n",
       "81     12.3  12.451185\n",
       "88     12.9  11.465148\n",
       "46     10.6  10.294179\n",
       "11     17.4  16.745840\n",
       "119     6.6   7.365139\n",
       "42     20.7  19.861438\n",
       "80     11.8  11.445532\n",
       "158     7.3   6.608559\n",
       "103    14.7  15.162914\n",
       "29     10.5  11.082611\n",
       "141    19.2  19.194537\n",
       "134    10.8  10.458801\n",
       "61     24.2  24.557898\n",
       "62     15.7  15.546808\n",
       "159    12.9  13.408443\n",
       "109    19.8  17.468085\n",
       "55     23.7  22.812499\n",
       "128    24.7  23.271018\n",
       "56      5.5   6.384857\n",
       "160    14.4  14.442019"
      ]
     },
     "execution_count": 97,
     "metadata": {},
     "output_type": "execute_result"
    }
   ],
   "source": [
    "import joblib\n",
    "joblib.dump(gr,'GRBRAdd.obj')\n",
    "GRBRAdd=joblib.load('GRBRAdd.obj')\n",
    "pd.DataFrame({'Actual':y_test,'Predicted':pred_gr})"
   ]
  },
  {
   "cell_type": "code",
   "execution_count": null,
   "id": "6030b280",
   "metadata": {},
   "outputs": [],
   "source": []
  }
 ],
 "metadata": {
  "kernelspec": {
   "display_name": "Python 3",
   "language": "python",
   "name": "python3"
  },
  "language_info": {
   "codemirror_mode": {
    "name": "ipython",
    "version": 3
   },
   "file_extension": ".py",
   "mimetype": "text/x-python",
   "name": "python",
   "nbconvert_exporter": "python",
   "pygments_lexer": "ipython3",
   "version": "3.8.8"
  }
 },
 "nbformat": 4,
 "nbformat_minor": 5
}
