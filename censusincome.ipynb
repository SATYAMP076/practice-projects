{
 "cells": [
  {
   "cell_type": "code",
   "execution_count": 738,
   "id": "dfffa28b",
   "metadata": {},
   "outputs": [],
   "source": [
    "import pandas as pd\n",
    "import numpy as np\n",
    "import matplotlib.pyplot as plt\n",
    "import seaborn as sns\n",
    "import warnings\n",
    "warnings.filterwarnings('ignore')"
   ]
  },
  {
   "cell_type": "code",
   "execution_count": 739,
   "id": "5533a0a5",
   "metadata": {},
   "outputs": [
    {
     "data": {
      "text/html": [
       "<div>\n",
       "<style scoped>\n",
       "    .dataframe tbody tr th:only-of-type {\n",
       "        vertical-align: middle;\n",
       "    }\n",
       "\n",
       "    .dataframe tbody tr th {\n",
       "        vertical-align: top;\n",
       "    }\n",
       "\n",
       "    .dataframe thead th {\n",
       "        text-align: right;\n",
       "    }\n",
       "</style>\n",
       "<table border=\"1\" class=\"dataframe\">\n",
       "  <thead>\n",
       "    <tr style=\"text-align: right;\">\n",
       "      <th></th>\n",
       "      <th>Age</th>\n",
       "      <th>Workclass</th>\n",
       "      <th>Fnlwgt</th>\n",
       "      <th>Education</th>\n",
       "      <th>Education_num</th>\n",
       "      <th>Marital_status</th>\n",
       "      <th>Occupation</th>\n",
       "      <th>Relationship</th>\n",
       "      <th>Race</th>\n",
       "      <th>Sex</th>\n",
       "      <th>Capital_gain</th>\n",
       "      <th>Capital_loss</th>\n",
       "      <th>Hours_per_week</th>\n",
       "      <th>Native_country</th>\n",
       "      <th>Income</th>\n",
       "    </tr>\n",
       "  </thead>\n",
       "  <tbody>\n",
       "    <tr>\n",
       "      <th>0</th>\n",
       "      <td>50</td>\n",
       "      <td>Self-emp-not-inc</td>\n",
       "      <td>83311</td>\n",
       "      <td>Bachelors</td>\n",
       "      <td>13</td>\n",
       "      <td>Married-civ-spouse</td>\n",
       "      <td>Exec-managerial</td>\n",
       "      <td>Husband</td>\n",
       "      <td>White</td>\n",
       "      <td>Male</td>\n",
       "      <td>0</td>\n",
       "      <td>0</td>\n",
       "      <td>13</td>\n",
       "      <td>United-States</td>\n",
       "      <td>&lt;=50K</td>\n",
       "    </tr>\n",
       "    <tr>\n",
       "      <th>1</th>\n",
       "      <td>38</td>\n",
       "      <td>Private</td>\n",
       "      <td>215646</td>\n",
       "      <td>HS-grad</td>\n",
       "      <td>9</td>\n",
       "      <td>Divorced</td>\n",
       "      <td>Handlers-cleaners</td>\n",
       "      <td>Not-in-family</td>\n",
       "      <td>White</td>\n",
       "      <td>Male</td>\n",
       "      <td>0</td>\n",
       "      <td>0</td>\n",
       "      <td>40</td>\n",
       "      <td>United-States</td>\n",
       "      <td>&lt;=50K</td>\n",
       "    </tr>\n",
       "    <tr>\n",
       "      <th>2</th>\n",
       "      <td>53</td>\n",
       "      <td>Private</td>\n",
       "      <td>234721</td>\n",
       "      <td>11th</td>\n",
       "      <td>7</td>\n",
       "      <td>Married-civ-spouse</td>\n",
       "      <td>Handlers-cleaners</td>\n",
       "      <td>Husband</td>\n",
       "      <td>Black</td>\n",
       "      <td>Male</td>\n",
       "      <td>0</td>\n",
       "      <td>0</td>\n",
       "      <td>40</td>\n",
       "      <td>United-States</td>\n",
       "      <td>&lt;=50K</td>\n",
       "    </tr>\n",
       "    <tr>\n",
       "      <th>3</th>\n",
       "      <td>28</td>\n",
       "      <td>Private</td>\n",
       "      <td>338409</td>\n",
       "      <td>Bachelors</td>\n",
       "      <td>13</td>\n",
       "      <td>Married-civ-spouse</td>\n",
       "      <td>Prof-specialty</td>\n",
       "      <td>Wife</td>\n",
       "      <td>Black</td>\n",
       "      <td>Female</td>\n",
       "      <td>0</td>\n",
       "      <td>0</td>\n",
       "      <td>40</td>\n",
       "      <td>Cuba</td>\n",
       "      <td>&lt;=50K</td>\n",
       "    </tr>\n",
       "    <tr>\n",
       "      <th>4</th>\n",
       "      <td>37</td>\n",
       "      <td>Private</td>\n",
       "      <td>284582</td>\n",
       "      <td>Masters</td>\n",
       "      <td>14</td>\n",
       "      <td>Married-civ-spouse</td>\n",
       "      <td>Exec-managerial</td>\n",
       "      <td>Wife</td>\n",
       "      <td>White</td>\n",
       "      <td>Female</td>\n",
       "      <td>0</td>\n",
       "      <td>0</td>\n",
       "      <td>40</td>\n",
       "      <td>United-States</td>\n",
       "      <td>&lt;=50K</td>\n",
       "    </tr>\n",
       "    <tr>\n",
       "      <th>...</th>\n",
       "      <td>...</td>\n",
       "      <td>...</td>\n",
       "      <td>...</td>\n",
       "      <td>...</td>\n",
       "      <td>...</td>\n",
       "      <td>...</td>\n",
       "      <td>...</td>\n",
       "      <td>...</td>\n",
       "      <td>...</td>\n",
       "      <td>...</td>\n",
       "      <td>...</td>\n",
       "      <td>...</td>\n",
       "      <td>...</td>\n",
       "      <td>...</td>\n",
       "      <td>...</td>\n",
       "    </tr>\n",
       "    <tr>\n",
       "      <th>32555</th>\n",
       "      <td>27</td>\n",
       "      <td>Private</td>\n",
       "      <td>257302</td>\n",
       "      <td>Assoc-acdm</td>\n",
       "      <td>12</td>\n",
       "      <td>Married-civ-spouse</td>\n",
       "      <td>Tech-support</td>\n",
       "      <td>Wife</td>\n",
       "      <td>White</td>\n",
       "      <td>Female</td>\n",
       "      <td>0</td>\n",
       "      <td>0</td>\n",
       "      <td>38</td>\n",
       "      <td>United-States</td>\n",
       "      <td>&lt;=50K</td>\n",
       "    </tr>\n",
       "    <tr>\n",
       "      <th>32556</th>\n",
       "      <td>40</td>\n",
       "      <td>Private</td>\n",
       "      <td>154374</td>\n",
       "      <td>HS-grad</td>\n",
       "      <td>9</td>\n",
       "      <td>Married-civ-spouse</td>\n",
       "      <td>Machine-op-inspct</td>\n",
       "      <td>Husband</td>\n",
       "      <td>White</td>\n",
       "      <td>Male</td>\n",
       "      <td>0</td>\n",
       "      <td>0</td>\n",
       "      <td>40</td>\n",
       "      <td>United-States</td>\n",
       "      <td>&gt;50K</td>\n",
       "    </tr>\n",
       "    <tr>\n",
       "      <th>32557</th>\n",
       "      <td>58</td>\n",
       "      <td>Private</td>\n",
       "      <td>151910</td>\n",
       "      <td>HS-grad</td>\n",
       "      <td>9</td>\n",
       "      <td>Widowed</td>\n",
       "      <td>Adm-clerical</td>\n",
       "      <td>Unmarried</td>\n",
       "      <td>White</td>\n",
       "      <td>Female</td>\n",
       "      <td>0</td>\n",
       "      <td>0</td>\n",
       "      <td>40</td>\n",
       "      <td>United-States</td>\n",
       "      <td>&lt;=50K</td>\n",
       "    </tr>\n",
       "    <tr>\n",
       "      <th>32558</th>\n",
       "      <td>22</td>\n",
       "      <td>Private</td>\n",
       "      <td>201490</td>\n",
       "      <td>HS-grad</td>\n",
       "      <td>9</td>\n",
       "      <td>Never-married</td>\n",
       "      <td>Adm-clerical</td>\n",
       "      <td>Own-child</td>\n",
       "      <td>White</td>\n",
       "      <td>Male</td>\n",
       "      <td>0</td>\n",
       "      <td>0</td>\n",
       "      <td>20</td>\n",
       "      <td>United-States</td>\n",
       "      <td>&lt;=50K</td>\n",
       "    </tr>\n",
       "    <tr>\n",
       "      <th>32559</th>\n",
       "      <td>52</td>\n",
       "      <td>Self-emp-inc</td>\n",
       "      <td>287927</td>\n",
       "      <td>HS-grad</td>\n",
       "      <td>9</td>\n",
       "      <td>Married-civ-spouse</td>\n",
       "      <td>Exec-managerial</td>\n",
       "      <td>Wife</td>\n",
       "      <td>White</td>\n",
       "      <td>Female</td>\n",
       "      <td>15024</td>\n",
       "      <td>0</td>\n",
       "      <td>40</td>\n",
       "      <td>United-States</td>\n",
       "      <td>&gt;50K</td>\n",
       "    </tr>\n",
       "  </tbody>\n",
       "</table>\n",
       "<p>32560 rows × 15 columns</p>\n",
       "</div>"
      ],
      "text/plain": [
       "       Age          Workclass  Fnlwgt    Education  Education_num  \\\n",
       "0       50   Self-emp-not-inc   83311    Bachelors             13   \n",
       "1       38            Private  215646      HS-grad              9   \n",
       "2       53            Private  234721         11th              7   \n",
       "3       28            Private  338409    Bachelors             13   \n",
       "4       37            Private  284582      Masters             14   \n",
       "...    ...                ...     ...          ...            ...   \n",
       "32555   27            Private  257302   Assoc-acdm             12   \n",
       "32556   40            Private  154374      HS-grad              9   \n",
       "32557   58            Private  151910      HS-grad              9   \n",
       "32558   22            Private  201490      HS-grad              9   \n",
       "32559   52       Self-emp-inc  287927      HS-grad              9   \n",
       "\n",
       "            Marital_status          Occupation    Relationship    Race  \\\n",
       "0       Married-civ-spouse     Exec-managerial         Husband   White   \n",
       "1                 Divorced   Handlers-cleaners   Not-in-family   White   \n",
       "2       Married-civ-spouse   Handlers-cleaners         Husband   Black   \n",
       "3       Married-civ-spouse      Prof-specialty            Wife   Black   \n",
       "4       Married-civ-spouse     Exec-managerial            Wife   White   \n",
       "...                    ...                 ...             ...     ...   \n",
       "32555   Married-civ-spouse        Tech-support            Wife   White   \n",
       "32556   Married-civ-spouse   Machine-op-inspct         Husband   White   \n",
       "32557              Widowed        Adm-clerical       Unmarried   White   \n",
       "32558        Never-married        Adm-clerical       Own-child   White   \n",
       "32559   Married-civ-spouse     Exec-managerial            Wife   White   \n",
       "\n",
       "           Sex  Capital_gain  Capital_loss  Hours_per_week  Native_country  \\\n",
       "0         Male             0             0              13   United-States   \n",
       "1         Male             0             0              40   United-States   \n",
       "2         Male             0             0              40   United-States   \n",
       "3       Female             0             0              40            Cuba   \n",
       "4       Female             0             0              40   United-States   \n",
       "...        ...           ...           ...             ...             ...   \n",
       "32555   Female             0             0              38   United-States   \n",
       "32556     Male             0             0              40   United-States   \n",
       "32557   Female             0             0              40   United-States   \n",
       "32558     Male             0             0              20   United-States   \n",
       "32559   Female         15024             0              40   United-States   \n",
       "\n",
       "       Income  \n",
       "0       <=50K  \n",
       "1       <=50K  \n",
       "2       <=50K  \n",
       "3       <=50K  \n",
       "4       <=50K  \n",
       "...       ...  \n",
       "32555   <=50K  \n",
       "32556    >50K  \n",
       "32557   <=50K  \n",
       "32558   <=50K  \n",
       "32559    >50K  \n",
       "\n",
       "[32560 rows x 15 columns]"
      ]
     },
     "execution_count": 739,
     "metadata": {},
     "output_type": "execute_result"
    }
   ],
   "source": [
    "df=pd.read_csv('https://raw.githubusercontent.com/dsrscientist/dataset1/master/census_income.csv')\n",
    "df"
   ]
  },
  {
   "cell_type": "code",
   "execution_count": 740,
   "id": "c7387845",
   "metadata": {},
   "outputs": [
    {
     "name": "stdout",
     "output_type": "stream",
     "text": [
      "<class 'pandas.core.frame.DataFrame'>\n",
      "RangeIndex: 32560 entries, 0 to 32559\n",
      "Data columns (total 15 columns):\n",
      " #   Column          Non-Null Count  Dtype \n",
      "---  ------          --------------  ----- \n",
      " 0   Age             32560 non-null  int64 \n",
      " 1   Workclass       32560 non-null  object\n",
      " 2   Fnlwgt          32560 non-null  int64 \n",
      " 3   Education       32560 non-null  object\n",
      " 4   Education_num   32560 non-null  int64 \n",
      " 5   Marital_status  32560 non-null  object\n",
      " 6   Occupation      32560 non-null  object\n",
      " 7   Relationship    32560 non-null  object\n",
      " 8   Race            32560 non-null  object\n",
      " 9   Sex             32560 non-null  object\n",
      " 10  Capital_gain    32560 non-null  int64 \n",
      " 11  Capital_loss    32560 non-null  int64 \n",
      " 12  Hours_per_week  32560 non-null  int64 \n",
      " 13  Native_country  32560 non-null  object\n",
      " 14  Income          32560 non-null  object\n",
      "dtypes: int64(6), object(9)\n",
      "memory usage: 3.7+ MB\n"
     ]
    }
   ],
   "source": [
    "df.info()"
   ]
  },
  {
   "cell_type": "code",
   "execution_count": 741,
   "id": "bcd806a2",
   "metadata": {},
   "outputs": [
    {
     "data": {
      "text/plain": [
       "(32560, 15)"
      ]
     },
     "execution_count": 741,
     "metadata": {},
     "output_type": "execute_result"
    }
   ],
   "source": [
    "df.shape"
   ]
  },
  {
   "cell_type": "code",
   "execution_count": 742,
   "id": "930f8093",
   "metadata": {},
   "outputs": [
    {
     "data": {
      "text/plain": [
       "Age               0\n",
       "Workclass         0\n",
       "Fnlwgt            0\n",
       "Education         0\n",
       "Education_num     0\n",
       "Marital_status    0\n",
       "Occupation        0\n",
       "Relationship      0\n",
       "Race              0\n",
       "Sex               0\n",
       "Capital_gain      0\n",
       "Capital_loss      0\n",
       "Hours_per_week    0\n",
       "Native_country    0\n",
       "Income            0\n",
       "dtype: int64"
      ]
     },
     "execution_count": 742,
     "metadata": {},
     "output_type": "execute_result"
    }
   ],
   "source": [
    "#checking  null values\n",
    "df.isnull().sum()"
   ]
  },
  {
   "cell_type": "code",
   "execution_count": 743,
   "id": "67fb5c4b",
   "metadata": {},
   "outputs": [
    {
     "data": {
      "text/plain": [
       "24"
      ]
     },
     "execution_count": 743,
     "metadata": {},
     "output_type": "execute_result"
    }
   ],
   "source": [
    "# checking duplicates values\n",
    "df.duplicated().sum()"
   ]
  },
  {
   "cell_type": "code",
   "execution_count": 744,
   "id": "0fec358b",
   "metadata": {},
   "outputs": [
    {
     "data": {
      "text/html": [
       "<div>\n",
       "<style scoped>\n",
       "    .dataframe tbody tr th:only-of-type {\n",
       "        vertical-align: middle;\n",
       "    }\n",
       "\n",
       "    .dataframe tbody tr th {\n",
       "        vertical-align: top;\n",
       "    }\n",
       "\n",
       "    .dataframe thead th {\n",
       "        text-align: right;\n",
       "    }\n",
       "</style>\n",
       "<table border=\"1\" class=\"dataframe\">\n",
       "  <thead>\n",
       "    <tr style=\"text-align: right;\">\n",
       "      <th></th>\n",
       "      <th>Age</th>\n",
       "      <th>Workclass</th>\n",
       "      <th>Fnlwgt</th>\n",
       "      <th>Education</th>\n",
       "      <th>Education_num</th>\n",
       "      <th>Marital_status</th>\n",
       "      <th>Occupation</th>\n",
       "      <th>Relationship</th>\n",
       "      <th>Race</th>\n",
       "      <th>Sex</th>\n",
       "      <th>Capital_gain</th>\n",
       "      <th>Capital_loss</th>\n",
       "      <th>Hours_per_week</th>\n",
       "      <th>Native_country</th>\n",
       "      <th>Income</th>\n",
       "    </tr>\n",
       "  </thead>\n",
       "  <tbody>\n",
       "    <tr>\n",
       "      <th>0</th>\n",
       "      <td>50</td>\n",
       "      <td>Self-emp-not-inc</td>\n",
       "      <td>83311</td>\n",
       "      <td>Bachelors</td>\n",
       "      <td>13</td>\n",
       "      <td>Married-civ-spouse</td>\n",
       "      <td>Exec-managerial</td>\n",
       "      <td>Husband</td>\n",
       "      <td>White</td>\n",
       "      <td>Male</td>\n",
       "      <td>0</td>\n",
       "      <td>0</td>\n",
       "      <td>13</td>\n",
       "      <td>United-States</td>\n",
       "      <td>&lt;=50K</td>\n",
       "    </tr>\n",
       "    <tr>\n",
       "      <th>1</th>\n",
       "      <td>38</td>\n",
       "      <td>Private</td>\n",
       "      <td>215646</td>\n",
       "      <td>HS-grad</td>\n",
       "      <td>9</td>\n",
       "      <td>Divorced</td>\n",
       "      <td>Handlers-cleaners</td>\n",
       "      <td>Not-in-family</td>\n",
       "      <td>White</td>\n",
       "      <td>Male</td>\n",
       "      <td>0</td>\n",
       "      <td>0</td>\n",
       "      <td>40</td>\n",
       "      <td>United-States</td>\n",
       "      <td>&lt;=50K</td>\n",
       "    </tr>\n",
       "    <tr>\n",
       "      <th>2</th>\n",
       "      <td>53</td>\n",
       "      <td>Private</td>\n",
       "      <td>234721</td>\n",
       "      <td>11th</td>\n",
       "      <td>7</td>\n",
       "      <td>Married-civ-spouse</td>\n",
       "      <td>Handlers-cleaners</td>\n",
       "      <td>Husband</td>\n",
       "      <td>Black</td>\n",
       "      <td>Male</td>\n",
       "      <td>0</td>\n",
       "      <td>0</td>\n",
       "      <td>40</td>\n",
       "      <td>United-States</td>\n",
       "      <td>&lt;=50K</td>\n",
       "    </tr>\n",
       "    <tr>\n",
       "      <th>3</th>\n",
       "      <td>28</td>\n",
       "      <td>Private</td>\n",
       "      <td>338409</td>\n",
       "      <td>Bachelors</td>\n",
       "      <td>13</td>\n",
       "      <td>Married-civ-spouse</td>\n",
       "      <td>Prof-specialty</td>\n",
       "      <td>Wife</td>\n",
       "      <td>Black</td>\n",
       "      <td>Female</td>\n",
       "      <td>0</td>\n",
       "      <td>0</td>\n",
       "      <td>40</td>\n",
       "      <td>Cuba</td>\n",
       "      <td>&lt;=50K</td>\n",
       "    </tr>\n",
       "    <tr>\n",
       "      <th>4</th>\n",
       "      <td>37</td>\n",
       "      <td>Private</td>\n",
       "      <td>284582</td>\n",
       "      <td>Masters</td>\n",
       "      <td>14</td>\n",
       "      <td>Married-civ-spouse</td>\n",
       "      <td>Exec-managerial</td>\n",
       "      <td>Wife</td>\n",
       "      <td>White</td>\n",
       "      <td>Female</td>\n",
       "      <td>0</td>\n",
       "      <td>0</td>\n",
       "      <td>40</td>\n",
       "      <td>United-States</td>\n",
       "      <td>&lt;=50K</td>\n",
       "    </tr>\n",
       "    <tr>\n",
       "      <th>...</th>\n",
       "      <td>...</td>\n",
       "      <td>...</td>\n",
       "      <td>...</td>\n",
       "      <td>...</td>\n",
       "      <td>...</td>\n",
       "      <td>...</td>\n",
       "      <td>...</td>\n",
       "      <td>...</td>\n",
       "      <td>...</td>\n",
       "      <td>...</td>\n",
       "      <td>...</td>\n",
       "      <td>...</td>\n",
       "      <td>...</td>\n",
       "      <td>...</td>\n",
       "      <td>...</td>\n",
       "    </tr>\n",
       "    <tr>\n",
       "      <th>32555</th>\n",
       "      <td>27</td>\n",
       "      <td>Private</td>\n",
       "      <td>257302</td>\n",
       "      <td>Assoc-acdm</td>\n",
       "      <td>12</td>\n",
       "      <td>Married-civ-spouse</td>\n",
       "      <td>Tech-support</td>\n",
       "      <td>Wife</td>\n",
       "      <td>White</td>\n",
       "      <td>Female</td>\n",
       "      <td>0</td>\n",
       "      <td>0</td>\n",
       "      <td>38</td>\n",
       "      <td>United-States</td>\n",
       "      <td>&lt;=50K</td>\n",
       "    </tr>\n",
       "    <tr>\n",
       "      <th>32556</th>\n",
       "      <td>40</td>\n",
       "      <td>Private</td>\n",
       "      <td>154374</td>\n",
       "      <td>HS-grad</td>\n",
       "      <td>9</td>\n",
       "      <td>Married-civ-spouse</td>\n",
       "      <td>Machine-op-inspct</td>\n",
       "      <td>Husband</td>\n",
       "      <td>White</td>\n",
       "      <td>Male</td>\n",
       "      <td>0</td>\n",
       "      <td>0</td>\n",
       "      <td>40</td>\n",
       "      <td>United-States</td>\n",
       "      <td>&gt;50K</td>\n",
       "    </tr>\n",
       "    <tr>\n",
       "      <th>32557</th>\n",
       "      <td>58</td>\n",
       "      <td>Private</td>\n",
       "      <td>151910</td>\n",
       "      <td>HS-grad</td>\n",
       "      <td>9</td>\n",
       "      <td>Widowed</td>\n",
       "      <td>Adm-clerical</td>\n",
       "      <td>Unmarried</td>\n",
       "      <td>White</td>\n",
       "      <td>Female</td>\n",
       "      <td>0</td>\n",
       "      <td>0</td>\n",
       "      <td>40</td>\n",
       "      <td>United-States</td>\n",
       "      <td>&lt;=50K</td>\n",
       "    </tr>\n",
       "    <tr>\n",
       "      <th>32558</th>\n",
       "      <td>22</td>\n",
       "      <td>Private</td>\n",
       "      <td>201490</td>\n",
       "      <td>HS-grad</td>\n",
       "      <td>9</td>\n",
       "      <td>Never-married</td>\n",
       "      <td>Adm-clerical</td>\n",
       "      <td>Own-child</td>\n",
       "      <td>White</td>\n",
       "      <td>Male</td>\n",
       "      <td>0</td>\n",
       "      <td>0</td>\n",
       "      <td>20</td>\n",
       "      <td>United-States</td>\n",
       "      <td>&lt;=50K</td>\n",
       "    </tr>\n",
       "    <tr>\n",
       "      <th>32559</th>\n",
       "      <td>52</td>\n",
       "      <td>Self-emp-inc</td>\n",
       "      <td>287927</td>\n",
       "      <td>HS-grad</td>\n",
       "      <td>9</td>\n",
       "      <td>Married-civ-spouse</td>\n",
       "      <td>Exec-managerial</td>\n",
       "      <td>Wife</td>\n",
       "      <td>White</td>\n",
       "      <td>Female</td>\n",
       "      <td>15024</td>\n",
       "      <td>0</td>\n",
       "      <td>40</td>\n",
       "      <td>United-States</td>\n",
       "      <td>&gt;50K</td>\n",
       "    </tr>\n",
       "  </tbody>\n",
       "</table>\n",
       "<p>32536 rows × 15 columns</p>\n",
       "</div>"
      ],
      "text/plain": [
       "       Age          Workclass  Fnlwgt    Education  Education_num  \\\n",
       "0       50   Self-emp-not-inc   83311    Bachelors             13   \n",
       "1       38            Private  215646      HS-grad              9   \n",
       "2       53            Private  234721         11th              7   \n",
       "3       28            Private  338409    Bachelors             13   \n",
       "4       37            Private  284582      Masters             14   \n",
       "...    ...                ...     ...          ...            ...   \n",
       "32555   27            Private  257302   Assoc-acdm             12   \n",
       "32556   40            Private  154374      HS-grad              9   \n",
       "32557   58            Private  151910      HS-grad              9   \n",
       "32558   22            Private  201490      HS-grad              9   \n",
       "32559   52       Self-emp-inc  287927      HS-grad              9   \n",
       "\n",
       "            Marital_status          Occupation    Relationship    Race  \\\n",
       "0       Married-civ-spouse     Exec-managerial         Husband   White   \n",
       "1                 Divorced   Handlers-cleaners   Not-in-family   White   \n",
       "2       Married-civ-spouse   Handlers-cleaners         Husband   Black   \n",
       "3       Married-civ-spouse      Prof-specialty            Wife   Black   \n",
       "4       Married-civ-spouse     Exec-managerial            Wife   White   \n",
       "...                    ...                 ...             ...     ...   \n",
       "32555   Married-civ-spouse        Tech-support            Wife   White   \n",
       "32556   Married-civ-spouse   Machine-op-inspct         Husband   White   \n",
       "32557              Widowed        Adm-clerical       Unmarried   White   \n",
       "32558        Never-married        Adm-clerical       Own-child   White   \n",
       "32559   Married-civ-spouse     Exec-managerial            Wife   White   \n",
       "\n",
       "           Sex  Capital_gain  Capital_loss  Hours_per_week  Native_country  \\\n",
       "0         Male             0             0              13   United-States   \n",
       "1         Male             0             0              40   United-States   \n",
       "2         Male             0             0              40   United-States   \n",
       "3       Female             0             0              40            Cuba   \n",
       "4       Female             0             0              40   United-States   \n",
       "...        ...           ...           ...             ...             ...   \n",
       "32555   Female             0             0              38   United-States   \n",
       "32556     Male             0             0              40   United-States   \n",
       "32557   Female             0             0              40   United-States   \n",
       "32558     Male             0             0              20   United-States   \n",
       "32559   Female         15024             0              40   United-States   \n",
       "\n",
       "       Income  \n",
       "0       <=50K  \n",
       "1       <=50K  \n",
       "2       <=50K  \n",
       "3       <=50K  \n",
       "4       <=50K  \n",
       "...       ...  \n",
       "32555   <=50K  \n",
       "32556    >50K  \n",
       "32557   <=50K  \n",
       "32558   <=50K  \n",
       "32559    >50K  \n",
       "\n",
       "[32536 rows x 15 columns]"
      ]
     },
     "execution_count": 744,
     "metadata": {},
     "output_type": "execute_result"
    }
   ],
   "source": [
    "# remove duplicates values\n",
    "df=df.drop_duplicates()\n",
    "df"
   ]
  },
  {
   "cell_type": "code",
   "execution_count": 745,
   "id": "f00a8d8f",
   "metadata": {},
   "outputs": [
    {
     "data": {
      "text/html": [
       "<div>\n",
       "<style scoped>\n",
       "    .dataframe tbody tr th:only-of-type {\n",
       "        vertical-align: middle;\n",
       "    }\n",
       "\n",
       "    .dataframe tbody tr th {\n",
       "        vertical-align: top;\n",
       "    }\n",
       "\n",
       "    .dataframe thead th {\n",
       "        text-align: right;\n",
       "    }\n",
       "</style>\n",
       "<table border=\"1\" class=\"dataframe\">\n",
       "  <thead>\n",
       "    <tr style=\"text-align: right;\">\n",
       "      <th></th>\n",
       "      <th>Age</th>\n",
       "      <th>Workclass</th>\n",
       "      <th>Fnlwgt</th>\n",
       "      <th>Education</th>\n",
       "      <th>Education_num</th>\n",
       "      <th>Marital_status</th>\n",
       "      <th>Occupation</th>\n",
       "      <th>Relationship</th>\n",
       "      <th>Race</th>\n",
       "      <th>Sex</th>\n",
       "      <th>Capital_gain</th>\n",
       "      <th>Capital_loss</th>\n",
       "      <th>Hours_per_week</th>\n",
       "      <th>Native_country</th>\n",
       "      <th>Income</th>\n",
       "    </tr>\n",
       "  </thead>\n",
       "  <tbody>\n",
       "    <tr>\n",
       "      <th>32555</th>\n",
       "      <td>27</td>\n",
       "      <td>Private</td>\n",
       "      <td>257302</td>\n",
       "      <td>Assoc-acdm</td>\n",
       "      <td>12</td>\n",
       "      <td>Married-civ-spouse</td>\n",
       "      <td>Tech-support</td>\n",
       "      <td>Wife</td>\n",
       "      <td>White</td>\n",
       "      <td>Female</td>\n",
       "      <td>0</td>\n",
       "      <td>0</td>\n",
       "      <td>38</td>\n",
       "      <td>United-States</td>\n",
       "      <td>&lt;=50K</td>\n",
       "    </tr>\n",
       "    <tr>\n",
       "      <th>32556</th>\n",
       "      <td>40</td>\n",
       "      <td>Private</td>\n",
       "      <td>154374</td>\n",
       "      <td>HS-grad</td>\n",
       "      <td>9</td>\n",
       "      <td>Married-civ-spouse</td>\n",
       "      <td>Machine-op-inspct</td>\n",
       "      <td>Husband</td>\n",
       "      <td>White</td>\n",
       "      <td>Male</td>\n",
       "      <td>0</td>\n",
       "      <td>0</td>\n",
       "      <td>40</td>\n",
       "      <td>United-States</td>\n",
       "      <td>&gt;50K</td>\n",
       "    </tr>\n",
       "    <tr>\n",
       "      <th>32557</th>\n",
       "      <td>58</td>\n",
       "      <td>Private</td>\n",
       "      <td>151910</td>\n",
       "      <td>HS-grad</td>\n",
       "      <td>9</td>\n",
       "      <td>Widowed</td>\n",
       "      <td>Adm-clerical</td>\n",
       "      <td>Unmarried</td>\n",
       "      <td>White</td>\n",
       "      <td>Female</td>\n",
       "      <td>0</td>\n",
       "      <td>0</td>\n",
       "      <td>40</td>\n",
       "      <td>United-States</td>\n",
       "      <td>&lt;=50K</td>\n",
       "    </tr>\n",
       "    <tr>\n",
       "      <th>32558</th>\n",
       "      <td>22</td>\n",
       "      <td>Private</td>\n",
       "      <td>201490</td>\n",
       "      <td>HS-grad</td>\n",
       "      <td>9</td>\n",
       "      <td>Never-married</td>\n",
       "      <td>Adm-clerical</td>\n",
       "      <td>Own-child</td>\n",
       "      <td>White</td>\n",
       "      <td>Male</td>\n",
       "      <td>0</td>\n",
       "      <td>0</td>\n",
       "      <td>20</td>\n",
       "      <td>United-States</td>\n",
       "      <td>&lt;=50K</td>\n",
       "    </tr>\n",
       "    <tr>\n",
       "      <th>32559</th>\n",
       "      <td>52</td>\n",
       "      <td>Self-emp-inc</td>\n",
       "      <td>287927</td>\n",
       "      <td>HS-grad</td>\n",
       "      <td>9</td>\n",
       "      <td>Married-civ-spouse</td>\n",
       "      <td>Exec-managerial</td>\n",
       "      <td>Wife</td>\n",
       "      <td>White</td>\n",
       "      <td>Female</td>\n",
       "      <td>15024</td>\n",
       "      <td>0</td>\n",
       "      <td>40</td>\n",
       "      <td>United-States</td>\n",
       "      <td>&gt;50K</td>\n",
       "    </tr>\n",
       "  </tbody>\n",
       "</table>\n",
       "</div>"
      ],
      "text/plain": [
       "       Age      Workclass  Fnlwgt    Education  Education_num  \\\n",
       "32555   27        Private  257302   Assoc-acdm             12   \n",
       "32556   40        Private  154374      HS-grad              9   \n",
       "32557   58        Private  151910      HS-grad              9   \n",
       "32558   22        Private  201490      HS-grad              9   \n",
       "32559   52   Self-emp-inc  287927      HS-grad              9   \n",
       "\n",
       "            Marital_status          Occupation Relationship    Race      Sex  \\\n",
       "32555   Married-civ-spouse        Tech-support         Wife   White   Female   \n",
       "32556   Married-civ-spouse   Machine-op-inspct      Husband   White     Male   \n",
       "32557              Widowed        Adm-clerical    Unmarried   White   Female   \n",
       "32558        Never-married        Adm-clerical    Own-child   White     Male   \n",
       "32559   Married-civ-spouse     Exec-managerial         Wife   White   Female   \n",
       "\n",
       "       Capital_gain  Capital_loss  Hours_per_week  Native_country  Income  \n",
       "32555             0             0              38   United-States   <=50K  \n",
       "32556             0             0              40   United-States    >50K  \n",
       "32557             0             0              40   United-States   <=50K  \n",
       "32558             0             0              20   United-States   <=50K  \n",
       "32559         15024             0              40   United-States    >50K  "
      ]
     },
     "execution_count": 745,
     "metadata": {},
     "output_type": "execute_result"
    }
   ],
   "source": [
    "df.tail()"
   ]
  },
  {
   "cell_type": "code",
   "execution_count": 746,
   "id": "8ea1207f",
   "metadata": {},
   "outputs": [
    {
     "data": {
      "text/html": [
       "<div>\n",
       "<style scoped>\n",
       "    .dataframe tbody tr th:only-of-type {\n",
       "        vertical-align: middle;\n",
       "    }\n",
       "\n",
       "    .dataframe tbody tr th {\n",
       "        vertical-align: top;\n",
       "    }\n",
       "\n",
       "    .dataframe thead th {\n",
       "        text-align: right;\n",
       "    }\n",
       "</style>\n",
       "<table border=\"1\" class=\"dataframe\">\n",
       "  <thead>\n",
       "    <tr style=\"text-align: right;\">\n",
       "      <th></th>\n",
       "      <th>Age</th>\n",
       "      <th>Workclass</th>\n",
       "      <th>Fnlwgt</th>\n",
       "      <th>Education</th>\n",
       "      <th>Education_num</th>\n",
       "      <th>Marital_status</th>\n",
       "      <th>Occupation</th>\n",
       "      <th>Relationship</th>\n",
       "      <th>Race</th>\n",
       "      <th>Sex</th>\n",
       "      <th>Capital_gain</th>\n",
       "      <th>Capital_loss</th>\n",
       "      <th>Hours_per_week</th>\n",
       "      <th>Native_country</th>\n",
       "      <th>Income</th>\n",
       "    </tr>\n",
       "  </thead>\n",
       "  <tbody>\n",
       "    <tr>\n",
       "      <th>2106</th>\n",
       "      <td>26</td>\n",
       "      <td>Private</td>\n",
       "      <td>211265</td>\n",
       "      <td>Some-college</td>\n",
       "      <td>10</td>\n",
       "      <td>Married-spouse-absent</td>\n",
       "      <td>Craft-repair</td>\n",
       "      <td>Other-relative</td>\n",
       "      <td>Black</td>\n",
       "      <td>Female</td>\n",
       "      <td>0</td>\n",
       "      <td>0</td>\n",
       "      <td>35</td>\n",
       "      <td>Dominican-Republic</td>\n",
       "      <td>&lt;=50K</td>\n",
       "    </tr>\n",
       "    <tr>\n",
       "      <th>19002</th>\n",
       "      <td>17</td>\n",
       "      <td>Private</td>\n",
       "      <td>198830</td>\n",
       "      <td>11th</td>\n",
       "      <td>7</td>\n",
       "      <td>Never-married</td>\n",
       "      <td>Adm-clerical</td>\n",
       "      <td>Other-relative</td>\n",
       "      <td>White</td>\n",
       "      <td>Female</td>\n",
       "      <td>0</td>\n",
       "      <td>0</td>\n",
       "      <td>10</td>\n",
       "      <td>United-States</td>\n",
       "      <td>&lt;=50K</td>\n",
       "    </tr>\n",
       "    <tr>\n",
       "      <th>26379</th>\n",
       "      <td>35</td>\n",
       "      <td>Self-emp-not-inc</td>\n",
       "      <td>22641</td>\n",
       "      <td>HS-grad</td>\n",
       "      <td>9</td>\n",
       "      <td>Married-civ-spouse</td>\n",
       "      <td>Transport-moving</td>\n",
       "      <td>Husband</td>\n",
       "      <td>Amer-Indian-Eskimo</td>\n",
       "      <td>Male</td>\n",
       "      <td>0</td>\n",
       "      <td>0</td>\n",
       "      <td>40</td>\n",
       "      <td>United-States</td>\n",
       "      <td>&lt;=50K</td>\n",
       "    </tr>\n",
       "    <tr>\n",
       "      <th>14553</th>\n",
       "      <td>59</td>\n",
       "      <td>Private</td>\n",
       "      <td>70720</td>\n",
       "      <td>Bachelors</td>\n",
       "      <td>13</td>\n",
       "      <td>Divorced</td>\n",
       "      <td>Sales</td>\n",
       "      <td>Not-in-family</td>\n",
       "      <td>White</td>\n",
       "      <td>Male</td>\n",
       "      <td>0</td>\n",
       "      <td>0</td>\n",
       "      <td>55</td>\n",
       "      <td>United-States</td>\n",
       "      <td>&gt;50K</td>\n",
       "    </tr>\n",
       "    <tr>\n",
       "      <th>29250</th>\n",
       "      <td>28</td>\n",
       "      <td>Private</td>\n",
       "      <td>303440</td>\n",
       "      <td>Bachelors</td>\n",
       "      <td>13</td>\n",
       "      <td>Separated</td>\n",
       "      <td>Exec-managerial</td>\n",
       "      <td>Not-in-family</td>\n",
       "      <td>White</td>\n",
       "      <td>Female</td>\n",
       "      <td>0</td>\n",
       "      <td>0</td>\n",
       "      <td>50</td>\n",
       "      <td>United-States</td>\n",
       "      <td>&gt;50K</td>\n",
       "    </tr>\n",
       "    <tr>\n",
       "      <th>7087</th>\n",
       "      <td>50</td>\n",
       "      <td>Self-emp-inc</td>\n",
       "      <td>287598</td>\n",
       "      <td>Some-college</td>\n",
       "      <td>10</td>\n",
       "      <td>Married-civ-spouse</td>\n",
       "      <td>Craft-repair</td>\n",
       "      <td>Husband</td>\n",
       "      <td>White</td>\n",
       "      <td>Male</td>\n",
       "      <td>0</td>\n",
       "      <td>0</td>\n",
       "      <td>70</td>\n",
       "      <td>United-States</td>\n",
       "      <td>&lt;=50K</td>\n",
       "    </tr>\n",
       "    <tr>\n",
       "      <th>30164</th>\n",
       "      <td>33</td>\n",
       "      <td>Private</td>\n",
       "      <td>122672</td>\n",
       "      <td>HS-grad</td>\n",
       "      <td>9</td>\n",
       "      <td>Married-civ-spouse</td>\n",
       "      <td>Farming-fishing</td>\n",
       "      <td>Husband</td>\n",
       "      <td>White</td>\n",
       "      <td>Male</td>\n",
       "      <td>0</td>\n",
       "      <td>0</td>\n",
       "      <td>50</td>\n",
       "      <td>United-States</td>\n",
       "      <td>&lt;=50K</td>\n",
       "    </tr>\n",
       "    <tr>\n",
       "      <th>11367</th>\n",
       "      <td>22</td>\n",
       "      <td>Private</td>\n",
       "      <td>214716</td>\n",
       "      <td>HS-grad</td>\n",
       "      <td>9</td>\n",
       "      <td>Never-married</td>\n",
       "      <td>Other-service</td>\n",
       "      <td>Own-child</td>\n",
       "      <td>White</td>\n",
       "      <td>Female</td>\n",
       "      <td>0</td>\n",
       "      <td>0</td>\n",
       "      <td>40</td>\n",
       "      <td>United-States</td>\n",
       "      <td>&lt;=50K</td>\n",
       "    </tr>\n",
       "    <tr>\n",
       "      <th>16323</th>\n",
       "      <td>61</td>\n",
       "      <td>Private</td>\n",
       "      <td>160062</td>\n",
       "      <td>HS-grad</td>\n",
       "      <td>9</td>\n",
       "      <td>Married-civ-spouse</td>\n",
       "      <td>Adm-clerical</td>\n",
       "      <td>Husband</td>\n",
       "      <td>White</td>\n",
       "      <td>Male</td>\n",
       "      <td>0</td>\n",
       "      <td>0</td>\n",
       "      <td>40</td>\n",
       "      <td>United-States</td>\n",
       "      <td>&lt;=50K</td>\n",
       "    </tr>\n",
       "    <tr>\n",
       "      <th>11093</th>\n",
       "      <td>47</td>\n",
       "      <td>Private</td>\n",
       "      <td>193061</td>\n",
       "      <td>Some-college</td>\n",
       "      <td>10</td>\n",
       "      <td>Divorced</td>\n",
       "      <td>Exec-managerial</td>\n",
       "      <td>Not-in-family</td>\n",
       "      <td>White</td>\n",
       "      <td>Male</td>\n",
       "      <td>0</td>\n",
       "      <td>0</td>\n",
       "      <td>60</td>\n",
       "      <td>United-States</td>\n",
       "      <td>&lt;=50K</td>\n",
       "    </tr>\n",
       "  </tbody>\n",
       "</table>\n",
       "</div>"
      ],
      "text/plain": [
       "       Age          Workclass  Fnlwgt      Education  Education_num  \\\n",
       "2106    26            Private  211265   Some-college             10   \n",
       "19002   17            Private  198830           11th              7   \n",
       "26379   35   Self-emp-not-inc   22641        HS-grad              9   \n",
       "14553   59            Private   70720      Bachelors             13   \n",
       "29250   28            Private  303440      Bachelors             13   \n",
       "7087    50       Self-emp-inc  287598   Some-college             10   \n",
       "30164   33            Private  122672        HS-grad              9   \n",
       "11367   22            Private  214716        HS-grad              9   \n",
       "16323   61            Private  160062        HS-grad              9   \n",
       "11093   47            Private  193061   Some-college             10   \n",
       "\n",
       "               Marital_status         Occupation     Relationship  \\\n",
       "2106    Married-spouse-absent       Craft-repair   Other-relative   \n",
       "19002           Never-married       Adm-clerical   Other-relative   \n",
       "26379      Married-civ-spouse   Transport-moving          Husband   \n",
       "14553                Divorced              Sales    Not-in-family   \n",
       "29250               Separated    Exec-managerial    Not-in-family   \n",
       "7087       Married-civ-spouse       Craft-repair          Husband   \n",
       "30164      Married-civ-spouse    Farming-fishing          Husband   \n",
       "11367           Never-married      Other-service        Own-child   \n",
       "16323      Married-civ-spouse       Adm-clerical          Husband   \n",
       "11093                Divorced    Exec-managerial    Not-in-family   \n",
       "\n",
       "                      Race      Sex  Capital_gain  Capital_loss  \\\n",
       "2106                 Black   Female             0             0   \n",
       "19002                White   Female             0             0   \n",
       "26379   Amer-Indian-Eskimo     Male             0             0   \n",
       "14553                White     Male             0             0   \n",
       "29250                White   Female             0             0   \n",
       "7087                 White     Male             0             0   \n",
       "30164                White     Male             0             0   \n",
       "11367                White   Female             0             0   \n",
       "16323                White     Male             0             0   \n",
       "11093                White     Male             0             0   \n",
       "\n",
       "       Hours_per_week       Native_country  Income  \n",
       "2106               35   Dominican-Republic   <=50K  \n",
       "19002              10        United-States   <=50K  \n",
       "26379              40        United-States   <=50K  \n",
       "14553              55        United-States    >50K  \n",
       "29250              50        United-States    >50K  \n",
       "7087               70        United-States   <=50K  \n",
       "30164              50        United-States   <=50K  \n",
       "11367              40        United-States   <=50K  \n",
       "16323              40        United-States   <=50K  \n",
       "11093              60        United-States   <=50K  "
      ]
     },
     "execution_count": 746,
     "metadata": {},
     "output_type": "execute_result"
    }
   ],
   "source": [
    "df.sample(10)"
   ]
  },
  {
   "cell_type": "code",
   "execution_count": 747,
   "id": "77ce30d5",
   "metadata": {},
   "outputs": [
    {
     "data": {
      "text/plain": [
       "0"
      ]
     },
     "execution_count": 747,
     "metadata": {},
     "output_type": "execute_result"
    }
   ],
   "source": [
    "df.duplicated().sum()"
   ]
  },
  {
   "cell_type": "code",
   "execution_count": 748,
   "id": "7e211bd2",
   "metadata": {},
   "outputs": [
    {
     "data": {
      "text/plain": [
       "['Age',\n",
       " 'Fnlwgt',\n",
       " 'Education_num',\n",
       " 'Capital_gain',\n",
       " 'Capital_loss',\n",
       " 'Hours_per_week']"
      ]
     },
     "execution_count": 748,
     "metadata": {},
     "output_type": "execute_result"
    }
   ],
   "source": [
    "# differenciate features\n",
    "numerical_features=[features for features in df.columns if df[features].dtypes != 'O']\n",
    "numerical_features"
   ]
  },
  {
   "cell_type": "code",
   "execution_count": 749,
   "id": "ff9b39e8",
   "metadata": {},
   "outputs": [
    {
     "data": {
      "text/plain": [
       "['Education_num']"
      ]
     },
     "execution_count": 749,
     "metadata": {},
     "output_type": "execute_result"
    }
   ],
   "source": [
    "descreate_features=[i for i in numerical_features if len(df[i].unique())<50 ]\n",
    "descreate_features"
   ]
  },
  {
   "cell_type": "code",
   "execution_count": 750,
   "id": "5d81c841",
   "metadata": {},
   "outputs": [
    {
     "data": {
      "text/plain": [
       "['Workclass',\n",
       " 'Education',\n",
       " 'Marital_status',\n",
       " 'Occupation',\n",
       " 'Relationship',\n",
       " 'Race',\n",
       " 'Sex',\n",
       " 'Native_country',\n",
       " 'Income']"
      ]
     },
     "execution_count": 750,
     "metadata": {},
     "output_type": "execute_result"
    }
   ],
   "source": [
    "categorical_features=[features for features in df.columns if df[features].dtypes == 'O']\n",
    "categorical_features"
   ]
  },
  {
   "cell_type": "code",
   "execution_count": 751,
   "id": "44aaba21",
   "metadata": {},
   "outputs": [
    {
     "name": "stdout",
     "output_type": "stream",
     "text": [
      "no. of unique values :: 9\n",
      " Private             22673\n",
      " Self-emp-not-inc     2540\n",
      " Local-gov            2093\n",
      " ?                    1836\n",
      " State-gov            1297\n",
      " Self-emp-inc         1116\n",
      " Federal-gov           960\n",
      " Without-pay            14\n",
      " Never-worked            7\n",
      "Name: Workclass, dtype: int64 \n",
      "\n",
      "no. of unique values :: 16\n",
      " HS-grad         10494\n",
      " Some-college     7282\n",
      " Bachelors        5352\n",
      " Masters          1722\n",
      " Assoc-voc        1382\n",
      " 11th             1175\n",
      " Assoc-acdm       1067\n",
      " 10th              933\n",
      " 7th-8th           645\n",
      " Prof-school       576\n",
      " 9th               514\n",
      " 12th              433\n",
      " Doctorate         413\n",
      " 5th-6th           332\n",
      " 1st-4th           166\n",
      " Preschool          50\n",
      "Name: Education, dtype: int64 \n",
      "\n",
      "no. of unique values :: 7\n",
      " Married-civ-spouse       14970\n",
      " Never-married            10666\n",
      " Divorced                  4441\n",
      " Separated                 1025\n",
      " Widowed                    993\n",
      " Married-spouse-absent      418\n",
      " Married-AF-spouse           23\n",
      "Name: Marital_status, dtype: int64 \n",
      "\n",
      "no. of unique values :: 15\n",
      " Prof-specialty       4136\n",
      " Craft-repair         4094\n",
      " Exec-managerial      4065\n",
      " Adm-clerical         3767\n",
      " Sales                3650\n",
      " Other-service        3291\n",
      " Machine-op-inspct    2000\n",
      " ?                    1843\n",
      " Transport-moving     1597\n",
      " Handlers-cleaners    1369\n",
      " Farming-fishing       992\n",
      " Tech-support          927\n",
      " Protective-serv       649\n",
      " Priv-house-serv       147\n",
      " Armed-Forces            9\n",
      "Name: Occupation, dtype: int64 \n",
      "\n",
      "no. of unique values :: 6\n",
      " Husband           13187\n",
      " Not-in-family      8291\n",
      " Own-child          5064\n",
      " Unmarried          3445\n",
      " Wife               1568\n",
      " Other-relative      981\n",
      "Name: Relationship, dtype: int64 \n",
      "\n",
      "no. of unique values :: 5\n",
      " White                 27794\n",
      " Black                  3122\n",
      " Asian-Pac-Islander     1038\n",
      " Amer-Indian-Eskimo      311\n",
      " Other                   271\n",
      "Name: Race, dtype: int64 \n",
      "\n",
      "no. of unique values :: 2\n",
      " Male      21774\n",
      " Female    10762\n",
      "Name: Sex, dtype: int64 \n",
      "\n",
      "no. of unique values :: 42\n",
      " United-States                 29152\n",
      " Mexico                          639\n",
      " ?                               582\n",
      " Philippines                     198\n",
      " Germany                         137\n",
      " Canada                          121\n",
      " Puerto-Rico                     114\n",
      " El-Salvador                     106\n",
      " India                           100\n",
      " Cuba                             95\n",
      " England                          90\n",
      " Jamaica                          81\n",
      " South                            80\n",
      " China                            75\n",
      " Italy                            73\n",
      " Dominican-Republic               70\n",
      " Vietnam                          67\n",
      " Guatemala                        62\n",
      " Japan                            62\n",
      " Poland                           60\n",
      " Columbia                         59\n",
      " Taiwan                           51\n",
      " Haiti                            44\n",
      " Iran                             43\n",
      " Portugal                         37\n",
      " Nicaragua                        34\n",
      " Peru                             31\n",
      " Greece                           29\n",
      " France                           29\n",
      " Ecuador                          28\n",
      " Ireland                          24\n",
      " Hong                             20\n",
      " Trinadad&Tobago                  19\n",
      " Cambodia                         19\n",
      " Laos                             18\n",
      " Thailand                         18\n",
      " Yugoslavia                       16\n",
      " Outlying-US(Guam-USVI-etc)       14\n",
      " Honduras                         13\n",
      " Hungary                          13\n",
      " Scotland                         12\n",
      " Holand-Netherlands                1\n",
      "Name: Native_country, dtype: int64 \n",
      "\n",
      "no. of unique values :: 2\n",
      " <=50K    24697\n",
      " >50K      7839\n",
      "Name: Income, dtype: int64 \n",
      "\n"
     ]
    }
   ],
   "source": [
    "# in data set \"?\" value that indicate null value but don't show\n",
    "for i in categorical_features:\n",
    "    print('no. of unique values ::',df[i].nunique(),)\n",
    "    print(df[i].value_counts(),'\\n')"
   ]
  },
  {
   "cell_type": "code",
   "execution_count": 752,
   "id": "2988f6e2",
   "metadata": {},
   "outputs": [
    {
     "data": {
      "text/plain": [
       "Age                  0\n",
       "Workclass         1836\n",
       "Fnlwgt               0\n",
       "Education            0\n",
       "Education_num        0\n",
       "Marital_status       0\n",
       "Occupation        1843\n",
       "Relationship         0\n",
       "Race                 0\n",
       "Sex                  0\n",
       "Capital_gain         0\n",
       "Capital_loss         0\n",
       "Hours_per_week       0\n",
       "Native_country     582\n",
       "Income               0\n",
       "dtype: int64"
      ]
     },
     "execution_count": 752,
     "metadata": {},
     "output_type": "execute_result"
    }
   ],
   "source": [
    "# indicate null values\n",
    "df.isin([' ?']).sum()"
   ]
  },
  {
   "cell_type": "code",
   "execution_count": 753,
   "id": "95901742",
   "metadata": {},
   "outputs": [],
   "source": [
    "df=df.replace(' ?',np.nan)"
   ]
  },
  {
   "cell_type": "code",
   "execution_count": 754,
   "id": "fe225ee0",
   "metadata": {},
   "outputs": [
    {
     "data": {
      "text/plain": [
       "Age                  0\n",
       "Workclass         1836\n",
       "Fnlwgt               0\n",
       "Education            0\n",
       "Education_num        0\n",
       "Marital_status       0\n",
       "Occupation        1843\n",
       "Relationship         0\n",
       "Race                 0\n",
       "Sex                  0\n",
       "Capital_gain         0\n",
       "Capital_loss         0\n",
       "Hours_per_week       0\n",
       "Native_country     582\n",
       "Income               0\n",
       "dtype: int64"
      ]
     },
     "execution_count": 754,
     "metadata": {},
     "output_type": "execute_result"
    }
   ],
   "source": [
    "df.isnull().sum()"
   ]
  },
  {
   "cell_type": "code",
   "execution_count": 755,
   "id": "63e52ac1",
   "metadata": {},
   "outputs": [],
   "source": [
    "table=[]\n",
    "for i in df.columns:\n",
    "    table.append([i,df[i].nunique(),df[i].values])"
   ]
  },
  {
   "cell_type": "code",
   "execution_count": 756,
   "id": "6ed7e925",
   "metadata": {},
   "outputs": [
    {
     "data": {
      "text/html": [
       "<div>\n",
       "<style scoped>\n",
       "    .dataframe tbody tr th:only-of-type {\n",
       "        vertical-align: middle;\n",
       "    }\n",
       "\n",
       "    .dataframe tbody tr th {\n",
       "        vertical-align: top;\n",
       "    }\n",
       "\n",
       "    .dataframe thead th {\n",
       "        text-align: right;\n",
       "    }\n",
       "</style>\n",
       "<table border=\"1\" class=\"dataframe\">\n",
       "  <thead>\n",
       "    <tr style=\"text-align: right;\">\n",
       "      <th></th>\n",
       "      <th>features</th>\n",
       "      <th>unique values</th>\n",
       "      <th>values</th>\n",
       "    </tr>\n",
       "  </thead>\n",
       "  <tbody>\n",
       "    <tr>\n",
       "      <th>0</th>\n",
       "      <td>Age</td>\n",
       "      <td>73</td>\n",
       "      <td>[50, 38, 53, 28, 37, 49, 52, 31, 42, 37, 30, 2...</td>\n",
       "    </tr>\n",
       "    <tr>\n",
       "      <th>1</th>\n",
       "      <td>Workclass</td>\n",
       "      <td>8</td>\n",
       "      <td>[ Self-emp-not-inc,  Private,  Private,  Priva...</td>\n",
       "    </tr>\n",
       "    <tr>\n",
       "      <th>2</th>\n",
       "      <td>Fnlwgt</td>\n",
       "      <td>21647</td>\n",
       "      <td>[83311, 215646, 234721, 338409, 284582, 160187...</td>\n",
       "    </tr>\n",
       "    <tr>\n",
       "      <th>3</th>\n",
       "      <td>Education</td>\n",
       "      <td>16</td>\n",
       "      <td>[ Bachelors,  HS-grad,  11th,  Bachelors,  Mas...</td>\n",
       "    </tr>\n",
       "    <tr>\n",
       "      <th>4</th>\n",
       "      <td>Education_num</td>\n",
       "      <td>16</td>\n",
       "      <td>[13, 9, 7, 13, 14, 5, 9, 14, 13, 10, 13, 13, 1...</td>\n",
       "    </tr>\n",
       "    <tr>\n",
       "      <th>5</th>\n",
       "      <td>Marital_status</td>\n",
       "      <td>7</td>\n",
       "      <td>[ Married-civ-spouse,  Divorced,  Married-civ-...</td>\n",
       "    </tr>\n",
       "    <tr>\n",
       "      <th>6</th>\n",
       "      <td>Occupation</td>\n",
       "      <td>14</td>\n",
       "      <td>[ Exec-managerial,  Handlers-cleaners,  Handle...</td>\n",
       "    </tr>\n",
       "    <tr>\n",
       "      <th>7</th>\n",
       "      <td>Relationship</td>\n",
       "      <td>6</td>\n",
       "      <td>[ Husband,  Not-in-family,  Husband,  Wife,  W...</td>\n",
       "    </tr>\n",
       "    <tr>\n",
       "      <th>8</th>\n",
       "      <td>Race</td>\n",
       "      <td>5</td>\n",
       "      <td>[ White,  White,  Black,  Black,  White,  Blac...</td>\n",
       "    </tr>\n",
       "    <tr>\n",
       "      <th>9</th>\n",
       "      <td>Sex</td>\n",
       "      <td>2</td>\n",
       "      <td>[ Male,  Male,  Male,  Female,  Female,  Femal...</td>\n",
       "    </tr>\n",
       "    <tr>\n",
       "      <th>10</th>\n",
       "      <td>Capital_gain</td>\n",
       "      <td>119</td>\n",
       "      <td>[0, 0, 0, 0, 0, 0, 0, 14084, 5178, 0, 0, 0, 0,...</td>\n",
       "    </tr>\n",
       "    <tr>\n",
       "      <th>11</th>\n",
       "      <td>Capital_loss</td>\n",
       "      <td>92</td>\n",
       "      <td>[0, 0, 0, 0, 0, 0, 0, 0, 0, 0, 0, 0, 0, 0, 0, ...</td>\n",
       "    </tr>\n",
       "    <tr>\n",
       "      <th>12</th>\n",
       "      <td>Hours_per_week</td>\n",
       "      <td>94</td>\n",
       "      <td>[13, 40, 40, 40, 40, 16, 45, 50, 40, 80, 40, 3...</td>\n",
       "    </tr>\n",
       "    <tr>\n",
       "      <th>13</th>\n",
       "      <td>Native_country</td>\n",
       "      <td>41</td>\n",
       "      <td>[ United-States,  United-States,  United-State...</td>\n",
       "    </tr>\n",
       "    <tr>\n",
       "      <th>14</th>\n",
       "      <td>Income</td>\n",
       "      <td>2</td>\n",
       "      <td>[ &lt;=50K,  &lt;=50K,  &lt;=50K,  &lt;=50K,  &lt;=50K,  &lt;=50...</td>\n",
       "    </tr>\n",
       "  </tbody>\n",
       "</table>\n",
       "</div>"
      ],
      "text/plain": [
       "          features  unique values  \\\n",
       "0              Age             73   \n",
       "1        Workclass              8   \n",
       "2           Fnlwgt          21647   \n",
       "3        Education             16   \n",
       "4    Education_num             16   \n",
       "5   Marital_status              7   \n",
       "6       Occupation             14   \n",
       "7     Relationship              6   \n",
       "8             Race              5   \n",
       "9              Sex              2   \n",
       "10    Capital_gain            119   \n",
       "11    Capital_loss             92   \n",
       "12  Hours_per_week             94   \n",
       "13  Native_country             41   \n",
       "14          Income              2   \n",
       "\n",
       "                                               values  \n",
       "0   [50, 38, 53, 28, 37, 49, 52, 31, 42, 37, 30, 2...  \n",
       "1   [ Self-emp-not-inc,  Private,  Private,  Priva...  \n",
       "2   [83311, 215646, 234721, 338409, 284582, 160187...  \n",
       "3   [ Bachelors,  HS-grad,  11th,  Bachelors,  Mas...  \n",
       "4   [13, 9, 7, 13, 14, 5, 9, 14, 13, 10, 13, 13, 1...  \n",
       "5   [ Married-civ-spouse,  Divorced,  Married-civ-...  \n",
       "6   [ Exec-managerial,  Handlers-cleaners,  Handle...  \n",
       "7   [ Husband,  Not-in-family,  Husband,  Wife,  W...  \n",
       "8   [ White,  White,  Black,  Black,  White,  Blac...  \n",
       "9   [ Male,  Male,  Male,  Female,  Female,  Femal...  \n",
       "10  [0, 0, 0, 0, 0, 0, 0, 14084, 5178, 0, 0, 0, 0,...  \n",
       "11  [0, 0, 0, 0, 0, 0, 0, 0, 0, 0, 0, 0, 0, 0, 0, ...  \n",
       "12  [13, 40, 40, 40, 40, 16, 45, 50, 40, 80, 40, 3...  \n",
       "13  [ United-States,  United-States,  United-State...  \n",
       "14  [ <=50K,  <=50K,  <=50K,  <=50K,  <=50K,  <=50...  "
      ]
     },
     "execution_count": 756,
     "metadata": {},
     "output_type": "execute_result"
    }
   ],
   "source": [
    "pd.DataFrame(table,columns=['features','unique values','values'])"
   ]
  },
  {
   "cell_type": "code",
   "execution_count": 757,
   "id": "7f8c10de",
   "metadata": {
    "scrolled": false
   },
   "outputs": [
    {
     "data": {
      "image/png": "[encoded data removed]",
      "text/plain": [
       "<Figure size 1080x504 with 1 Axes>"
      ]
     },
     "metadata": {
      "needs_background": "light"
     },
     "output_type": "display_data"
    }
   ],
   "source": [
    "plt.figure(figsize=(15,7))\n",
    "ax=sns.countplot(x='Workclass',data=df,palette='Spectral')\n",
    "for i in ax.patches:\n",
    "    ax.annotate('%{:.2f}'.format(i.get_height()/32560*100),(i.get_x()+.2,i.get_height()+5))\n",
    "plt.title('Workplace',fontsize=20)\n",
    "plt.show()"
   ]
  },
  {
   "cell_type": "markdown",
   "id": "c06c0739",
   "metadata": {},
   "source": [
    "#### in wokring class about ot 70% people working in private sectotrs\n",
    "#### not working and WOP working is very less"
   ]
  },
  {
   "cell_type": "code",
   "execution_count": 758,
   "id": "a4e3d74a",
   "metadata": {},
   "outputs": [
    {
     "data": {
      "image/png": "[encoded data removed]",
      "text/plain": [
       "<Figure size 1080x504 with 1 Axes>"
      ]
     },
     "metadata": {
      "needs_background": "light"
     },
     "output_type": "display_data"
    }
   ],
   "source": [
    "plt.figure(figsize=(15,7))\n",
    "ax=sns.countplot(x='Education',data=df,palette='Spectral')\n",
    "for i in ax.patches:\n",
    "    ax.annotate('%{:.2f}'.format(i.get_height()/32560*100),(i.get_x(),i.get_height()+2))\n",
    "plt.title('Education',fontsize=20)\n",
    "plt.xticks(rotation=90)\n",
    "plt.show()\n",
    "    "
   ]
  },
  {
   "cell_type": "markdown",
   "id": "ca76f7a6",
   "metadata": {},
   "source": [
    "#### most of people are bachelors degree , HS graduate,college studied so it's good for GDP growth and educational growth"
   ]
  },
  {
   "cell_type": "code",
   "execution_count": 759,
   "id": "7b982cd2",
   "metadata": {},
   "outputs": [
    {
     "data": {
      "image/png": "[encoded data removed]",
      "text/plain": [
       "<Figure size 864x504 with 1 Axes>"
      ]
     },
     "metadata": {
      "needs_background": "light"
     },
     "output_type": "display_data"
    }
   ],
   "source": [
    "plt.figure(figsize=(12,7))\n",
    "ax=sns.countplot(x='Marital_status',data=df,palette='Spectral')\n",
    "for i in ax.patches:\n",
    "    ax.annotate('%{:.2f}'.format(i.get_height()/32560*100),(i.get_x()+.2,i.get_height()))\n",
    "plt.title('Marital status',fontsize=20)\n",
    "plt.show()"
   ]
  },
  {
   "cell_type": "markdown",
   "id": "40daa0e6",
   "metadata": {},
   "source": [
    "#### in that married lived with husband/wife and Bachelors's ratio is high 46% & 33%\n",
    "#### divorced ration is 14%"
   ]
  },
  {
   "cell_type": "code",
   "execution_count": 760,
   "id": "0671b2fa",
   "metadata": {},
   "outputs": [
    {
     "data": {
      "image/png": "[encoded data removed]",
      "text/plain": [
       "<Figure size 1080x504 with 1 Axes>"
      ]
     },
     "metadata": {
      "needs_background": "light"
     },
     "output_type": "display_data"
    }
   ],
   "source": [
    "plt.figure(figsize=(15,7))\n",
    "ax=sns.countplot(x='Occupation',data=df,palette='Spectral')\n",
    "for i in ax.patches:\n",
    "    ax.annotate('%{:.2f}'.format(i.get_height()/32560*100),(i.get_x(),i.get_height()))\n",
    "plt.title('Occupation',fontsize=20)\n",
    "plt.xticks(rotation=90)\n",
    "plt.show()"
   ]
  },
  {
   "cell_type": "markdown",
   "id": "7ffb9df0",
   "metadata": {},
   "source": [
    "#### according to accupation exe-manager,prof,craft-repair have majority working persond 13%\n",
    "#### than adm,sales,other services category people working\n",
    "#### less people working in armed force and priv-house sev\n",
    "#### avg people working in transport,handlers,machine inpct"
   ]
  },
  {
   "cell_type": "code",
   "execution_count": 761,
   "id": "30cbef22",
   "metadata": {},
   "outputs": [
    {
     "data": {
      "image/png": "[encoded data removed]",
      "text/plain": [
       "<Figure size 1080x504 with 1 Axes>"
      ]
     },
     "metadata": {
      "needs_background": "light"
     },
     "output_type": "display_data"
    }
   ],
   "source": [
    "plt.figure(figsize=(15,7))\n",
    "ax=sns.countplot(x='Relationship',data=df,palette='Spectral')\n",
    "for i in ax.patches:\n",
    "    ax.annotate('%{:.1f}'.format(i.get_height()/32560*100),(i.get_x()+0.2,i.get_height()))\n",
    "plt.title('Relation with family',fontsize=20)\n",
    "plt.xticks(rotation=90)\n",
    "plt.show()"
   ]
  },
  {
   "cell_type": "markdown",
   "id": "6b048e82",
   "metadata": {},
   "source": [
    "#### moslt earing persons in family is husband"
   ]
  },
  {
   "cell_type": "code",
   "execution_count": 762,
   "id": "fbd9ab34",
   "metadata": {},
   "outputs": [
    {
     "data": {
      "image/png": "[encoded data removed]",
      "text/plain": [
       "<Figure size 1080x504 with 1 Axes>"
      ]
     },
     "metadata": {
      "needs_background": "light"
     },
     "output_type": "display_data"
    }
   ],
   "source": [
    "plt.figure(figsize=(15,7))\n",
    "ax=sns.countplot(x='Race',data=df,palette='Spectral')\n",
    "for i in ax.patches:\n",
    "    ax.annotate('%{:.1f}'.format(i.get_height()/32560*100),(i.get_x()+0.2,i.get_height()))\n",
    "plt.title('Race',fontsize=20)\n",
    "plt.xticks(rotation=90)\n",
    "plt.show()"
   ]
  },
  {
   "cell_type": "code",
   "execution_count": 763,
   "id": "083021b5",
   "metadata": {
    "scrolled": false
   },
   "outputs": [
    {
     "data": {
      "image/png": "[encoded data removed]",
      "text/plain": [
       "<Figure size 1080x504 with 1 Axes>"
      ]
     },
     "metadata": {
      "needs_background": "light"
     },
     "output_type": "display_data"
    }
   ],
   "source": [
    "plt.figure(figsize=(15,7))\n",
    "ax=sns.countplot(x='Sex',data=df,palette='Spectral')\n",
    "for i in ax.patches:\n",
    "    ax.annotate('%{:.2f}'.format(i.get_height()/32560*100),(i.get_x()+0.2,i.get_height()))\n",
    "plt.title('Gender',fontsize=20)\n",
    "plt.xticks(rotation=90)\n",
    "plt.show()"
   ]
  },
  {
   "cell_type": "markdown",
   "id": "b3b49647",
   "metadata": {},
   "source": [
    "#### most male persons are earning\n",
    "#### only 50% of the ratio femal earned"
   ]
  },
  {
   "cell_type": "code",
   "execution_count": 764,
   "id": "7ee62da1",
   "metadata": {},
   "outputs": [
    {
     "data": {
      "image/png": "[encoded data removed]",
      "text/plain": [
       "<Figure size 1080x504 with 1 Axes>"
      ]
     },
     "metadata": {
      "needs_background": "light"
     },
     "output_type": "display_data"
    }
   ],
   "source": [
    "plt.figure(figsize=(15,7))\n",
    "ax=sns.countplot(x='Native_country',data=df,palette='Spectral')\n",
    "plt.title('Country',fontsize=20)\n",
    "plt.xticks(rotation=90)\n",
    "plt.show()"
   ]
  },
  {
   "cell_type": "code",
   "execution_count": 765,
   "id": "c3547c9f",
   "metadata": {},
   "outputs": [],
   "source": [
    "#### USA is high census income country"
   ]
  },
  {
   "cell_type": "code",
   "execution_count": 766,
   "id": "a42b2c43",
   "metadata": {},
   "outputs": [
    {
     "data": {
      "image/png": "[encoded data removed]",
      "text/plain": [
       "<Figure size 720x504 with 1 Axes>"
      ]
     },
     "metadata": {
      "needs_background": "light"
     },
     "output_type": "display_data"
    }
   ],
   "source": [
    "plt.figure(figsize=(10,7))\n",
    "ax=sns.countplot(x='Income',data=df,palette='Spectral')\n",
    "for i in ax.patches:\n",
    "    ax.annotate('%{:.2f}'.format(i.get_height()/32560*100),(i.get_x()+0.2,i.get_height()))\n",
    "plt.title('Income',fontsize=20)\n",
    "plt.xticks(rotation=90)\n",
    "plt.show()"
   ]
  },
  {
   "cell_type": "markdown",
   "id": "f3d9f9fa",
   "metadata": {},
   "source": [
    "#### <=50k earning person ratio is more 76%\n",
    "#### >50k salary earned people 24%"
   ]
  },
  {
   "cell_type": "code",
   "execution_count": 767,
   "id": "1cbbacfb",
   "metadata": {},
   "outputs": [
    {
     "data": {
      "image/png": "[encoded data removed]",
      "text/plain": [
       "<Figure size 1080x504 with 1 Axes>"
      ]
     },
     "metadata": {
      "needs_background": "light"
     },
     "output_type": "display_data"
    }
   ],
   "source": [
    "plt.figure(figsize=(15,7))\n",
    "ax=sns.countplot(x='Native_country',hue='Income',data=df,palette='Spectral')\n",
    "plt.title('Country',fontsize=20)\n",
    "plt.xticks(rotation=90)\n",
    "plt.show()"
   ]
  },
  {
   "cell_type": "markdown",
   "id": "d2e3a8db",
   "metadata": {},
   "source": [
    "#### USA have high >50K salaried persons\n",
    "#### other country have <=50K salaried persons\n",
    "#### philippines have almost equal ratio of >50K and <=50K salaried persons"
   ]
  },
  {
   "cell_type": "code",
   "execution_count": 768,
   "id": "7a30d611",
   "metadata": {},
   "outputs": [
    {
     "data": {
      "image/png": "[encoded data removed]",
      "text/plain": [
       "<Figure size 1080x504 with 1 Axes>"
      ]
     },
     "metadata": {
      "needs_background": "light"
     },
     "output_type": "display_data"
    }
   ],
   "source": [
    "plt.figure(figsize=(15,7))\n",
    "ax=sns.countplot(x='Sex',hue='Income',data=df,palette='Spectral')\n",
    "for i in ax.patches:\n",
    "    ax.annotate('%{:.2f}'.format(i.get_height()/32560*100),(i.get_x()+0.2,i.get_height()))\n",
    "plt.title('Gender',fontsize=20)\n",
    "plt.xticks(rotation=90)\n",
    "plt.show()"
   ]
  },
  {
   "cell_type": "markdown",
   "id": "2caaeff6",
   "metadata": {},
   "source": [
    "#### as compare with gender male has high ration in both income >50k and <=50k"
   ]
  },
  {
   "cell_type": "code",
   "execution_count": 769,
   "id": "e9c64870",
   "metadata": {},
   "outputs": [
    {
     "data": {
      "image/png": "[encoded data removed]",
      "text/plain": [
       "<Figure size 1080x504 with 1 Axes>"
      ]
     },
     "metadata": {
      "needs_background": "light"
     },
     "output_type": "display_data"
    }
   ],
   "source": [
    "plt.figure(figsize=(15,7))\n",
    "ax=sns.countplot(x='Race',hue='Income',data=df,palette='Spectral')\n",
    "for i in ax.patches:\n",
    "    ax.annotate('%{:.2f}'.format(i.get_height()/32560*100),(i.get_x()+0.2,i.get_height()))\n",
    "plt.title('salary according to race',fontsize=20)\n",
    "plt.xticks(rotation=90)\n",
    "plt.show()"
   ]
  },
  {
   "cell_type": "markdown",
   "id": "598e2870",
   "metadata": {},
   "source": [
    "#### white people have high salary ratio \n",
    "#### asian pac have almost same salaried ratio "
   ]
  },
  {
   "cell_type": "code",
   "execution_count": 770,
   "id": "34a899ac",
   "metadata": {
    "scrolled": false
   },
   "outputs": [
    {
     "data": {
      "image/png": "[encoded data removed]",
      "text/plain": [
       "<Figure size 1080x504 with 1 Axes>"
      ]
     },
     "metadata": {
      "needs_background": "light"
     },
     "output_type": "display_data"
    }
   ],
   "source": [
    "plt.figure(figsize=(15,7))\n",
    "ax=sns.countplot(x='Occupation',hue='Income',data=df,palette='Spectral')\n",
    "for i in ax.patches:\n",
    "    ax.annotate('%{:.1f}'.format(i.get_height()/32560*100),(i.get_x(),i.get_height()))\n",
    "plt.title('salary distribution as occupation',fontsize=20)\n",
    "plt.xticks(rotation=90)\n",
    "plt.show()"
   ]
  },
  {
   "cell_type": "markdown",
   "id": "8478e55a",
   "metadata": {},
   "source": [
    "#### in ex managerial,prof-specf have high >50k income\n",
    "#### sales,craft have 1/2 of <=50k income ratio\n",
    "#### other professions have hight <=50K salaried"
   ]
  },
  {
   "cell_type": "code",
   "execution_count": 771,
   "id": "e7943532",
   "metadata": {},
   "outputs": [
    {
     "data": {
      "image/png": "[encoded data removed]",
      "text/plain": [
       "<Figure size 1080x504 with 1 Axes>"
      ]
     },
     "metadata": {
      "needs_background": "light"
     },
     "output_type": "display_data"
    }
   ],
   "source": [
    "plt.figure(figsize=(15,7))\n",
    "ax=sns.countplot(x='Education',hue='Income',data=df,palette='Spectral')\n",
    "for i in ax.patches:\n",
    "    ax.annotate('%{:.1f}'.format(i.get_height()/32560*100),(i.get_x(),i.get_height()))\n",
    "plt.title('salary distribution according to education',fontsize=20)\n",
    "plt.xticks(rotation=90)\n",
    "plt.show()"
   ]
  },
  {
   "cell_type": "markdown",
   "id": "be441f25",
   "metadata": {},
   "source": [
    "#### bachelors have high ratio of salary distribution\n",
    "#### hs-grad and college have high <=50K salaried persons\n",
    "#### master,doctorate,prod-school have more >50K salary ratio"
   ]
  },
  {
   "cell_type": "code",
   "execution_count": 772,
   "id": "7183e395",
   "metadata": {},
   "outputs": [
    {
     "data": {
      "image/png": "[encoded data removed]",
      "text/plain": [
       "<Figure size 1080x504 with 1 Axes>"
      ]
     },
     "metadata": {
      "needs_background": "light"
     },
     "output_type": "display_data"
    }
   ],
   "source": [
    "plt.figure(figsize=(15,7))\n",
    "ax=sns.countplot(x='Workclass',hue='Income',data=df,palette='Spectral')\n",
    "for i in ax.patches:\n",
    "    ax.annotate('%{:.2f}'.format(i.get_height()/32560*100),(i.get_x(),i.get_height()))\n",
    "plt.title('salry distribution as workclass',fontsize=20)\n",
    "plt.xticks(rotation=90)\n",
    "plt.show()"
   ]
  },
  {
   "cell_type": "markdown",
   "id": "341d1214",
   "metadata": {},
   "source": [
    "#### Private sectors hav high <=50K salary\n",
    "#### in fedral-gov have almost equal ration of salary\n",
    "#### self-emp have >50K salary ratio"
   ]
  },
  {
   "cell_type": "code",
   "execution_count": 773,
   "id": "b0973242",
   "metadata": {},
   "outputs": [
    {
     "data": {
      "image/png": "[encoded data removed]",
      "text/plain": [
       "<Figure size 1080x504 with 1 Axes>"
      ]
     },
     "metadata": {
      "needs_background": "light"
     },
     "output_type": "display_data"
    }
   ],
   "source": [
    "plt.figure(figsize=(15,7))\n",
    "ax=sns.countplot(x='Marital_status',hue='Income',data=df,palette='Spectral')\n",
    "for i in ax.patches:\n",
    "    ax.annotate('%{:.1f}'.format(i.get_height()/32560*100),(i.get_x(),i.get_height()))\n",
    "plt.title('salary distribution as to marital status',fontsize=20)\n",
    "plt.xticks(rotation=90)\n",
    "plt.show()"
   ]
  },
  {
   "cell_type": "markdown",
   "id": "a8f80c71",
   "metadata": {},
   "source": [
    "#### marital-civ-spouse have high both salary ratio\n",
    "#### never married have high <=50K salary\n",
    "#### married AF neglegible salary in both category"
   ]
  },
  {
   "cell_type": "code",
   "execution_count": 774,
   "id": "8269d6b7",
   "metadata": {},
   "outputs": [
    {
     "data": {
      "image/png": "[encoded data removed]",
      "text/plain": [
       "<Figure size 1080x504 with 1 Axes>"
      ]
     },
     "metadata": {
      "needs_background": "light"
     },
     "output_type": "display_data"
    }
   ],
   "source": [
    "plt.figure(figsize=(15,7))\n",
    "ax=sns.countplot(x='Education_num',hue='Income',data=df,palette='Spectral')\n",
    "for i in ax.patches:\n",
    "    ax.annotate('%{:.1f}'.format(i.get_height()/32560*100),(i.get_x(),i.get_height()))\n",
    "plt.title('salary distribution as per edication system',fontsize=20)\n",
    "plt.xticks(rotation=90)\n",
    "plt.show()"
   ]
  },
  {
   "cell_type": "markdown",
   "id": "c87fc50a",
   "metadata": {},
   "source": [
    "#### salary ratio high b/t 9 to 14 education calss"
   ]
  },
  {
   "cell_type": "code",
   "execution_count": 775,
   "id": "c26e2321",
   "metadata": {},
   "outputs": [
    {
     "data": {
      "text/plain": [
       "<AxesSubplot:xlabel='Income'>"
      ]
     },
     "execution_count": 775,
     "metadata": {},
     "output_type": "execute_result"
    },
    {
     "data": {
      "image/png": "[encoded data removed]",
      "text/plain": [
       "<Figure size 432x288 with 1 Axes>"
      ]
     },
     "metadata": {
      "needs_background": "light"
     },
     "output_type": "display_data"
    }
   ],
   "source": [
    "df.groupby('Income').agg({'Age':'mean'}).plot(kind='bar')"
   ]
  },
  {
   "cell_type": "code",
   "execution_count": 776,
   "id": "30b83bcf",
   "metadata": {},
   "outputs": [
    {
     "data": {
      "text/plain": [
       "<AxesSubplot:xlabel='Income'>"
      ]
     },
     "execution_count": 776,
     "metadata": {},
     "output_type": "execute_result"
    },
    {
     "data": {
      "image/png": "[encoded data removed]",
      "text/plain": [
       "<Figure size 432x288 with 1 Axes>"
      ]
     },
     "metadata": {
      "needs_background": "light"
     },
     "output_type": "display_data"
    }
   ],
   "source": [
    "df.groupby('Income').agg({'Fnlwgt':'mean'}).plot(kind='bar')"
   ]
  },
  {
   "cell_type": "code",
   "execution_count": 777,
   "id": "e44cc73c",
   "metadata": {},
   "outputs": [
    {
     "data": {
      "text/plain": [
       "<AxesSubplot:xlabel='Income'>"
      ]
     },
     "execution_count": 777,
     "metadata": {},
     "output_type": "execute_result"
    },
    {
     "data": {
      "image/png": "[encoded data removed]",
      "text/plain": [
       "<Figure size 432x288 with 1 Axes>"
      ]
     },
     "metadata": {
      "needs_background": "light"
     },
     "output_type": "display_data"
    }
   ],
   "source": [
    "df.groupby('Income').agg({'Hours_per_week':'mean'}).plot(kind='bar')"
   ]
  },
  {
   "cell_type": "code",
   "execution_count": 778,
   "id": "d213e209",
   "metadata": {},
   "outputs": [
    {
     "data": {
      "text/plain": [
       "<AxesSubplot:xlabel='Income'>"
      ]
     },
     "execution_count": 778,
     "metadata": {},
     "output_type": "execute_result"
    },
    {
     "data": {
      "image/png": "[encoded data removed]",
      "text/plain": [
       "<Figure size 432x288 with 1 Axes>"
      ]
     },
     "metadata": {
      "needs_background": "light"
     },
     "output_type": "display_data"
    }
   ],
   "source": [
    "df.groupby('Income').agg({'Capital_gain':'mean'}).plot(kind='bar')"
   ]
  },
  {
   "cell_type": "code",
   "execution_count": 779,
   "id": "0f070aa5",
   "metadata": {
    "scrolled": true
   },
   "outputs": [
    {
     "data": {
      "text/plain": [
       "<AxesSubplot:xlabel='Income'>"
      ]
     },
     "execution_count": 779,
     "metadata": {},
     "output_type": "execute_result"
    },
    {
     "data": {
      "image/png": "[encoded data removed]",
      "text/plain": [
       "<Figure size 432x288 with 1 Axes>"
      ]
     },
     "metadata": {
      "needs_background": "light"
     },
     "output_type": "display_data"
    }
   ],
   "source": [
    "df.groupby('Income').agg({'Capital_loss':'mean'}).plot(kind='bar')"
   ]
  },
  {
   "cell_type": "code",
   "execution_count": 780,
   "id": "342dfddf",
   "metadata": {
    "scrolled": true
   },
   "outputs": [
    {
     "data": {
      "text/plain": [
       "<AxesSubplot:xlabel='Education_num', ylabel='Income'>"
      ]
     },
     "execution_count": 780,
     "metadata": {},
     "output_type": "execute_result"
    },
    {
     "data": {
      "image/png": "[encoded data removed]",
      "text/plain": [
       "<Figure size 432x288 with 1 Axes>"
      ]
     },
     "metadata": {
      "needs_background": "light"
     },
     "output_type": "display_data"
    }
   ],
   "source": [
    "sns.barplot(x='Education_num',y='Income',data=df)"
   ]
  },
  {
   "cell_type": "markdown",
   "id": "9012026b",
   "metadata": {},
   "source": [
    "### filling missing data"
   ]
  },
  {
   "cell_type": "code",
   "execution_count": 781,
   "id": "69fc17ed",
   "metadata": {},
   "outputs": [],
   "source": [
    "df.loc[df[\"Income\"]==\" <=50K\",[\"Workclass\"]]=df.loc[df[\"Income\"]==\" <=50K\",[\"Workclass\"]].fillna(df.loc[df[\"Income\"]==\" <=50K\",[\"Workclass\"]].mode().iloc[0])\n",
    "df.loc[df[\"Income\"]==\" >50K\",[\"Workclass\"]]=df.loc[df[\"Income\"]==\" >50K\",[\"Workclass\"]].fillna(df.loc[df[\"Income\"]==\" >50K\",[\"Workclass\"]].mode().iloc[0])"
   ]
  },
  {
   "cell_type": "code",
   "execution_count": 782,
   "id": "1593125d",
   "metadata": {},
   "outputs": [],
   "source": [
    "df.loc[df[\"Income\"]==\" <=50K\",[\"Occupation\"]]=df.loc[df[\"Income\"]==\" <=50K\",[\"Occupation\"]].fillna(df.loc[df[\"Income\"]==\" <=50K\",[\"Occupation\"]].mode().iloc[0])\n",
    "df.loc[df[\"Income\"]==\" >50K\",[\"Occupation\"]]=df.loc[df[\"Income\"]==\" >50K\",[\"Occupation\"]].fillna(df.loc[df[\"Income\"]==\" >50K\",[\"Occupation\"]].mode().iloc[0])"
   ]
  },
  {
   "cell_type": "code",
   "execution_count": 783,
   "id": "89ec852a",
   "metadata": {},
   "outputs": [],
   "source": [
    "df.loc[df[\"Income\"]==\" <=50K\",[\"Native_country\"]]=df.loc[df[\"Income\"]==\" <=50K\",[\"Native_country\"]].fillna(df.loc[df[\"Income\"]==\" <=50K\",[\"Native_country\"]].mode().iloc[0])\n",
    "df.loc[df[\"Income\"]==\" >50K\",[\"Native_country\"]]=df.loc[df[\"Income\"]==\" >50K\",[\"Native_country\"]].fillna(df.loc[df[\"Income\"]==\" >50K\",[\"Native_country\"]].mode().iloc[0])"
   ]
  },
  {
   "cell_type": "code",
   "execution_count": 784,
   "id": "d4f87bf8",
   "metadata": {},
   "outputs": [
    {
     "data": {
      "text/plain": [
       "Age               0\n",
       "Workclass         0\n",
       "Fnlwgt            0\n",
       "Education         0\n",
       "Education_num     0\n",
       "Marital_status    0\n",
       "Occupation        0\n",
       "Relationship      0\n",
       "Race              0\n",
       "Sex               0\n",
       "Capital_gain      0\n",
       "Capital_loss      0\n",
       "Hours_per_week    0\n",
       "Native_country    0\n",
       "Income            0\n",
       "dtype: int64"
      ]
     },
     "execution_count": 784,
     "metadata": {},
     "output_type": "execute_result"
    }
   ],
   "source": [
    "df.isnull().sum()"
   ]
  },
  {
   "cell_type": "code",
   "execution_count": 785,
   "id": "0941e6e6",
   "metadata": {},
   "outputs": [
    {
     "data": {
      "text/html": [
       "<div>\n",
       "<style scoped>\n",
       "    .dataframe tbody tr th:only-of-type {\n",
       "        vertical-align: middle;\n",
       "    }\n",
       "\n",
       "    .dataframe tbody tr th {\n",
       "        vertical-align: top;\n",
       "    }\n",
       "\n",
       "    .dataframe thead th {\n",
       "        text-align: right;\n",
       "    }\n",
       "</style>\n",
       "<table border=\"1\" class=\"dataframe\">\n",
       "  <thead>\n",
       "    <tr style=\"text-align: right;\">\n",
       "      <th></th>\n",
       "      <th>Age</th>\n",
       "      <th>Fnlwgt</th>\n",
       "      <th>Education_num</th>\n",
       "      <th>Capital_gain</th>\n",
       "      <th>Capital_loss</th>\n",
       "      <th>Hours_per_week</th>\n",
       "    </tr>\n",
       "  </thead>\n",
       "  <tbody>\n",
       "    <tr>\n",
       "      <th>count</th>\n",
       "      <td>32536.000000</td>\n",
       "      <td>3.253600e+04</td>\n",
       "      <td>32536.000000</td>\n",
       "      <td>32536.000000</td>\n",
       "      <td>32536.000000</td>\n",
       "      <td>32536.000000</td>\n",
       "    </tr>\n",
       "    <tr>\n",
       "      <th>mean</th>\n",
       "      <td>38.585536</td>\n",
       "      <td>1.897843e+05</td>\n",
       "      <td>10.081725</td>\n",
       "      <td>1078.410069</td>\n",
       "      <td>87.370912</td>\n",
       "      <td>40.440343</td>\n",
       "    </tr>\n",
       "    <tr>\n",
       "      <th>std</th>\n",
       "      <td>13.638193</td>\n",
       "      <td>1.055563e+05</td>\n",
       "      <td>2.571622</td>\n",
       "      <td>7388.068465</td>\n",
       "      <td>403.107737</td>\n",
       "      <td>12.347079</td>\n",
       "    </tr>\n",
       "    <tr>\n",
       "      <th>min</th>\n",
       "      <td>17.000000</td>\n",
       "      <td>1.228500e+04</td>\n",
       "      <td>1.000000</td>\n",
       "      <td>0.000000</td>\n",
       "      <td>0.000000</td>\n",
       "      <td>1.000000</td>\n",
       "    </tr>\n",
       "    <tr>\n",
       "      <th>25%</th>\n",
       "      <td>28.000000</td>\n",
       "      <td>1.178315e+05</td>\n",
       "      <td>9.000000</td>\n",
       "      <td>0.000000</td>\n",
       "      <td>0.000000</td>\n",
       "      <td>40.000000</td>\n",
       "    </tr>\n",
       "    <tr>\n",
       "      <th>50%</th>\n",
       "      <td>37.000000</td>\n",
       "      <td>1.783560e+05</td>\n",
       "      <td>10.000000</td>\n",
       "      <td>0.000000</td>\n",
       "      <td>0.000000</td>\n",
       "      <td>40.000000</td>\n",
       "    </tr>\n",
       "    <tr>\n",
       "      <th>75%</th>\n",
       "      <td>48.000000</td>\n",
       "      <td>2.369932e+05</td>\n",
       "      <td>12.000000</td>\n",
       "      <td>0.000000</td>\n",
       "      <td>0.000000</td>\n",
       "      <td>45.000000</td>\n",
       "    </tr>\n",
       "    <tr>\n",
       "      <th>max</th>\n",
       "      <td>90.000000</td>\n",
       "      <td>1.484705e+06</td>\n",
       "      <td>16.000000</td>\n",
       "      <td>99999.000000</td>\n",
       "      <td>4356.000000</td>\n",
       "      <td>99.000000</td>\n",
       "    </tr>\n",
       "  </tbody>\n",
       "</table>\n",
       "</div>"
      ],
      "text/plain": [
       "                Age        Fnlwgt  Education_num  Capital_gain  Capital_loss  \\\n",
       "count  32536.000000  3.253600e+04   32536.000000  32536.000000  32536.000000   \n",
       "mean      38.585536  1.897843e+05      10.081725   1078.410069     87.370912   \n",
       "std       13.638193  1.055563e+05       2.571622   7388.068465    403.107737   \n",
       "min       17.000000  1.228500e+04       1.000000      0.000000      0.000000   \n",
       "25%       28.000000  1.178315e+05       9.000000      0.000000      0.000000   \n",
       "50%       37.000000  1.783560e+05      10.000000      0.000000      0.000000   \n",
       "75%       48.000000  2.369932e+05      12.000000      0.000000      0.000000   \n",
       "max       90.000000  1.484705e+06      16.000000  99999.000000   4356.000000   \n",
       "\n",
       "       Hours_per_week  \n",
       "count    32536.000000  \n",
       "mean        40.440343  \n",
       "std         12.347079  \n",
       "min          1.000000  \n",
       "25%         40.000000  \n",
       "50%         40.000000  \n",
       "75%         45.000000  \n",
       "max         99.000000  "
      ]
     },
     "execution_count": 785,
     "metadata": {},
     "output_type": "execute_result"
    }
   ],
   "source": [
    "df.describe()"
   ]
  },
  {
   "cell_type": "code",
   "execution_count": 786,
   "id": "778d224a",
   "metadata": {
    "scrolled": false
   },
   "outputs": [
    {
     "data": {
      "image/png": "[encoded data removed]",
      "text/plain": [
       "<Figure size 432x288 with 1 Axes>"
      ]
     },
     "metadata": {
      "needs_background": "light"
     },
     "output_type": "display_data"
    },
    {
     "data": {
      "image/png": "[encoded data removed]",
      "text/plain": [
       "<Figure size 432x288 with 1 Axes>"
      ]
     },
     "metadata": {
      "needs_background": "light"
     },
     "output_type": "display_data"
    },
    {
     "data": {
      "image/png": "[encoded data removed]",
      "text/plain": [
       "<Figure size 432x288 with 1 Axes>"
      ]
     },
     "metadata": {
      "needs_background": "light"
     },
     "output_type": "display_data"
    },
    {
     "data": {
      "image/png": "[encoded data removed]",
      "text/plain": [
       "<Figure size 432x288 with 1 Axes>"
      ]
     },
     "metadata": {
      "needs_background": "light"
     },
     "output_type": "display_data"
    },
    {
     "data": {
      "image/png": "[encoded data removed]",
      "text/plain": [
       "<Figure size 432x288 with 1 Axes>"
      ]
     },
     "metadata": {
      "needs_background": "light"
     },
     "output_type": "display_data"
    },
    {
     "data": {
      "image/png": "[encoded data removed]",
      "text/plain": [
       "<Figure size 432x288 with 1 Axes>"
      ]
     },
     "metadata": {
      "needs_background": "light"
     },
     "output_type": "display_data"
    }
   ],
   "source": [
    "for i in numerical_features:\n",
    "    plt.plot()\n",
    "    sns.distplot(df[i],label=i,color='orange')\n",
    "    plt.legend()\n",
    "    plt.show()"
   ]
  },
  {
   "cell_type": "markdown",
   "id": "083828c0",
   "metadata": {},
   "source": [
    "#### age,fnlwgt,capital-gain,capital-loss has high right skewed data disrtibution"
   ]
  },
  {
   "cell_type": "code",
   "execution_count": 787,
   "id": "1a47f180",
   "metadata": {
    "scrolled": false
   },
   "outputs": [
    {
     "data": {
      "image/png": "[encoded data removed]",
      "text/plain": [
       "<Figure size 432x288 with 1 Axes>"
      ]
     },
     "metadata": {
      "needs_background": "light"
     },
     "output_type": "display_data"
    },
    {
     "data": {
      "image/png": "[encoded data removed]",
      "text/plain": [
       "<Figure size 432x288 with 1 Axes>"
      ]
     },
     "metadata": {
      "needs_background": "light"
     },
     "output_type": "display_data"
    },
    {
     "data": {
      "image/png": "[encoded data removed]",
      "text/plain": [
       "<Figure size 432x288 with 1 Axes>"
      ]
     },
     "metadata": {
      "needs_background": "light"
     },
     "output_type": "display_data"
    },
    {
     "data": {
      "image/png": "[encoded data removed]",
      "text/plain": [
       "<Figure size 432x288 with 1 Axes>"
      ]
     },
     "metadata": {
      "needs_background": "light"
     },
     "output_type": "display_data"
    },
    {
     "data": {
      "image/png": "[encoded data removed]",
      "text/plain": [
       "<Figure size 432x288 with 1 Axes>"
      ]
     },
     "metadata": {
      "needs_background": "light"
     },
     "output_type": "display_data"
    },
    {
     "data": {
      "image/png": "[encoded data removed]",
      "text/plain": [
       "<Figure size 432x288 with 1 Axes>"
      ]
     },
     "metadata": {
      "needs_background": "light"
     },
     "output_type": "display_data"
    }
   ],
   "source": [
    "# numerical columns show outliers\n",
    "for i in numerical_features:\n",
    "    df[i].plot(kind='box')\n",
    "    plt.show()"
   ]
  },
  {
   "cell_type": "code",
   "execution_count": 788,
   "id": "2607b5a5",
   "metadata": {
    "scrolled": true
   },
   "outputs": [
    {
     "data": {
      "text/plain": [
       "Age                0.557657\n",
       "Fnlwgt             1.447695\n",
       "Education_num     -0.309454\n",
       "Capital_gain      11.949245\n",
       "Capital_loss       4.592622\n",
       "Hours_per_week     0.228752\n",
       "dtype: float64"
      ]
     },
     "execution_count": 788,
     "metadata": {},
     "output_type": "execute_result"
    }
   ],
   "source": [
    "df.skew()"
   ]
  },
  {
   "cell_type": "code",
   "execution_count": 789,
   "id": "df384e1c",
   "metadata": {},
   "outputs": [],
   "source": [
    "# label encoding to categorical column\n",
    "from sklearn.preprocessing import power_transform,StandardScaler,LabelEncoder\n",
    "lb=LabelEncoder()\n",
    "for i in categorical_features:\n",
    "    df[i]=lb.fit_transform(df[i])"
   ]
  },
  {
   "cell_type": "code",
   "execution_count": 790,
   "id": "d199245f",
   "metadata": {},
   "outputs": [],
   "source": [
    "x=df.iloc[:,0:-1]\n",
    "y=df.iloc[:,-1]"
   ]
  },
  {
   "cell_type": "code",
   "execution_count": 791,
   "id": "1077da50",
   "metadata": {},
   "outputs": [],
   "source": [
    "from statsmodels.stats.outliers_influence import variance_inflation_factor"
   ]
  },
  {
   "cell_type": "code",
   "execution_count": 792,
   "id": "79cf166f",
   "metadata": {},
   "outputs": [
    {
     "data": {
      "text/html": [
       "<div>\n",
       "<style scoped>\n",
       "    .dataframe tbody tr th:only-of-type {\n",
       "        vertical-align: middle;\n",
       "    }\n",
       "\n",
       "    .dataframe tbody tr th {\n",
       "        vertical-align: top;\n",
       "    }\n",
       "\n",
       "    .dataframe thead th {\n",
       "        text-align: right;\n",
       "    }\n",
       "</style>\n",
       "<table border=\"1\" class=\"dataframe\">\n",
       "  <thead>\n",
       "    <tr style=\"text-align: right;\">\n",
       "      <th></th>\n",
       "      <th>vif</th>\n",
       "      <th>columns</th>\n",
       "    </tr>\n",
       "  </thead>\n",
       "  <tbody>\n",
       "    <tr>\n",
       "      <th>0</th>\n",
       "      <td>8.828383</td>\n",
       "      <td>Age</td>\n",
       "    </tr>\n",
       "    <tr>\n",
       "      <th>1</th>\n",
       "      <td>8.432054</td>\n",
       "      <td>Workclass</td>\n",
       "    </tr>\n",
       "    <tr>\n",
       "      <th>2</th>\n",
       "      <td>4.040632</td>\n",
       "      <td>Fnlwgt</td>\n",
       "    </tr>\n",
       "    <tr>\n",
       "      <th>3</th>\n",
       "      <td>9.231920</td>\n",
       "      <td>Education</td>\n",
       "    </tr>\n",
       "    <tr>\n",
       "      <th>4</th>\n",
       "      <td>18.815351</td>\n",
       "      <td>Education_num</td>\n",
       "    </tr>\n",
       "    <tr>\n",
       "      <th>5</th>\n",
       "      <td>4.057064</td>\n",
       "      <td>Marital_status</td>\n",
       "    </tr>\n",
       "    <tr>\n",
       "      <th>6</th>\n",
       "      <td>2.920889</td>\n",
       "      <td>Occupation</td>\n",
       "    </tr>\n",
       "    <tr>\n",
       "      <th>7</th>\n",
       "      <td>2.671168</td>\n",
       "      <td>Relationship</td>\n",
       "    </tr>\n",
       "    <tr>\n",
       "      <th>8</th>\n",
       "      <td>17.893952</td>\n",
       "      <td>Race</td>\n",
       "    </tr>\n",
       "    <tr>\n",
       "      <th>9</th>\n",
       "      <td>4.496855</td>\n",
       "      <td>Sex</td>\n",
       "    </tr>\n",
       "    <tr>\n",
       "      <th>10</th>\n",
       "      <td>1.045050</td>\n",
       "      <td>Capital_gain</td>\n",
       "    </tr>\n",
       "    <tr>\n",
       "      <th>11</th>\n",
       "      <td>1.061836</td>\n",
       "      <td>Capital_loss</td>\n",
       "    </tr>\n",
       "    <tr>\n",
       "      <th>12</th>\n",
       "      <td>12.054643</td>\n",
       "      <td>Hours_per_week</td>\n",
       "    </tr>\n",
       "    <tr>\n",
       "      <th>13</th>\n",
       "      <td>28.671272</td>\n",
       "      <td>Native_country</td>\n",
       "    </tr>\n",
       "  </tbody>\n",
       "</table>\n",
       "</div>"
      ],
      "text/plain": [
       "          vif         columns\n",
       "0    8.828383             Age\n",
       "1    8.432054       Workclass\n",
       "2    4.040632          Fnlwgt\n",
       "3    9.231920       Education\n",
       "4   18.815351   Education_num\n",
       "5    4.057064  Marital_status\n",
       "6    2.920889      Occupation\n",
       "7    2.671168    Relationship\n",
       "8   17.893952            Race\n",
       "9    4.496855             Sex\n",
       "10   1.045050    Capital_gain\n",
       "11   1.061836    Capital_loss\n",
       "12  12.054643  Hours_per_week\n",
       "13  28.671272  Native_country"
      ]
     },
     "execution_count": 792,
     "metadata": {},
     "output_type": "execute_result"
    }
   ],
   "source": [
    "vif=pd.DataFrame()\n",
    "vif['vif']=[variance_inflation_factor(x.values,i) for i in range(x.shape[1])]\n",
    "vif['columns']=x.columns\n",
    "vif"
   ]
  },
  {
   "cell_type": "markdown",
   "id": "f21c2082",
   "metadata": {},
   "source": [
    "### remove skewness"
   ]
  },
  {
   "cell_type": "code",
   "execution_count": 793,
   "id": "ece57371",
   "metadata": {},
   "outputs": [
    {
     "data": {
      "text/plain": [
       "0    -0.013967\n",
       "1     0.216685\n",
       "2     0.016961\n",
       "3    -0.309379\n",
       "4     0.023862\n",
       "5    -0.114050\n",
       "6    -0.204943\n",
       "7     0.123000\n",
       "8    -2.010646\n",
       "9    -0.719400\n",
       "10    3.015495\n",
       "11    4.297677\n",
       "12    0.229590\n",
       "13   -2.984449\n",
       "dtype: float64"
      ]
     },
     "execution_count": 793,
     "metadata": {},
     "output_type": "execute_result"
    }
   ],
   "source": [
    "x1=power_transform(x,method='yeo-johnson')\n",
    "z=pd.DataFrame(x1)\n",
    "z.skew()"
   ]
  },
  {
   "cell_type": "code",
   "execution_count": 794,
   "id": "3d35d076",
   "metadata": {},
   "outputs": [],
   "source": [
    "# scaling data\n",
    "sc=StandardScaler()\n",
    "x1=sc.fit_transform(x1)"
   ]
  },
  {
   "cell_type": "code",
   "execution_count": 795,
   "id": "2b6a3043",
   "metadata": {},
   "outputs": [],
   "source": [
    "# balancing target data\n",
    "from imblearn.over_sampling import SMOTE\n",
    "sm=SMOTE()\n",
    "x2,y2=sm.fit_resample(x1,y)"
   ]
  },
  {
   "cell_type": "code",
   "execution_count": 796,
   "id": "cac6021a",
   "metadata": {},
   "outputs": [
    {
     "data": {
      "text/plain": [
       "array([24697,  7839], dtype=int64)"
      ]
     },
     "execution_count": 796,
     "metadata": {},
     "output_type": "execute_result"
    }
   ],
   "source": [
    "np.bincount(y)"
   ]
  },
  {
   "cell_type": "code",
   "execution_count": 797,
   "id": "d7c3d9c0",
   "metadata": {},
   "outputs": [
    {
     "data": {
      "text/plain": [
       "0    24697\n",
       "1    24697\n",
       "Name: Income, dtype: int64"
      ]
     },
     "execution_count": 797,
     "metadata": {},
     "output_type": "execute_result"
    }
   ],
   "source": [
    "y2.value_counts()"
   ]
  },
  {
   "cell_type": "code",
   "execution_count": 798,
   "id": "305a1e29",
   "metadata": {},
   "outputs": [
    {
     "name": "stdout",
     "output_type": "stream",
     "text": [
      "2 0.27137022696139373\n",
      "3 0.36324274810581897\n",
      "4 0.444831348643309\n",
      "5 0.5206604126503276\n",
      "6 0.595021815722312\n",
      "7 0.6628932238982863\n",
      "8 0.7276021736459739\n",
      "9 0.7861539862509871\n",
      "10 0.8405714203474982\n",
      "11 0.8935625566646698\n",
      "12 0.9427648647860257\n",
      "13 0.9810763492606578\n"
     ]
    }
   ],
   "source": [
    "# check PCA for column reduction\n",
    "from sklearn.decomposition import PCA\n",
    "for i in range(2,14):\n",
    "    pca = PCA(n_components=i)\n",
    "    principalComponents = pca.fit_transform(x2)\n",
    "    print(i,sum(pca.explained_variance_ratio_))"
   ]
  },
  {
   "cell_type": "code",
   "execution_count": 799,
   "id": "fb6451e6",
   "metadata": {},
   "outputs": [],
   "source": [
    "from sklearn.linear_model import LogisticRegression,SGDClassifier\n",
    "from sklearn.tree import DecisionTreeClassifier\n",
    "from sklearn.svm import SVC\n",
    "from sklearn.neighbors import KNeighborsClassifier\n",
    "from xgboost import XGBClassifier,XGBRFClassifier\n",
    "from sklearn.model_selection import train_test_split,GridSearchCV,cross_val_score\n",
    "from sklearn.metrics import confusion_matrix,classification_report,f1_score,accuracy_score,roc_auc_score,roc_curve\n",
    "lg=LogisticRegression()"
   ]
  },
  {
   "cell_type": "code",
   "execution_count": 800,
   "id": "13a82e2e",
   "metadata": {},
   "outputs": [
    {
     "name": "stdout",
     "output_type": "stream",
     "text": [
      "\n",
      " Random State 3\n",
      "auc roc_score TR 77.96786928309591\n",
      "auc roc_score TE 78.0330871069142\n",
      "\n",
      " Random State 7\n",
      "auc roc_score TR 77.98400756348607\n",
      "auc roc_score TE 77.99452819014317\n",
      "\n",
      " Random State 8\n",
      "auc roc_score TR 78.09290075732862\n",
      "auc roc_score TE 78.05699665724643\n",
      "\n",
      " Random State 27\n",
      "auc roc_score TR 78.01124340073453\n",
      "auc roc_score TE 78.02431145217746\n",
      "\n",
      " Random State 33\n",
      "auc roc_score TR 78.04954616731459\n",
      "auc roc_score TE 77.98716240132279\n",
      "\n",
      " Random State 38\n",
      "auc roc_score TR 78.11012648287885\n",
      "auc roc_score TE 78.071931436471\n",
      "\n",
      " Random State 39\n",
      "auc roc_score TR 77.98846340155735\n",
      "auc roc_score TE 77.99606469528028\n",
      "\n",
      " Random State 52\n",
      "auc roc_score TR 77.99874828174916\n",
      "auc roc_score TE 78.0351747249454\n",
      "\n",
      " Random State 67\n",
      "auc roc_score TR 77.99877146796588\n",
      "auc roc_score TE 77.96485701255662\n",
      "\n",
      " Random State 91\n",
      "auc roc_score TR 78.06931368877454\n",
      "auc roc_score TE 78.09172160243408\n",
      "\n",
      " Random State 108\n",
      "auc roc_score TR 78.04902939925353\n",
      "auc roc_score TE 77.99812926743108\n",
      "\n",
      " Random State 111\n",
      "auc roc_score TR 78.00439199723898\n",
      "auc roc_score TE 78.02808124998066\n",
      "\n",
      " Random State 112\n",
      "auc roc_score TR 78.04652719105259\n",
      "auc roc_score TE 78.03811434693878\n",
      "\n",
      " Random State 122\n",
      "auc roc_score TR 78.03041276670344\n",
      "auc roc_score TE 78.00633803122197\n",
      "\n",
      " Random State 134\n",
      "auc roc_score TR 78.04704064202966\n",
      "auc roc_score TE 78.03292748425086\n",
      "\n",
      " Random State 148\n",
      "auc roc_score TR 78.04717906043997\n",
      "auc roc_score TE 78.02286438815126\n",
      "\n",
      " Random State 151\n",
      "auc roc_score TR 78.14162321788476\n",
      "auc roc_score TE 78.06601580025038\n",
      "\n",
      " Random State 168\n",
      "auc roc_score TR 78.07617194460268\n",
      "auc roc_score TE 78.07423590968529\n",
      "\n",
      " Random State 174\n",
      "auc roc_score TR 78.04204724662384\n",
      "auc roc_score TE 77.98009327942837\n",
      "\n",
      " Random State 179\n",
      "auc roc_score TR 78.07019630770628\n",
      "auc roc_score TE 78.09555279003479\n",
      "\n",
      " Random State 197\n",
      "auc roc_score TR 78.03352634471788\n",
      "auc roc_score TE 78.03021984407573\n",
      "\n",
      " Random State 198\n",
      "auc roc_score TR 78.11959002446235\n",
      "auc roc_score TE 78.09668807320567\n",
      "\n",
      " Random State 201\n",
      "auc roc_score TR 78.0793877542785\n",
      "auc roc_score TE 78.07577748388144\n",
      "\n",
      " Random State 204\n",
      "auc roc_score TR 78.00451406363823\n",
      "auc roc_score TE 78.03356040319201\n",
      "\n",
      " Random State 205\n",
      "auc roc_score TR 78.00925626172906\n",
      "auc roc_score TE 77.98981693758986\n",
      "\n",
      " Random State 210\n",
      "auc roc_score TR 78.05266580274225\n",
      "auc roc_score TE 78.13717100523631\n",
      "\n",
      " Random State 238\n",
      "auc roc_score TR 78.00232127595868\n",
      "auc roc_score TE 78.0059331477064\n",
      "\n",
      " Random State 247\n",
      "auc roc_score TR 78.12790082749204\n",
      "auc roc_score TE 78.08979844795864\n",
      "\n",
      " Random State 255\n",
      "auc roc_score TR 78.06027360601922\n",
      "auc roc_score TE 78.0923920555112\n",
      "\n",
      " Random State 290\n",
      "auc roc_score TR 78.0890136203698\n",
      "auc roc_score TE 78.11085207518383\n",
      "\n",
      " Random State 308\n",
      "auc roc_score TR 78.02935053854937\n",
      "auc roc_score TE 78.01628078238538\n",
      "\n",
      " Random State 321\n",
      "auc roc_score TR 78.06998489405824\n",
      "auc roc_score TE 78.05047589019142\n",
      "\n",
      " Random State 331\n",
      "auc roc_score TR 77.96999631035035\n",
      "auc roc_score TE 78.01393454558065\n",
      "\n",
      " Random State 345\n",
      "auc roc_score TR 77.95422048750473\n",
      "auc roc_score TE 77.97316281142226\n",
      "\n",
      " Random State 354\n",
      "auc roc_score TR 78.04060463598871\n",
      "auc roc_score TE 78.01863275136813\n",
      "\n",
      " Random State 365\n",
      "auc roc_score TR 78.10422619983612\n",
      "auc roc_score TE 78.0786771646544\n",
      "\n",
      " Random State 380\n",
      "auc roc_score TR 78.00849322705285\n",
      "auc roc_score TE 77.97791309685687\n",
      "\n",
      " Random State 386\n",
      "auc roc_score TR 78.09021219284166\n",
      "auc roc_score TE 78.11722720498338\n",
      "\n",
      " Random State 397\n",
      "auc roc_score TR 78.02384229144582\n",
      "auc roc_score TE 78.01609540611135\n",
      "\n",
      " Random State 411\n",
      "auc roc_score TR 77.96823327898436\n",
      "auc roc_score TE 78.01795750232402\n",
      "\n",
      " Random State 446\n",
      "auc roc_score TR 78.11191066300067\n",
      "auc roc_score TE 78.05638004519442\n",
      "\n",
      " Random State 478\n",
      "auc roc_score TR 78.08716983499592\n",
      "auc roc_score TE 78.1248321927113\n",
      "\n",
      " Random State 487\n",
      "auc roc_score TR 78.04081874281525\n",
      "auc roc_score TE 78.01486616433849\n"
     ]
    }
   ],
   "source": [
    "for i in range(0,500):\n",
    "    x_train,x_test,y_train,y_test=train_test_split(x2,y2,test_size=0.3,random_state=i)\n",
    "    lg.fit(x_train,y_train)\n",
    "    pred_tr=lg.predict(x_train)\n",
    "    pred_te=lg.predict(x_test)\n",
    "    if round(roc_auc_score(y_train,pred_tr)*100,1)==round(roc_auc_score(y_test,pred_te)*100,1):\n",
    "        print('\\n Random State',i)\n",
    "        print('auc roc_score TR',roc_auc_score(y_train,pred_tr)*100)\n",
    "        print('auc roc_score TE',roc_auc_score(y_test,pred_te)*100)"
   ]
  },
  {
   "cell_type": "code",
   "execution_count": 803,
   "id": "2fc293c9",
   "metadata": {
    "scrolled": true
   },
   "outputs": [
    {
     "name": "stdout",
     "output_type": "stream",
     "text": [
      "Train score: 78.12002892263196\n",
      "auc roc Score:  78.09668807320567\n",
      "f1 Score:  78.44048884165782\n",
      "accuracy score 78.095687968149\n",
      "Confusion matrix \n",
      " [[5668 1746]\n",
      " [1500 5905]]\n",
      "Classification report \n",
      "               precision    recall  f1-score   support\n",
      "\n",
      "           0       0.79      0.76      0.78      7414\n",
      "           1       0.77      0.80      0.78      7405\n",
      "\n",
      "    accuracy                           0.78     14819\n",
      "   macro avg       0.78      0.78      0.78     14819\n",
      "weighted avg       0.78      0.78      0.78     14819\n",
      "\n"
     ]
    }
   ],
   "source": [
    "x_train,x_test,y_train,y_test=train_test_split(x2,y2,test_size=0.3,random_state=198)\n",
    "lg.fit(x_train,y_train)\n",
    "predict=lg.predict(x_test)\n",
    "print('Train score:',lg.score(x_train,y_train)*100)\n",
    "print('auc roc Score: ',roc_auc_score(y_test,predict)*100)\n",
    "print('f1 Score: ',f1_score(y_test,predict)*100)\n",
    "print('accuracy score',accuracy_score(y_test,predict)*100)\n",
    "print('Confusion matrix \\n',confusion_matrix(y_test,predict))\n",
    "print('Classification report \\n',classification_report(y_test,predict))"
   ]
  },
  {
   "cell_type": "code",
   "execution_count": 804,
   "id": "de29bf31",
   "metadata": {},
   "outputs": [
    {
     "data": {
      "text/plain": [
       "{'C': 0.1, 'kernel': 'rbf'}"
      ]
     },
     "execution_count": 804,
     "metadata": {},
     "output_type": "execute_result"
    }
   ],
   "source": [
    "parameters={'kernel':['poly','rbf','linear'],'C':[0.1,0.01]}\n",
    "clf = GridSearchCV(SVC(), parameters, cv=5,scoring=\"roc_auc\")\n",
    "clf.fit(x2,y2)\n",
    "clf.best_params_"
   ]
  },
  {
   "cell_type": "code",
   "execution_count": 805,
   "id": "03922112",
   "metadata": {},
   "outputs": [
    {
     "data": {
      "text/plain": [
       "{'n_neighbors': 6}"
      ]
     },
     "execution_count": 805,
     "metadata": {},
     "output_type": "execute_result"
    }
   ],
   "source": [
    "neighbors={\"n_neighbors\":range(1,30)}\n",
    "clf = GridSearchCV(KNeighborsClassifier(),neighbors, cv=5,scoring=\"roc_auc\")\n",
    "clf.fit(x2,y2)\n",
    "clf.best_params_"
   ]
  },
  {
   "cell_type": "code",
   "execution_count": 827,
   "id": "150cbf29",
   "metadata": {},
   "outputs": [],
   "source": [
    "dtc=DecisionTreeClassifier()\n",
    "svc=SVC(C=0.1,kernel='rbf')\n",
    "kn=KNeighborsClassifier(n_neighbors=6)\n",
    "sgd=SGDClassifier()\n",
    "xgb=XGBClassifier()\n",
    "xgbr=XGBRFClassifier()"
   ]
  },
  {
   "cell_type": "code",
   "execution_count": 807,
   "id": "8bbf24e1",
   "metadata": {},
   "outputs": [],
   "source": [
    "def classifiers(f):\n",
    "    f.fit(x_train,y_train)\n",
    "    print(f,'\\n',f.score(x_train,y_train)*100)\n",
    "    pred=f.predict(x_test)\n",
    "    print('auc roc score',roc_auc_score(y_test,pred)*100)\n",
    "    print('Accuracy score:\\n',accuracy_score(y_test,pred)*100)\n",
    "    print('F1 score:\\n',f1_score(y_test,pred)*100)\n",
    "    print('Confusion matrix:\\n',confusion_matrix(y_test,pred))\n",
    "    print('Classification report:\\n',classification_report(y_test,pred))"
   ]
  },
  {
   "cell_type": "code",
   "execution_count": 808,
   "id": "6047d5ca",
   "metadata": {},
   "outputs": [
    {
     "name": "stdout",
     "output_type": "stream",
     "text": [
      "DecisionTreeClassifier() \n",
      " 100.0\n",
      "auc roc score 84.81035113050534\n",
      "Accuracy score:\n",
      " 84.81004116337135\n",
      "F1 score:\n",
      " 84.87942500167932\n",
      "Confusion matrix:\n",
      " [[6250 1164]\n",
      " [1087 6318]]\n",
      "Classification report:\n",
      "               precision    recall  f1-score   support\n",
      "\n",
      "           0       0.85      0.84      0.85      7414\n",
      "           1       0.84      0.85      0.85      7405\n",
      "\n",
      "    accuracy                           0.85     14819\n",
      "   macro avg       0.85      0.85      0.85     14819\n",
      "weighted avg       0.85      0.85      0.85     14819\n",
      "\n"
     ]
    }
   ],
   "source": [
    "classifiers(dtc)"
   ]
  },
  {
   "cell_type": "code",
   "execution_count": 809,
   "id": "740eee2f",
   "metadata": {},
   "outputs": [
    {
     "name": "stdout",
     "output_type": "stream",
     "text": [
      "SVC(C=0.1) \n",
      " 82.29067245119306\n",
      "auc roc score 81.41262210461183\n",
      "Accuracy score:\n",
      " 81.40900195694715\n",
      "F1 score:\n",
      " 82.44663905702454\n",
      "Confusion matrix:\n",
      " [[5594 1820]\n",
      " [ 935 6470]]\n",
      "Classification report:\n",
      "               precision    recall  f1-score   support\n",
      "\n",
      "           0       0.86      0.75      0.80      7414\n",
      "           1       0.78      0.87      0.82      7405\n",
      "\n",
      "    accuracy                           0.81     14819\n",
      "   macro avg       0.82      0.81      0.81     14819\n",
      "weighted avg       0.82      0.81      0.81     14819\n",
      "\n"
     ]
    }
   ],
   "source": [
    "classifiers(svc)"
   ]
  },
  {
   "cell_type": "code",
   "execution_count": 828,
   "id": "009234a3",
   "metadata": {},
   "outputs": [
    {
     "name": "stdout",
     "output_type": "stream",
     "text": [
      "KNeighborsClassifier(n_neighbors=6) \n",
      " 89.06146059291396\n",
      "auc roc score 84.50254523305453\n",
      "Accuracy score:\n",
      " 84.49962885484851\n",
      "F1 score:\n",
      " 85.2026025897056\n",
      "Confusion matrix:\n",
      " [[5909 1505]\n",
      " [ 792 6613]]\n",
      "Classification report:\n",
      "               precision    recall  f1-score   support\n",
      "\n",
      "           0       0.88      0.80      0.84      7414\n",
      "           1       0.81      0.89      0.85      7405\n",
      "\n",
      "    accuracy                           0.84     14819\n",
      "   macro avg       0.85      0.85      0.84     14819\n",
      "weighted avg       0.85      0.84      0.84     14819\n",
      "\n"
     ]
    }
   ],
   "source": [
    "classifiers(kn)"
   ]
  },
  {
   "cell_type": "code",
   "execution_count": 811,
   "id": "7d8df1bb",
   "metadata": {},
   "outputs": [
    {
     "name": "stdout",
     "output_type": "stream",
     "text": [
      "SGDClassifier() \n",
      " 78.35140997830803\n",
      "auc roc score 78.08444596395637\n",
      "Accuracy score:\n",
      " 78.08219178082192\n",
      "F1 score:\n",
      " 78.85691967191771\n",
      "Confusion matrix:\n",
      " [[5514 1900]\n",
      " [1348 6057]]\n",
      "Classification report:\n",
      "               precision    recall  f1-score   support\n",
      "\n",
      "           0       0.80      0.74      0.77      7414\n",
      "           1       0.76      0.82      0.79      7405\n",
      "\n",
      "    accuracy                           0.78     14819\n",
      "   macro avg       0.78      0.78      0.78     14819\n",
      "weighted avg       0.78      0.78      0.78     14819\n",
      "\n"
     ]
    }
   ],
   "source": [
    "classifiers(sgd)"
   ]
  },
  {
   "cell_type": "code",
   "execution_count": 812,
   "id": "5c9f59f6",
   "metadata": {},
   "outputs": [
    {
     "name": "stdout",
     "output_type": "stream",
     "text": [
      "[12:45:58] WARNING: C:/Users/Administrator/workspace/xgboost-win64_release_1.4.0/src/learner.cc:1095: Starting in XGBoost 1.3.0, the default evaluation metric used with the objective 'binary:logistic' was changed from 'error' to 'logloss'. Explicitly set eval_metric if you'd like to restore the old behavior.\n",
      "XGBClassifier(base_score=0.5, booster='gbtree', colsample_bylevel=1,\n",
      "              colsample_bynode=1, colsample_bytree=1, gamma=0, gpu_id=-1,\n",
      "              importance_type='gain', interaction_constraints='',\n",
      "              learning_rate=0.300000012, max_delta_step=0, max_depth=6,\n",
      "              min_child_weight=1, missing=nan, monotone_constraints='()',\n",
      "              n_estimators=100, n_jobs=8, num_parallel_tree=1, random_state=0,\n",
      "              reg_alpha=0, reg_lambda=1, scale_pos_weight=1, subsample=1,\n",
      "              tree_method='exact', validate_parameters=1, verbosity=None) \n",
      " 93.37382501807664\n",
      "auc roc score 90.60008648346187\n",
      "Accuracy score:\n",
      " 90.5999055266887\n",
      "F1 score:\n",
      " 90.62268596432178\n",
      "Confusion matrix:\n",
      " [[6695  719]\n",
      " [ 674 6731]]\n",
      "Classification report:\n",
      "               precision    recall  f1-score   support\n",
      "\n",
      "           0       0.91      0.90      0.91      7414\n",
      "           1       0.90      0.91      0.91      7405\n",
      "\n",
      "    accuracy                           0.91     14819\n",
      "   macro avg       0.91      0.91      0.91     14819\n",
      "weighted avg       0.91      0.91      0.91     14819\n",
      "\n"
     ]
    }
   ],
   "source": [
    "classifiers(xgb)"
   ]
  },
  {
   "cell_type": "code",
   "execution_count": 813,
   "id": "7f7bf4ff",
   "metadata": {},
   "outputs": [
    {
     "name": "stdout",
     "output_type": "stream",
     "text": [
      "[12:46:01] WARNING: C:/Users/Administrator/workspace/xgboost-win64_release_1.4.0/src/learner.cc:1095: Starting in XGBoost 1.3.0, the default evaluation metric used with the objective 'binary:logistic' was changed from 'error' to 'logloss'. Explicitly set eval_metric if you'd like to restore the old behavior.\n",
      "XGBRFClassifier(base_score=0.5, booster='gbtree', colsample_bylevel=1,\n",
      "                colsample_bytree=1, gamma=0, gpu_id=-1, importance_type='gain',\n",
      "                interaction_constraints='', max_delta_step=0, max_depth=6,\n",
      "                min_child_weight=1, missing=nan, monotone_constraints='()',\n",
      "                n_estimators=100, n_jobs=8, num_parallel_tree=100,\n",
      "                objective='binary:logistic', random_state=0, reg_alpha=0,\n",
      "                scale_pos_weight=1, tree_method='exact', validate_parameters=1,\n",
      "                verbosity=None) \n",
      " 83.85827910339842\n",
      "auc roc score 83.6936917163306\n",
      "Accuracy score:\n",
      " 83.6898576152237\n",
      "F1 score:\n",
      " 84.65104464342413\n",
      "Confusion matrix:\n",
      " [[5737 1677]\n",
      " [ 740 6665]]\n",
      "Classification report:\n",
      "               precision    recall  f1-score   support\n",
      "\n",
      "           0       0.89      0.77      0.83      7414\n",
      "           1       0.80      0.90      0.85      7405\n",
      "\n",
      "    accuracy                           0.84     14819\n",
      "   macro avg       0.84      0.84      0.84     14819\n",
      "weighted avg       0.84      0.84      0.84     14819\n",
      "\n"
     ]
    }
   ],
   "source": [
    "classifiers(xgbr)"
   ]
  },
  {
   "cell_type": "code",
   "execution_count": 814,
   "id": "1bee7458",
   "metadata": {},
   "outputs": [
    {
     "data": {
      "text/plain": [
       "{'eval_metric': 'mlogloss',\n",
       " 'learning_rate': 0.1,\n",
       " 'max_depth': 7,\n",
       " 'n_estimators': 100,\n",
       " 'subsample': 1}"
      ]
     },
     "execution_count": 814,
     "metadata": {},
     "output_type": "execute_result"
    }
   ],
   "source": [
    "parameters={\"n_estimators\":[100,70,50],'learning_rate':[0.1,0.01],'max_depth':[3,5,7],'subsample':[0.8,1],'eval_metric':['mlogloss','logloss']}\n",
    "clf = GridSearchCV(XGBClassifier(), parameters, cv=5,scoring=\"roc_auc\")\n",
    "clf.fit(x2,y2)\n",
    "clf.best_params_"
   ]
  },
  {
   "cell_type": "code",
   "execution_count": 830,
   "id": "4c8818f2",
   "metadata": {},
   "outputs": [
    {
     "name": "stdout",
     "output_type": "stream",
     "text": [
      "XGBClassifier(base_score=0.5, booster='gbtree', colsample_bylevel=1,\n",
      "              colsample_bynode=1, colsample_bytree=0.8, eval_metric='mlogloss',\n",
      "              gamma=1, gpu_id=-1, importance_type='gain',\n",
      "              interaction_constraints='', learning_rate=0.1, max_delta_step=0,\n",
      "              max_depth=7, min_child_weight=1, missing=nan,\n",
      "              monotone_constraints='()', n_estimators=200, n_jobs=8,\n",
      "              num_parallel_tree=1, random_state=0, reg_alpha=0.3, reg_lambda=1,\n",
      "              scale_pos_weight=1, subsample=1, tree_method='exact',\n",
      "              validate_parameters=1, verbosity=None) \n",
      "\n",
      " score: \n",
      " 92.91973969631236\n",
      "auc roc score: 90.49231366393161\n",
      " F1 score: 90.54552774609138\n",
      "Accuracy scoer:\n",
      " 90.49193602807208\n",
      "Confusion_matrix:\n",
      " [[6663  751]\n",
      " [ 658 6747]]\n",
      "Classification report:\n",
      "               precision    recall  f1-score   support\n",
      "\n",
      "           0       0.91      0.90      0.90      7414\n",
      "           1       0.90      0.91      0.91      7405\n",
      "\n",
      "    accuracy                           0.90     14819\n",
      "   macro avg       0.90      0.90      0.90     14819\n",
      "weighted avg       0.90      0.90      0.90     14819\n",
      "\n"
     ]
    }
   ],
   "source": [
    "xg1=XGBClassifier(scale_pos_weight=1,\n",
    "                      learning_rate=0.1,  \n",
    "                      colsample_bytree = 0.8,\n",
    "                      subsample =1, \n",
    "                      n_estimators=200, \n",
    "                      reg_alpha = 0.3,\n",
    "                      max_depth=7, \n",
    "                      gamma=1,\n",
    "                 eval_metric='mlogloss')\n",
    "xg1.fit(x_train,y_train)\n",
    "print(xg1,'\\n\\n score: \\n',xg1.score(x_train,y_train)*100)\n",
    "pred_xg=xg1.predict(x_test)\n",
    "print('auc roc score:',roc_auc_score(y_test,pred_xg)*100)\n",
    "print(' F1 score:',f1_score(y_test,pred_xg)*100)\n",
    "print('Accuracy scoer:\\n',accuracy_score(y_test,pred_xg)*100)\n",
    "print('Confusion_matrix:\\n',confusion_matrix(y_test,pred_xg))\n",
    "print('Classification report:\\n',classification_report(y_test,pred_xg))\n"
   ]
  },
  {
   "cell_type": "code",
   "execution_count": 816,
   "id": "133381e8",
   "metadata": {
    "scrolled": false
   },
   "outputs": [
    {
     "name": "stdout",
     "output_type": "stream",
     "text": [
      "cv value: 2\n",
      "cross value score: 85.48609142810868\n",
      "actual score: 90.62735755319561\n",
      "cv value: 3\n",
      "cross value score: 85.33035836635928\n",
      "actual score: 90.62735755319561\n",
      "cv value: 4\n",
      "cross value score: 88.52108527704007\n",
      "actual score: 90.62735755319561\n",
      "cv value: 5\n",
      "cross value score: 89.37531722421991\n",
      "actual score: 90.62735755319561\n",
      "cv value: 6\n",
      "cross value score: 89.59829185964611\n",
      "actual score: 90.62735755319561\n",
      "cv value: 7\n",
      "cross value score: 89.74812794001586\n",
      "actual score: 90.62735755319561\n",
      "cv value: 8\n",
      "cross value score: 90.00321906283237\n",
      "actual score: 90.62735755319561\n",
      "cv value: 9\n",
      "cross value score: 90.05586931438636\n",
      "actual score: 90.62735755319561\n",
      "cv value: 10\n",
      "cross value score: 90.0256276369276\n",
      "actual score: 90.62735755319561\n",
      "cv value: 11\n",
      "cross value score: 90.22813799293262\n",
      "actual score: 90.62735755319561\n",
      "cv value: 12\n",
      "cross value score: 90.24818105874502\n",
      "actual score: 90.62735755319561\n",
      "cv value: 13\n",
      "cross value score: 90.27060871548342\n",
      "actual score: 90.62735755319561\n"
     ]
    }
   ],
   "source": [
    "for i in range(2,14):\n",
    "    crs_score=cross_val_score(xg1,x2,y2,cv=i)\n",
    "    score=crs_score.mean()\n",
    "    print('cv value:',i)\n",
    "    print('cross value score:',score*100)\n",
    "    print('actual score:',roc_auc_score(y_test,pred_xg)*100)"
   ]
  },
  {
   "cell_type": "code",
   "execution_count": 817,
   "id": "7bffff7e",
   "metadata": {},
   "outputs": [
    {
     "name": "stdout",
     "output_type": "stream",
     "text": [
      "CV mean 0.9027060871548341\n",
      "std: 0.06148780109381461\n"
     ]
    }
   ],
   "source": [
    "warnings.filterwarnings(\"ignore\") \n",
    "scores=cross_val_score(xg1,x2,y2,cv=13)\n",
    "score=np.mean(scores)\n",
    "std=np.std(scores)\n",
    "print('CV mean',score)\n",
    "print('std:',std)"
   ]
  },
  {
   "cell_type": "markdown",
   "id": "b55967e3",
   "metadata": {},
   "source": [
    "### ensemble"
   ]
  },
  {
   "cell_type": "code",
   "execution_count": 819,
   "id": "5cce665f",
   "metadata": {},
   "outputs": [],
   "source": [
    "from sklearn.ensemble import RandomForestClassifier,AdaBoostClassifier,GradientBoostingClassifier,BaggingClassifier"
   ]
  },
  {
   "cell_type": "code",
   "execution_count": 820,
   "id": "f84daacf",
   "metadata": {},
   "outputs": [
    {
     "name": "stdout",
     "output_type": "stream",
     "text": [
      "RandomForestClassifier() \n",
      "\n",
      " score: \n",
      " 99.99710773680405\n",
      "auc roc score 89.68993365654737\n",
      " F1 score: 89.85391766268259\n",
      "Accuracy scoer:\n",
      " 89.6889128821108\n",
      "Confusion_matrix:\n",
      " [[6525  889]\n",
      " [ 639 6766]]\n",
      "Classification report:\n",
      "               precision    recall  f1-score   support\n",
      "\n",
      "           0       0.91      0.88      0.90      7414\n",
      "           1       0.88      0.91      0.90      7405\n",
      "\n",
      "    accuracy                           0.90     14819\n",
      "   macro avg       0.90      0.90      0.90     14819\n",
      "weighted avg       0.90      0.90      0.90     14819\n",
      "\n",
      "\n",
      "\n",
      "AdaBoostClassifier() \n",
      "\n",
      " score: \n",
      " 85.23788864786695\n",
      "auc roc score 84.77759014598547\n",
      " F1 score: 85.08528361761205\n",
      "Accuracy scoer:\n",
      " 84.77630069505365\n",
      "Confusion_matrix:\n",
      " [[6128 1286]\n",
      " [ 970 6435]]\n",
      "Classification report:\n",
      "               precision    recall  f1-score   support\n",
      "\n",
      "           0       0.86      0.83      0.84      7414\n",
      "           1       0.83      0.87      0.85      7405\n",
      "\n",
      "    accuracy                           0.85     14819\n",
      "   macro avg       0.85      0.85      0.85     14819\n",
      "weighted avg       0.85      0.85      0.85     14819\n",
      "\n",
      "\n",
      "\n",
      "GradientBoostingClassifier() \n",
      "\n",
      " score: \n",
      " 86.77368040491685\n",
      "auc roc score 86.43143517192048\n",
      " F1 score: 86.82434645875647\n",
      "Accuracy scoer:\n",
      " 86.42958364262095\n",
      "Confusion_matrix:\n",
      " [[6182 1232]\n",
      " [ 779 6626]]\n",
      "Classification report:\n",
      "               precision    recall  f1-score   support\n",
      "\n",
      "           0       0.89      0.83      0.86      7414\n",
      "           1       0.84      0.89      0.87      7405\n",
      "\n",
      "    accuracy                           0.86     14819\n",
      "   macro avg       0.87      0.86      0.86     14819\n",
      "weighted avg       0.87      0.86      0.86     14819\n",
      "\n",
      "\n",
      "\n",
      "BaggingClassifier() \n",
      "\n",
      " score: \n",
      " 99.18727404193781\n",
      "auc roc score 88.29844881674487\n",
      " F1 score: 88.22330888345559\n",
      "Accuracy scoer:\n",
      " 88.29880558742155\n",
      "Confusion_matrix:\n",
      " [[6590  824]\n",
      " [ 910 6495]]\n",
      "Classification report:\n",
      "               precision    recall  f1-score   support\n",
      "\n",
      "           0       0.88      0.89      0.88      7414\n",
      "           1       0.89      0.88      0.88      7405\n",
      "\n",
      "    accuracy                           0.88     14819\n",
      "   macro avg       0.88      0.88      0.88     14819\n",
      "weighted avg       0.88      0.88      0.88     14819\n",
      "\n",
      "\n",
      "\n"
     ]
    }
   ],
   "source": [
    "ensemble=[RandomForestClassifier(),AdaBoostClassifier(),GradientBoostingClassifier(),BaggingClassifier()]\n",
    "for i in ensemble:\n",
    "    i.fit(x_train,y_train)\n",
    "    print(i,'\\n\\n score: \\n',i.score(x_train,y_train)*100)\n",
    "    pred=i.predict(x_test)\n",
    "    print('auc roc score',roc_auc_score(y_test,pred)*100)\n",
    "    print(' F1 score:',f1_score(y_test,pred)*100)\n",
    "    print('Accuracy scoer:\\n',accuracy_score(y_test,pred)*100)\n",
    "    print('Confusion_matrix:\\n',confusion_matrix(y_test,pred))\n",
    "    print('Classification report:\\n',classification_report(y_test,pred))\n",
    "    print('\\n')"
   ]
  },
  {
   "cell_type": "code",
   "execution_count": 821,
   "id": "4e00e3e6",
   "metadata": {},
   "outputs": [
    {
     "data": {
      "text/plain": [
       "{'class_weight': 'balanced',\n",
       " 'criterion': 'entropy',\n",
       " 'max_features': 'auto',\n",
       " 'n_estimators': 100}"
      ]
     },
     "execution_count": 821,
     "metadata": {},
     "output_type": "execute_result"
    }
   ],
   "source": [
    "parameters={\"n_estimators\":[100,70,50],'criterion':['gini', 'entropy'],'max_features':['auto', 'sqrt', 'log2'],'class_weight':['balanced','balanced_subsample']}\n",
    "clf = GridSearchCV(RandomForestClassifier(), parameters, cv=5,scoring=\"roc_auc\")\n",
    "clf.fit(x2,y2)\n",
    "clf.best_params_"
   ]
  },
  {
   "cell_type": "code",
   "execution_count": 831,
   "id": "5efda382",
   "metadata": {},
   "outputs": [
    {
     "name": "stdout",
     "output_type": "stream",
     "text": [
      "RandomForestClassifier(class_weight='balanced', criterion='entropy') \n",
      "\n",
      " score: \n",
      " 99.99710773680405\n",
      "auc roc score: 89.87867543328707\n",
      " F1 score: 90.00666222518322\n",
      "Accuracy scoer:\n",
      " 89.87785950468992\n",
      "Confusion_matrix:\n",
      " [[6564  850]\n",
      " [ 650 6755]]\n",
      "Classification report:\n",
      "               precision    recall  f1-score   support\n",
      "\n",
      "           0       0.91      0.89      0.90      7414\n",
      "           1       0.89      0.91      0.90      7405\n",
      "\n",
      "    accuracy                           0.90     14819\n",
      "   macro avg       0.90      0.90      0.90     14819\n",
      "weighted avg       0.90      0.90      0.90     14819\n",
      "\n"
     ]
    }
   ],
   "source": [
    "rf=RandomForestClassifier(n_estimators=100,max_features='auto',criterion='entropy',class_weight='balanced')\n",
    "rf.fit(x_train,y_train)\n",
    "print(rf,'\\n\\n score: \\n',rf.score(x_train,y_train)*100)\n",
    "pred_rf=rf.predict(x_test)\n",
    "print('auc roc score:',roc_auc_score(y_test,pred_rf)*100)\n",
    "print(' F1 score:',f1_score(y_test,pred_rf)*100)\n",
    "print('Accuracy scoer:\\n',accuracy_score(y_test,pred_rf)*100)\n",
    "print('Confusion_matrix:\\n',confusion_matrix(y_test,pred_rf))\n",
    "print('Classification report:\\n',classification_report(y_test,pred_rf))"
   ]
  },
  {
   "cell_type": "code",
   "execution_count": 823,
   "id": "2ea875d2",
   "metadata": {},
   "outputs": [
    {
     "name": "stdout",
     "output_type": "stream",
     "text": [
      "cv value: 2\n",
      "cross value score: 88.63424707454347\n",
      "actual score: 89.81135020756578\n",
      "cv value: 3\n",
      "cross value score: 89.28620872813718\n",
      "actual score: 89.81135020756578\n",
      "cv value: 4\n",
      "cross value score: 89.67497912522172\n",
      "actual score: 89.81135020756578\n",
      "cv value: 5\n",
      "cross value score: 90.00289327958806\n",
      "actual score: 89.81135020756578\n",
      "cv value: 6\n",
      "cross value score: 90.14681714391318\n",
      "actual score: 89.81135020756578\n",
      "cv value: 7\n",
      "cross value score: 90.16303461943629\n",
      "actual score: 89.81135020756578\n",
      "cv value: 8\n",
      "cross value score: 90.23998280630934\n",
      "actual score: 89.81135020756578\n",
      "cv value: 9\n",
      "cross value score: 90.28048071287613\n",
      "actual score: 89.81135020756578\n",
      "cv value: 10\n",
      "cross value score: 90.34130849808966\n",
      "actual score: 89.81135020756578\n",
      "cv value: 11\n",
      "cross value score: 90.37578745712162\n",
      "actual score: 89.81135020756578\n"
     ]
    }
   ],
   "source": [
    "for i in range(2,12):\n",
    "    crs_score=cross_val_score(rf,x2,y2,cv=i)\n",
    "    score=crs_score.mean()\n",
    "    print('cv value:',i)\n",
    "    print('cross value score:',score*100)\n",
    "    print('actual score:',roc_auc_score(y_test,pred_rf)*100)"
   ]
  },
  {
   "cell_type": "code",
   "execution_count": 824,
   "id": "f7c46adf",
   "metadata": {},
   "outputs": [
    {
     "name": "stdout",
     "output_type": "stream",
     "text": [
      "CV mean 0.9012252195736964\n",
      "std: 0.042111678608144215\n"
     ]
    }
   ],
   "source": [
    "scores=cross_val_score(rf,x2,y2,cv=6)\n",
    "score=np.mean(scores)\n",
    "std=np.std(scores)\n",
    "print('CV mean',score)\n",
    "print('std:',std)"
   ]
  },
  {
   "cell_type": "code",
   "execution_count": 825,
   "id": "27746a46",
   "metadata": {
    "scrolled": true
   },
   "outputs": [
    {
     "name": "stdout",
     "output_type": "stream",
     "text": [
      "AUC roc score:  90.62735755319561\n"
     ]
    },
    {
     "data": {
      "image/png": "[encoded data removed]",
      "text/plain": [
       "<Figure size 432x288 with 1 Axes>"
      ]
     },
     "metadata": {
      "needs_background": "light"
     },
     "output_type": "display_data"
    }
   ],
   "source": [
    "fpr, tpr, threshold = roc_curve(y_test,pred_xg)\n",
    "print('AUC roc score: ',roc_auc_score(y_test,pred_xg)*100)\n",
    "plt.plot(fpr, tpr, color ='orange', label ='ROC')\n",
    "plt.plot([0, 1], [0, 1], color='darkblue', linestyle='--', label ='ROC curve')\n",
    "plt.xlabel('False Positive Rate')\n",
    "plt.ylabel('True Positive Rate')\n",
    "plt.title('XGBoost classification')\n",
    "plt.legend()\n",
    "plt.show()"
   ]
  },
  {
   "cell_type": "markdown",
   "id": "91ade731",
   "metadata": {},
   "source": [
    "### Saving best modelas XGBoost classifier base on less difference in cv score and train test score less chance of overfitting"
   ]
  },
  {
   "cell_type": "code",
   "execution_count": 826,
   "id": "e034b264",
   "metadata": {},
   "outputs": [
    {
     "data": {
      "text/html": [
       "<div>\n",
       "<style scoped>\n",
       "    .dataframe tbody tr th:only-of-type {\n",
       "        vertical-align: middle;\n",
       "    }\n",
       "\n",
       "    .dataframe tbody tr th {\n",
       "        vertical-align: top;\n",
       "    }\n",
       "\n",
       "    .dataframe thead th {\n",
       "        text-align: right;\n",
       "    }\n",
       "</style>\n",
       "<table border=\"1\" class=\"dataframe\">\n",
       "  <thead>\n",
       "    <tr style=\"text-align: right;\">\n",
       "      <th></th>\n",
       "      <th>Actual</th>\n",
       "      <th>Prediction</th>\n",
       "    </tr>\n",
       "  </thead>\n",
       "  <tbody>\n",
       "    <tr>\n",
       "      <th>20384</th>\n",
       "      <td>0</td>\n",
       "      <td>0</td>\n",
       "    </tr>\n",
       "    <tr>\n",
       "      <th>9479</th>\n",
       "      <td>0</td>\n",
       "      <td>0</td>\n",
       "    </tr>\n",
       "    <tr>\n",
       "      <th>6802</th>\n",
       "      <td>0</td>\n",
       "      <td>0</td>\n",
       "    </tr>\n",
       "    <tr>\n",
       "      <th>31721</th>\n",
       "      <td>1</td>\n",
       "      <td>1</td>\n",
       "    </tr>\n",
       "    <tr>\n",
       "      <th>7955</th>\n",
       "      <td>1</td>\n",
       "      <td>0</td>\n",
       "    </tr>\n",
       "    <tr>\n",
       "      <th>...</th>\n",
       "      <td>...</td>\n",
       "      <td>...</td>\n",
       "    </tr>\n",
       "    <tr>\n",
       "      <th>29982</th>\n",
       "      <td>0</td>\n",
       "      <td>0</td>\n",
       "    </tr>\n",
       "    <tr>\n",
       "      <th>13699</th>\n",
       "      <td>0</td>\n",
       "      <td>0</td>\n",
       "    </tr>\n",
       "    <tr>\n",
       "      <th>38807</th>\n",
       "      <td>1</td>\n",
       "      <td>1</td>\n",
       "    </tr>\n",
       "    <tr>\n",
       "      <th>29384</th>\n",
       "      <td>1</td>\n",
       "      <td>1</td>\n",
       "    </tr>\n",
       "    <tr>\n",
       "      <th>9711</th>\n",
       "      <td>1</td>\n",
       "      <td>1</td>\n",
       "    </tr>\n",
       "  </tbody>\n",
       "</table>\n",
       "<p>14819 rows × 2 columns</p>\n",
       "</div>"
      ],
      "text/plain": [
       "       Actual  Prediction\n",
       "20384       0           0\n",
       "9479        0           0\n",
       "6802        0           0\n",
       "31721       1           1\n",
       "7955        1           0\n",
       "...       ...         ...\n",
       "29982       0           0\n",
       "13699       0           0\n",
       "38807       1           1\n",
       "29384       1           1\n",
       "9711        1           1\n",
       "\n",
       "[14819 rows x 2 columns]"
      ]
     },
     "execution_count": 826,
     "metadata": {},
     "output_type": "execute_result"
    }
   ],
   "source": [
    "# saving model\n",
    "import joblib\n",
    "joblib.dump(xg1,'censusincome.obj')\n",
    "censusincome=joblib.load('censusincome.obj')\n",
    "pd.DataFrame({'Actual':y_test,'Prediction':pred_xg})"
   ]
  }
 ],
 "metadata": {
  "kernelspec": {
   "display_name": "Python 3",
   "language": "python",
   "name": "python3"
  }
 },
 "nbformat": 4,
 "nbformat_minor": 5
}
